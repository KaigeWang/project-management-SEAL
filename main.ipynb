{
 "cells": [
  {
   "cell_type": "code",
   "execution_count": 17,
   "metadata": {},
   "outputs": [],
   "source": [
    "import plotly.express as px\n",
    "import pandas as pd\n",
    "from datetime import date"
   ]
  },
  {
   "cell_type": "code",
   "execution_count": 18,
   "metadata": {},
   "outputs": [],
   "source": [
    "def readRawFile(sheet):\n",
    "    df = pd.read_excel('Project and tasks.xlsx', sheet_name=sheet)\n",
    "    df['Task ID'] = df['Task ID'].astype(str)\n",
    "    df = df.rename(columns={'Finished':'Progress'})\n",
    "    df.loc[:,'Progress'].replace(False, 'In progress', regex=True, inplace=True)\n",
    "    df.loc[:,'Progress'].replace(True, 'Finished', regex=True, inplace=True)\n",
    "    df[[\"Start\", \"End\"]] = df[[\"Start\", \"End\"]].apply(pd.to_datetime)\n",
    "    return df\n",
    "    \n"
   ]
  },
  {
   "cell_type": "code",
   "execution_count": 19,
   "metadata": {},
   "outputs": [
    {
     "name": "stderr",
     "output_type": "stream",
     "text": [
      "d:\\Program Files (x86)\\Anaconda\\envs\\game-theory\\lib\\site-packages\\pandas\\core\\apply.py:867: UserWarning:\n",
      "\n",
      "Parsing '20/06/2022' in DD/MM/YYYY format. Provide format or specify infer_datetime_format=True for consistent parsing.\n",
      "\n",
      "d:\\Program Files (x86)\\Anaconda\\envs\\game-theory\\lib\\site-packages\\pandas\\core\\apply.py:867: UserWarning:\n",
      "\n",
      "Parsing '30/06/2022' in DD/MM/YYYY format. Provide format or specify infer_datetime_format=True for consistent parsing.\n",
      "\n",
      "d:\\Program Files (x86)\\Anaconda\\envs\\game-theory\\lib\\site-packages\\pandas\\core\\apply.py:867: UserWarning:\n",
      "\n",
      "Parsing '31/05/2022' in DD/MM/YYYY format. Provide format or specify infer_datetime_format=True for consistent parsing.\n",
      "\n",
      "d:\\Program Files (x86)\\Anaconda\\envs\\game-theory\\lib\\site-packages\\pandas\\core\\apply.py:867: UserWarning:\n",
      "\n",
      "Parsing '31/12/2022' in DD/MM/YYYY format. Provide format or specify infer_datetime_format=True for consistent parsing.\n",
      "\n"
     ]
    }
   ],
   "source": [
    "tasks = readRawFile('Sheet1')\n",
    "tasks.loc[tasks['Progress'] == 'Finished', 'Project'] = 'Finished task'\n",
    "\n",
    "publications = readRawFile('Sheet2')\n",
    "publications.loc[publications['Progress'] == 'Finished', 'Project'] = 'Finished task'\n",
    "publications.loc[publications['Project'] != 'Finished task','Project'] = publications['Participants']\n"
   ]
  },
  {
   "cell_type": "code",
   "execution_count": 20,
   "metadata": {},
   "outputs": [],
   "source": [
    "today = date.today()"
   ]
  },
  {
   "cell_type": "code",
   "execution_count": 21,
   "metadata": {},
   "outputs": [
    {
     "data": {
      "text/html": [
       "<div>\n",
       "<style scoped>\n",
       "    .dataframe tbody tr th:only-of-type {\n",
       "        vertical-align: middle;\n",
       "    }\n",
       "\n",
       "    .dataframe tbody tr th {\n",
       "        vertical-align: top;\n",
       "    }\n",
       "\n",
       "    .dataframe thead th {\n",
       "        text-align: right;\n",
       "    }\n",
       "</style>\n",
       "<table border=\"1\" class=\"dataframe\">\n",
       "  <thead>\n",
       "    <tr style=\"text-align: right;\">\n",
       "      <th></th>\n",
       "      <th>Task ID</th>\n",
       "      <th>Project</th>\n",
       "      <th>Description</th>\n",
       "      <th>Start</th>\n",
       "      <th>End</th>\n",
       "      <th>Progress</th>\n",
       "      <th>Participants</th>\n",
       "    </tr>\n",
       "  </thead>\n",
       "  <tbody>\n",
       "    <tr>\n",
       "      <th>0</th>\n",
       "      <td>0</td>\n",
       "      <td>BIPV mapping</td>\n",
       "      <td>Data assessment</td>\n",
       "      <td>2022-04-08</td>\n",
       "      <td>2022-05-15</td>\n",
       "      <td>In progress</td>\n",
       "      <td>Frank</td>\n",
       "    </tr>\n",
       "    <tr>\n",
       "      <th>1</th>\n",
       "      <td>1</td>\n",
       "      <td>BIPV mapping</td>\n",
       "      <td>Data assessment</td>\n",
       "      <td>2022-04-08</td>\n",
       "      <td>2022-05-31</td>\n",
       "      <td>In progress</td>\n",
       "      <td>Gavin</td>\n",
       "    </tr>\n",
       "    <tr>\n",
       "      <th>2</th>\n",
       "      <td>2</td>\n",
       "      <td>BIPV mapping</td>\n",
       "      <td>Paper writing</td>\n",
       "      <td>2022-04-08</td>\n",
       "      <td>2022-08-01</td>\n",
       "      <td>In progress</td>\n",
       "      <td>Nilmini, Gavin, Frank</td>\n",
       "    </tr>\n",
       "    <tr>\n",
       "      <th>3</th>\n",
       "      <td>3</td>\n",
       "      <td>Urban BIPV</td>\n",
       "      <td>Research design flowchart</td>\n",
       "      <td>2022-04-08</td>\n",
       "      <td>2022-04-22</td>\n",
       "      <td>In progress</td>\n",
       "      <td>Gregory</td>\n",
       "    </tr>\n",
       "    <tr>\n",
       "      <th>4</th>\n",
       "      <td>4</td>\n",
       "      <td>Urban BIPV</td>\n",
       "      <td>Study location selection</td>\n",
       "      <td>2022-04-08</td>\n",
       "      <td>2022-05-01</td>\n",
       "      <td>In progress</td>\n",
       "      <td>Ingrid</td>\n",
       "    </tr>\n",
       "    <tr>\n",
       "      <th>5</th>\n",
       "      <td>5</td>\n",
       "      <td>Urban BIPV</td>\n",
       "      <td>Solar irradiation simulation</td>\n",
       "      <td>2022-04-08</td>\n",
       "      <td>2022-06-01</td>\n",
       "      <td>In progress</td>\n",
       "      <td>Gavin</td>\n",
       "    </tr>\n",
       "    <tr>\n",
       "      <th>6</th>\n",
       "      <td>6</td>\n",
       "      <td>Urban BIPV</td>\n",
       "      <td>Select 2-3 buildings/ BIPV products</td>\n",
       "      <td>2022-04-08</td>\n",
       "      <td>2022-06-01</td>\n",
       "      <td>In progress</td>\n",
       "      <td>Ingrid</td>\n",
       "    </tr>\n",
       "    <tr>\n",
       "      <th>7</th>\n",
       "      <td>7</td>\n",
       "      <td>Urban BIPV</td>\n",
       "      <td>Economic assessment</td>\n",
       "      <td>2022-04-08</td>\n",
       "      <td>2022-06-01</td>\n",
       "      <td>In progress</td>\n",
       "      <td>Ingrid</td>\n",
       "    </tr>\n",
       "    <tr>\n",
       "      <th>8</th>\n",
       "      <td>8</td>\n",
       "      <td>Urban BIPV</td>\n",
       "      <td>Review paper</td>\n",
       "      <td>2022-04-08</td>\n",
       "      <td>2022-05-01</td>\n",
       "      <td>In progress</td>\n",
       "      <td>Ingrid</td>\n",
       "    </tr>\n",
       "    <tr>\n",
       "      <th>9</th>\n",
       "      <td>9</td>\n",
       "      <td>Finished task</td>\n",
       "      <td>Stakeholder attributes</td>\n",
       "      <td>2022-04-08</td>\n",
       "      <td>2022-04-22</td>\n",
       "      <td>Finished</td>\n",
       "      <td>Ivan</td>\n",
       "    </tr>\n",
       "    <tr>\n",
       "      <th>10</th>\n",
       "      <td>10</td>\n",
       "      <td>Finished task</td>\n",
       "      <td>Distribution of product info</td>\n",
       "      <td>2022-04-08</td>\n",
       "      <td>2022-05-01</td>\n",
       "      <td>Finished</td>\n",
       "      <td>Jiaqi</td>\n",
       "    </tr>\n",
       "    <tr>\n",
       "      <th>11</th>\n",
       "      <td>11</td>\n",
       "      <td>Product info</td>\n",
       "      <td>Provide contribution</td>\n",
       "      <td>2022-04-08</td>\n",
       "      <td>2022-06-01</td>\n",
       "      <td>In progress</td>\n",
       "      <td>All</td>\n",
       "    </tr>\n",
       "    <tr>\n",
       "      <th>12</th>\n",
       "      <td>12</td>\n",
       "      <td>STA</td>\n",
       "      <td>Internal draft</td>\n",
       "      <td>2022-04-08</td>\n",
       "      <td>2022-04-26</td>\n",
       "      <td>In progress</td>\n",
       "      <td>Nilmini, Pabasara, Chathuri</td>\n",
       "    </tr>\n",
       "    <tr>\n",
       "      <th>13</th>\n",
       "      <td>13</td>\n",
       "      <td>STA</td>\n",
       "      <td>External review</td>\n",
       "      <td>2022-04-08</td>\n",
       "      <td>2022-06-01</td>\n",
       "      <td>In progress</td>\n",
       "      <td>Nilmini, Pabasara, Chathuri</td>\n",
       "    </tr>\n",
       "    <tr>\n",
       "      <th>14</th>\n",
       "      <td>14</td>\n",
       "      <td>Finished task</td>\n",
       "      <td>VCG/KDA/TR -&gt;PV/PV+Battery</td>\n",
       "      <td>2022-04-08</td>\n",
       "      <td>2022-04-22</td>\n",
       "      <td>Finished</td>\n",
       "      <td>Kaige</td>\n",
       "    </tr>\n",
       "    <tr>\n",
       "      <th>15</th>\n",
       "      <td>15</td>\n",
       "      <td>Finished task</td>\n",
       "      <td>Coorpeartive GT  -&gt;PV/PV+Battery</td>\n",
       "      <td>2022-04-08</td>\n",
       "      <td>2022-04-22</td>\n",
       "      <td>Finished</td>\n",
       "      <td>Kaige</td>\n",
       "    </tr>\n",
       "    <tr>\n",
       "      <th>16</th>\n",
       "      <td>16</td>\n",
       "      <td>Grid impact on P2P</td>\n",
       "      <td>Explanation of GT</td>\n",
       "      <td>2022-04-08</td>\n",
       "      <td>2022-05-01</td>\n",
       "      <td>In progress</td>\n",
       "      <td>Kaige</td>\n",
       "    </tr>\n",
       "    <tr>\n",
       "      <th>17</th>\n",
       "      <td>17</td>\n",
       "      <td>Grid impact on P2P</td>\n",
       "      <td>Chaperter on P2P</td>\n",
       "      <td>2022-04-08</td>\n",
       "      <td>2022-05-15</td>\n",
       "      <td>In progress</td>\n",
       "      <td>Chathuri</td>\n",
       "    </tr>\n",
       "    <tr>\n",
       "      <th>18</th>\n",
       "      <td>18</td>\n",
       "      <td>Grid impact on P2P</td>\n",
       "      <td>Chaperter on BIPV</td>\n",
       "      <td>2022-04-08</td>\n",
       "      <td>2022-05-31</td>\n",
       "      <td>In progress</td>\n",
       "      <td>Chathuri</td>\n",
       "    </tr>\n",
       "    <tr>\n",
       "      <th>19</th>\n",
       "      <td>19</td>\n",
       "      <td>Grid impact on P2P</td>\n",
       "      <td>Two paper for GT</td>\n",
       "      <td>2022-04-08</td>\n",
       "      <td>2022-06-30</td>\n",
       "      <td>In progress</td>\n",
       "      <td>Chathuri</td>\n",
       "    </tr>\n",
       "    <tr>\n",
       "      <th>20</th>\n",
       "      <td>20</td>\n",
       "      <td>Design Hub</td>\n",
       "      <td>All simulation</td>\n",
       "      <td>2022-04-08</td>\n",
       "      <td>2022-04-22</td>\n",
       "      <td>In progress</td>\n",
       "      <td>Sujan</td>\n",
       "    </tr>\n",
       "    <tr>\n",
       "      <th>21</th>\n",
       "      <td>21</td>\n",
       "      <td>BIPV Enabler</td>\n",
       "      <td>Report</td>\n",
       "      <td>2022-04-08</td>\n",
       "      <td>2022-04-30</td>\n",
       "      <td>In progress</td>\n",
       "      <td>Pabasara</td>\n",
       "    </tr>\n",
       "    <tr>\n",
       "      <th>22</th>\n",
       "      <td>22</td>\n",
       "      <td>BIPV Enabler</td>\n",
       "      <td>Industry workshop/travelling</td>\n",
       "      <td>2022-04-08</td>\n",
       "      <td>2022-04-30</td>\n",
       "      <td>In progress</td>\n",
       "      <td>Rebecca</td>\n",
       "    </tr>\n",
       "  </tbody>\n",
       "</table>\n",
       "</div>"
      ],
      "text/plain": [
       "   Task ID             Project                          Description  \\\n",
       "0        0        BIPV mapping                      Data assessment   \n",
       "1        1        BIPV mapping                      Data assessment   \n",
       "2        2        BIPV mapping                        Paper writing   \n",
       "3        3          Urban BIPV            Research design flowchart   \n",
       "4        4          Urban BIPV             Study location selection   \n",
       "5        5          Urban BIPV         Solar irradiation simulation   \n",
       "6        6          Urban BIPV  Select 2-3 buildings/ BIPV products   \n",
       "7        7          Urban BIPV                  Economic assessment   \n",
       "8        8          Urban BIPV                         Review paper   \n",
       "9        9       Finished task               Stakeholder attributes   \n",
       "10      10       Finished task         Distribution of product info   \n",
       "11      11        Product info                 Provide contribution   \n",
       "12      12                 STA                       Internal draft   \n",
       "13      13                 STA                      External review   \n",
       "14      14       Finished task           VCG/KDA/TR ->PV/PV+Battery   \n",
       "15      15       Finished task     Coorpeartive GT  ->PV/PV+Battery   \n",
       "16      16  Grid impact on P2P                    Explanation of GT   \n",
       "17      17  Grid impact on P2P                     Chaperter on P2P   \n",
       "18      18  Grid impact on P2P                    Chaperter on BIPV   \n",
       "19      19  Grid impact on P2P                     Two paper for GT   \n",
       "20      20          Design Hub                       All simulation   \n",
       "21      21        BIPV Enabler                               Report   \n",
       "22      22        BIPV Enabler         Industry workshop/travelling   \n",
       "\n",
       "        Start        End     Progress                 Participants  \n",
       "0  2022-04-08 2022-05-15  In progress                        Frank  \n",
       "1  2022-04-08 2022-05-31  In progress                        Gavin  \n",
       "2  2022-04-08 2022-08-01  In progress        Nilmini, Gavin, Frank  \n",
       "3  2022-04-08 2022-04-22  In progress                      Gregory  \n",
       "4  2022-04-08 2022-05-01  In progress                       Ingrid  \n",
       "5  2022-04-08 2022-06-01  In progress                        Gavin  \n",
       "6  2022-04-08 2022-06-01  In progress                       Ingrid  \n",
       "7  2022-04-08 2022-06-01  In progress                       Ingrid  \n",
       "8  2022-04-08 2022-05-01  In progress                       Ingrid  \n",
       "9  2022-04-08 2022-04-22     Finished                         Ivan  \n",
       "10 2022-04-08 2022-05-01     Finished                        Jiaqi  \n",
       "11 2022-04-08 2022-06-01  In progress                          All  \n",
       "12 2022-04-08 2022-04-26  In progress  Nilmini, Pabasara, Chathuri  \n",
       "13 2022-04-08 2022-06-01  In progress  Nilmini, Pabasara, Chathuri  \n",
       "14 2022-04-08 2022-04-22     Finished                        Kaige  \n",
       "15 2022-04-08 2022-04-22     Finished                        Kaige  \n",
       "16 2022-04-08 2022-05-01  In progress                        Kaige  \n",
       "17 2022-04-08 2022-05-15  In progress                     Chathuri  \n",
       "18 2022-04-08 2022-05-31  In progress                     Chathuri  \n",
       "19 2022-04-08 2022-06-30  In progress                     Chathuri  \n",
       "20 2022-04-08 2022-04-22  In progress                        Sujan  \n",
       "21 2022-04-08 2022-04-30  In progress                     Pabasara  \n",
       "22 2022-04-08 2022-04-30  In progress                      Rebecca  "
      ]
     },
     "execution_count": 21,
     "metadata": {},
     "output_type": "execute_result"
    }
   ],
   "source": [
    "tasks"
   ]
  },
  {
   "cell_type": "code",
   "execution_count": 22,
   "metadata": {},
   "outputs": [
    {
     "data": {
      "text/html": [
       "<div>\n",
       "<style scoped>\n",
       "    .dataframe tbody tr th:only-of-type {\n",
       "        vertical-align: middle;\n",
       "    }\n",
       "\n",
       "    .dataframe tbody tr th {\n",
       "        vertical-align: top;\n",
       "    }\n",
       "\n",
       "    .dataframe thead th {\n",
       "        text-align: right;\n",
       "    }\n",
       "</style>\n",
       "<table border=\"1\" class=\"dataframe\">\n",
       "  <thead>\n",
       "    <tr style=\"text-align: right;\">\n",
       "      <th></th>\n",
       "      <th>Task ID</th>\n",
       "      <th>Project</th>\n",
       "      <th>Description</th>\n",
       "      <th>Start</th>\n",
       "      <th>End</th>\n",
       "      <th>Progress</th>\n",
       "      <th>Participants</th>\n",
       "    </tr>\n",
       "  </thead>\n",
       "  <tbody>\n",
       "    <tr>\n",
       "      <th>0</th>\n",
       "      <td>0</td>\n",
       "      <td>Nilmini</td>\n",
       "      <td>CIB paper camera ready copy</td>\n",
       "      <td>2022-04-22</td>\n",
       "      <td>2022-06-20</td>\n",
       "      <td>In progress</td>\n",
       "      <td>Nilmini</td>\n",
       "    </tr>\n",
       "    <tr>\n",
       "      <th>1</th>\n",
       "      <td>1</td>\n",
       "      <td>Nilmini</td>\n",
       "      <td>Monte-Carlo paper</td>\n",
       "      <td>2022-04-22</td>\n",
       "      <td>2022-06-30</td>\n",
       "      <td>In progress</td>\n",
       "      <td>Nilmini</td>\n",
       "    </tr>\n",
       "    <tr>\n",
       "      <th>2</th>\n",
       "      <td>2</td>\n",
       "      <td>Ivan</td>\n",
       "      <td>CIB paper camera ready copy</td>\n",
       "      <td>2022-04-22</td>\n",
       "      <td>2022-06-20</td>\n",
       "      <td>In progress</td>\n",
       "      <td>Ivan</td>\n",
       "    </tr>\n",
       "    <tr>\n",
       "      <th>3</th>\n",
       "      <td>3</td>\n",
       "      <td>Ivan</td>\n",
       "      <td>Paper on Geometry information of BIPV - Ivan's...</td>\n",
       "      <td>2022-04-22</td>\n",
       "      <td>2022-05-31</td>\n",
       "      <td>In progress</td>\n",
       "      <td>Ivan</td>\n",
       "    </tr>\n",
       "    <tr>\n",
       "      <th>4</th>\n",
       "      <td>4</td>\n",
       "      <td>Ivan</td>\n",
       "      <td>Paper on Geometry information of BIPV- full paper</td>\n",
       "      <td>2022-04-22</td>\n",
       "      <td>2022-06-30</td>\n",
       "      <td>In progress</td>\n",
       "      <td>Ivan</td>\n",
       "    </tr>\n",
       "    <tr>\n",
       "      <th>5</th>\n",
       "      <td>5</td>\n",
       "      <td>Ivan</td>\n",
       "      <td>Paper on Non-geometry product infromation</td>\n",
       "      <td>2022-07-01</td>\n",
       "      <td>2022-12-31</td>\n",
       "      <td>In progress</td>\n",
       "      <td>Ivan</td>\n",
       "    </tr>\n",
       "    <tr>\n",
       "      <th>6</th>\n",
       "      <td>6</td>\n",
       "      <td>Pabasara</td>\n",
       "      <td>BIM paper</td>\n",
       "      <td>2022-04-22</td>\n",
       "      <td>2022-05-15</td>\n",
       "      <td>In progress</td>\n",
       "      <td>Pabasara</td>\n",
       "    </tr>\n",
       "    <tr>\n",
       "      <th>7</th>\n",
       "      <td>7</td>\n",
       "      <td>Pabasara</td>\n",
       "      <td>BIPV design methods and workflow paper</td>\n",
       "      <td>2022-04-22</td>\n",
       "      <td>2022-05-31</td>\n",
       "      <td>In progress</td>\n",
       "      <td>Pabasara</td>\n",
       "    </tr>\n",
       "    <tr>\n",
       "      <th>8</th>\n",
       "      <td>8</td>\n",
       "      <td>Pabasara</td>\n",
       "      <td>Framework paper</td>\n",
       "      <td>2022-04-22</td>\n",
       "      <td>2022-06-30</td>\n",
       "      <td>In progress</td>\n",
       "      <td>Pabasara</td>\n",
       "    </tr>\n",
       "    <tr>\n",
       "      <th>9</th>\n",
       "      <td>9</td>\n",
       "      <td>Finished task</td>\n",
       "      <td>AIRAH Conference paper</td>\n",
       "      <td>2022-04-22</td>\n",
       "      <td>2022-04-27</td>\n",
       "      <td>Finished</td>\n",
       "      <td>Tharushi</td>\n",
       "    </tr>\n",
       "    <tr>\n",
       "      <th>10</th>\n",
       "      <td>10</td>\n",
       "      <td>Finished task</td>\n",
       "      <td>Thesis</td>\n",
       "      <td>2022-04-22</td>\n",
       "      <td>2022-04-27</td>\n",
       "      <td>Finished</td>\n",
       "      <td>Tharushi</td>\n",
       "    </tr>\n",
       "    <tr>\n",
       "      <th>11</th>\n",
       "      <td>11</td>\n",
       "      <td>Tharushi</td>\n",
       "      <td>BIPV Enabler paper structure</td>\n",
       "      <td>2022-04-22</td>\n",
       "      <td>2022-05-15</td>\n",
       "      <td>In progress</td>\n",
       "      <td>Tharushi</td>\n",
       "    </tr>\n",
       "    <tr>\n",
       "      <th>12</th>\n",
       "      <td>12</td>\n",
       "      <td>Tharushi</td>\n",
       "      <td>Case study results conference paper - Abstract</td>\n",
       "      <td>2022-04-22</td>\n",
       "      <td>2022-05-31</td>\n",
       "      <td>In progress</td>\n",
       "      <td>Tharushi</td>\n",
       "    </tr>\n",
       "    <tr>\n",
       "      <th>13</th>\n",
       "      <td>13</td>\n",
       "      <td>Finished task</td>\n",
       "      <td>Simulation process</td>\n",
       "      <td>2022-04-22</td>\n",
       "      <td>2022-04-26</td>\n",
       "      <td>Finished</td>\n",
       "      <td>Sujan</td>\n",
       "    </tr>\n",
       "    <tr>\n",
       "      <th>14</th>\n",
       "      <td>14</td>\n",
       "      <td>Sujan</td>\n",
       "      <td>Design Hub paper structure</td>\n",
       "      <td>2022-04-22</td>\n",
       "      <td>2022-05-15</td>\n",
       "      <td>In progress</td>\n",
       "      <td>Sujan</td>\n",
       "    </tr>\n",
       "    <tr>\n",
       "      <th>15</th>\n",
       "      <td>15</td>\n",
       "      <td>Ingrid</td>\n",
       "      <td>Review paper</td>\n",
       "      <td>2022-04-22</td>\n",
       "      <td>2022-05-15</td>\n",
       "      <td>In progress</td>\n",
       "      <td>Ingrid</td>\n",
       "    </tr>\n",
       "    <tr>\n",
       "      <th>16</th>\n",
       "      <td>16</td>\n",
       "      <td>Frank</td>\n",
       "      <td>Fire regulations paper</td>\n",
       "      <td>2022-04-22</td>\n",
       "      <td>2022-05-15</td>\n",
       "      <td>In progress</td>\n",
       "      <td>Frank</td>\n",
       "    </tr>\n",
       "    <tr>\n",
       "      <th>17</th>\n",
       "      <td>17</td>\n",
       "      <td>Frank</td>\n",
       "      <td>VBA report</td>\n",
       "      <td>2022-04-22</td>\n",
       "      <td>2022-05-15</td>\n",
       "      <td>In progress</td>\n",
       "      <td>Frank</td>\n",
       "    </tr>\n",
       "    <tr>\n",
       "      <th>18</th>\n",
       "      <td>18</td>\n",
       "      <td>Finished task</td>\n",
       "      <td>Thesis completion</td>\n",
       "      <td>2022-04-22</td>\n",
       "      <td>2022-04-27</td>\n",
       "      <td>Finished</td>\n",
       "      <td>Gavin</td>\n",
       "    </tr>\n",
       "    <tr>\n",
       "      <th>19</th>\n",
       "      <td>19</td>\n",
       "      <td>Finished task</td>\n",
       "      <td>C4NET report</td>\n",
       "      <td>2022-04-22</td>\n",
       "      <td>2022-05-02</td>\n",
       "      <td>Finished</td>\n",
       "      <td>Gavin</td>\n",
       "    </tr>\n",
       "    <tr>\n",
       "      <th>20</th>\n",
       "      <td>20</td>\n",
       "      <td>Gavin</td>\n",
       "      <td>Paper based on thesis</td>\n",
       "      <td>2022-04-22</td>\n",
       "      <td>2022-05-20</td>\n",
       "      <td>In progress</td>\n",
       "      <td>Gavin</td>\n",
       "    </tr>\n",
       "    <tr>\n",
       "      <th>21</th>\n",
       "      <td>21</td>\n",
       "      <td>Kaige</td>\n",
       "      <td>CIB paper camera ready copy</td>\n",
       "      <td>2022-04-22</td>\n",
       "      <td>2022-06-20</td>\n",
       "      <td>In progress</td>\n",
       "      <td>Kaige</td>\n",
       "    </tr>\n",
       "    <tr>\n",
       "      <th>22</th>\n",
       "      <td>22</td>\n",
       "      <td>Chathuri</td>\n",
       "      <td>CIB paper camera ready copy</td>\n",
       "      <td>2022-04-22</td>\n",
       "      <td>2022-06-20</td>\n",
       "      <td>In progress</td>\n",
       "      <td>Chathuri</td>\n",
       "    </tr>\n",
       "    <tr>\n",
       "      <th>23</th>\n",
       "      <td>23</td>\n",
       "      <td>Chathuri</td>\n",
       "      <td>P2P trading paper</td>\n",
       "      <td>2022-04-22</td>\n",
       "      <td>2022-06-30</td>\n",
       "      <td>In progress</td>\n",
       "      <td>Chathuri</td>\n",
       "    </tr>\n",
       "    <tr>\n",
       "      <th>24</th>\n",
       "      <td>24</td>\n",
       "      <td>Chathuri</td>\n",
       "      <td>Comparison of game theories paper</td>\n",
       "      <td>2022-04-22</td>\n",
       "      <td>2022-06-30</td>\n",
       "      <td>In progress</td>\n",
       "      <td>Chathuri</td>\n",
       "    </tr>\n",
       "    <tr>\n",
       "      <th>25</th>\n",
       "      <td>25</td>\n",
       "      <td>Chathuri</td>\n",
       "      <td>Educational paper</td>\n",
       "      <td>2022-07-01</td>\n",
       "      <td>2022-08-01</td>\n",
       "      <td>In progress</td>\n",
       "      <td>Chathuri</td>\n",
       "    </tr>\n",
       "    <tr>\n",
       "      <th>26</th>\n",
       "      <td>26</td>\n",
       "      <td>Chathuri</td>\n",
       "      <td>Blockchain-based BIPV information system paper</td>\n",
       "      <td>2022-07-01</td>\n",
       "      <td>2022-08-01</td>\n",
       "      <td>In progress</td>\n",
       "      <td>Chathuri</td>\n",
       "    </tr>\n",
       "  </tbody>\n",
       "</table>\n",
       "</div>"
      ],
      "text/plain": [
       "   Task ID        Project                                        Description  \\\n",
       "0        0        Nilmini                       CIB paper camera ready copy    \n",
       "1        1        Nilmini                                  Monte-Carlo paper   \n",
       "2        2           Ivan                       CIB paper camera ready copy    \n",
       "3        3           Ivan  Paper on Geometry information of BIPV - Ivan's...   \n",
       "4        4           Ivan  Paper on Geometry information of BIPV- full paper   \n",
       "5        5           Ivan          Paper on Non-geometry product infromation   \n",
       "6        6       Pabasara                                          BIM paper   \n",
       "7        7       Pabasara             BIPV design methods and workflow paper   \n",
       "8        8       Pabasara                                    Framework paper   \n",
       "9        9  Finished task                             AIRAH Conference paper   \n",
       "10      10  Finished task                                             Thesis   \n",
       "11      11       Tharushi                       BIPV Enabler paper structure   \n",
       "12      12       Tharushi     Case study results conference paper - Abstract   \n",
       "13      13  Finished task                                 Simulation process   \n",
       "14      14          Sujan                         Design Hub paper structure   \n",
       "15      15         Ingrid                                       Review paper   \n",
       "16      16          Frank                            Fire regulations paper    \n",
       "17      17          Frank                                         VBA report   \n",
       "18      18  Finished task                                  Thesis completion   \n",
       "19      19  Finished task                                       C4NET report   \n",
       "20      20          Gavin                              Paper based on thesis   \n",
       "21      21          Kaige                       CIB paper camera ready copy    \n",
       "22      22       Chathuri                       CIB paper camera ready copy    \n",
       "23      23       Chathuri                                  P2P trading paper   \n",
       "24      24       Chathuri                  Comparison of game theories paper   \n",
       "25      25       Chathuri                                  Educational paper   \n",
       "26      26       Chathuri     Blockchain-based BIPV information system paper   \n",
       "\n",
       "        Start        End     Progress Participants  \n",
       "0  2022-04-22 2022-06-20  In progress      Nilmini  \n",
       "1  2022-04-22 2022-06-30  In progress      Nilmini  \n",
       "2  2022-04-22 2022-06-20  In progress         Ivan  \n",
       "3  2022-04-22 2022-05-31  In progress         Ivan  \n",
       "4  2022-04-22 2022-06-30  In progress         Ivan  \n",
       "5  2022-07-01 2022-12-31  In progress         Ivan  \n",
       "6  2022-04-22 2022-05-15  In progress     Pabasara  \n",
       "7  2022-04-22 2022-05-31  In progress     Pabasara  \n",
       "8  2022-04-22 2022-06-30  In progress     Pabasara  \n",
       "9  2022-04-22 2022-04-27     Finished     Tharushi  \n",
       "10 2022-04-22 2022-04-27     Finished     Tharushi  \n",
       "11 2022-04-22 2022-05-15  In progress     Tharushi  \n",
       "12 2022-04-22 2022-05-31  In progress     Tharushi  \n",
       "13 2022-04-22 2022-04-26     Finished        Sujan  \n",
       "14 2022-04-22 2022-05-15  In progress        Sujan  \n",
       "15 2022-04-22 2022-05-15  In progress       Ingrid  \n",
       "16 2022-04-22 2022-05-15  In progress        Frank  \n",
       "17 2022-04-22 2022-05-15  In progress        Frank  \n",
       "18 2022-04-22 2022-04-27     Finished        Gavin  \n",
       "19 2022-04-22 2022-05-02     Finished        Gavin  \n",
       "20 2022-04-22 2022-05-20  In progress        Gavin  \n",
       "21 2022-04-22 2022-06-20  In progress        Kaige  \n",
       "22 2022-04-22 2022-06-20  In progress     Chathuri  \n",
       "23 2022-04-22 2022-06-30  In progress     Chathuri  \n",
       "24 2022-04-22 2022-06-30  In progress     Chathuri  \n",
       "25 2022-07-01 2022-08-01  In progress     Chathuri  \n",
       "26 2022-07-01 2022-08-01  In progress     Chathuri  "
      ]
     },
     "execution_count": 22,
     "metadata": {},
     "output_type": "execute_result"
    }
   ],
   "source": [
    "publications"
   ]
  },
  {
   "cell_type": "code",
   "execution_count": 23,
   "metadata": {},
   "outputs": [
    {
     "data": {
      "application/vnd.plotly.v1+json": {
       "config": {
        "plotlyServerURL": "https://plot.ly"
       },
       "data": [
        {
         "alignmentgroup": "True",
         "base": [
          "2022-04-08T00:00:00",
          "2022-04-08T00:00:00",
          "2022-04-08T00:00:00"
         ],
         "customdata": [
          [
           "BIPV mapping",
           "Data assessment",
           "Frank",
           "In progress"
          ],
          [
           "BIPV mapping",
           "Data assessment",
           "Gavin",
           "In progress"
          ],
          [
           "BIPV mapping",
           "Paper writing",
           "Nilmini, Gavin, Frank",
           "In progress"
          ]
         ],
         "hovertemplate": "<b>%{hovertext}</b><br><br>Project=%{customdata[0]}<br>Start=%{base}<br>End=%{x}<br>Description=%{customdata[1]}<br>Participants=%{customdata[2]}<br>Progress=%{customdata[3]}<extra></extra>",
         "hovertext": [
          "Frank",
          "Gavin",
          "Nilmini, Gavin, Frank"
         ],
         "legendgroup": "BIPV mapping",
         "marker": {
          "color": "#00cc96"
         },
         "name": "BIPV mapping",
         "offsetgroup": "BIPV mapping",
         "orientation": "h",
         "showlegend": true,
         "text": [
          "Data assessment",
          "Data assessment",
          "Paper writing"
         ],
         "textposition": "auto",
         "type": "bar",
         "x": [
          3196800000,
          4579200000,
          9936000000
         ],
         "xaxis": "x",
         "y": [
          "0",
          "1",
          "2"
         ],
         "yaxis": "y"
        },
        {
         "alignmentgroup": "True",
         "base": [
          "2022-04-08T00:00:00",
          "2022-04-08T00:00:00",
          "2022-04-08T00:00:00",
          "2022-04-08T00:00:00",
          "2022-04-08T00:00:00",
          "2022-04-08T00:00:00"
         ],
         "customdata": [
          [
           "Urban BIPV",
           "Research design flowchart",
           "Gregory",
           "In progress"
          ],
          [
           "Urban BIPV",
           "Study location selection",
           "Ingrid",
           "In progress"
          ],
          [
           "Urban BIPV",
           "Solar irradiation simulation",
           "Gavin",
           "In progress"
          ],
          [
           "Urban BIPV",
           "Select 2-3 buildings/ BIPV products",
           "Ingrid",
           "In progress"
          ],
          [
           "Urban BIPV",
           "Economic assessment",
           "Ingrid",
           "In progress"
          ],
          [
           "Urban BIPV",
           "Review paper",
           "Ingrid",
           "In progress"
          ]
         ],
         "hovertemplate": "<b>%{hovertext}</b><br><br>Project=%{customdata[0]}<br>Start=%{base}<br>End=%{x}<br>Description=%{customdata[1]}<br>Participants=%{customdata[2]}<br>Progress=%{customdata[3]}<extra></extra>",
         "hovertext": [
          "Gregory",
          "Ingrid",
          "Gavin",
          "Ingrid",
          "Ingrid",
          "Ingrid"
         ],
         "legendgroup": "Urban BIPV",
         "marker": {
          "color": "#ab63fa"
         },
         "name": "Urban BIPV",
         "offsetgroup": "Urban BIPV",
         "orientation": "h",
         "showlegend": true,
         "text": [
          "Research design flowchart",
          "Study location selection",
          "Solar irradiation simulation",
          "Select 2-3 buildings/ BIPV products",
          "Economic assessment",
          "Review paper"
         ],
         "textposition": "auto",
         "type": "bar",
         "x": [
          1209600000,
          1987200000,
          4665600000,
          4665600000,
          4665600000,
          1987200000
         ],
         "xaxis": "x",
         "y": [
          "3",
          "4",
          "5",
          "6",
          "7",
          "8"
         ],
         "yaxis": "y"
        },
        {
         "alignmentgroup": "True",
         "base": [
          "2022-04-08T00:00:00",
          "2022-04-08T00:00:00",
          "2022-04-08T00:00:00",
          "2022-04-08T00:00:00"
         ],
         "customdata": [
          [
           "Finished task",
           "Stakeholder attributes",
           "Ivan",
           "Finished"
          ],
          [
           "Finished task",
           "Distribution of product info",
           "Jiaqi",
           "Finished"
          ],
          [
           "Finished task",
           "VCG/KDA/TR ->PV/PV+Battery",
           "Kaige",
           "Finished"
          ],
          [
           "Finished task",
           "Coorpeartive GT  ->PV/PV+Battery",
           "Kaige",
           "Finished"
          ]
         ],
         "hovertemplate": "<b>%{hovertext}</b><br><br>Project=%{customdata[0]}<br>Start=%{base}<br>End=%{x}<br>Description=%{customdata[1]}<br>Participants=%{customdata[2]}<br>Progress=%{customdata[3]}<extra></extra>",
         "hovertext": [
          "Ivan",
          "Jiaqi",
          "Kaige",
          "Kaige"
         ],
         "legendgroup": "Finished task",
         "marker": {
          "color": "gray"
         },
         "name": "Finished task",
         "offsetgroup": "Finished task",
         "orientation": "h",
         "showlegend": true,
         "text": [
          "Stakeholder attributes",
          "Distribution of product info",
          "VCG/KDA/TR ->PV/PV+Battery",
          "Coorpeartive GT  ->PV/PV+Battery"
         ],
         "textposition": "auto",
         "type": "bar",
         "x": [
          1209600000,
          1987200000,
          1209600000,
          1209600000
         ],
         "xaxis": "x",
         "y": [
          "9",
          "10",
          "14",
          "15"
         ],
         "yaxis": "y"
        },
        {
         "alignmentgroup": "True",
         "base": [
          "2022-04-08T00:00:00"
         ],
         "customdata": [
          [
           "Product info",
           "Provide contribution",
           "All",
           "In progress"
          ]
         ],
         "hovertemplate": "<b>%{hovertext}</b><br><br>Project=%{customdata[0]}<br>Start=%{base}<br>End=%{x}<br>Description=%{customdata[1]}<br>Participants=%{customdata[2]}<br>Progress=%{customdata[3]}<extra></extra>",
         "hovertext": [
          "All"
         ],
         "legendgroup": "Product info",
         "marker": {
          "color": "#FFA15A"
         },
         "name": "Product info",
         "offsetgroup": "Product info",
         "orientation": "h",
         "showlegend": true,
         "text": [
          "Provide contribution"
         ],
         "textposition": "auto",
         "type": "bar",
         "x": [
          4665600000
         ],
         "xaxis": "x",
         "y": [
          "11"
         ],
         "yaxis": "y"
        },
        {
         "alignmentgroup": "True",
         "base": [
          "2022-04-08T00:00:00",
          "2022-04-08T00:00:00"
         ],
         "customdata": [
          [
           "STA",
           "Internal draft",
           "Nilmini, Pabasara, Chathuri",
           "In progress"
          ],
          [
           "STA",
           "External review",
           "Nilmini, Pabasara, Chathuri",
           "In progress"
          ]
         ],
         "hovertemplate": "<b>%{hovertext}</b><br><br>Project=%{customdata[0]}<br>Start=%{base}<br>End=%{x}<br>Description=%{customdata[1]}<br>Participants=%{customdata[2]}<br>Progress=%{customdata[3]}<extra></extra>",
         "hovertext": [
          "Nilmini, Pabasara, Chathuri",
          "Nilmini, Pabasara, Chathuri"
         ],
         "legendgroup": "STA",
         "marker": {
          "color": "#19d3f3"
         },
         "name": "STA",
         "offsetgroup": "STA",
         "orientation": "h",
         "showlegend": true,
         "text": [
          "Internal draft",
          "External review"
         ],
         "textposition": "auto",
         "type": "bar",
         "x": [
          1555200000,
          4665600000
         ],
         "xaxis": "x",
         "y": [
          "12",
          "13"
         ],
         "yaxis": "y"
        },
        {
         "alignmentgroup": "True",
         "base": [
          "2022-04-08T00:00:00",
          "2022-04-08T00:00:00",
          "2022-04-08T00:00:00",
          "2022-04-08T00:00:00"
         ],
         "customdata": [
          [
           "Grid impact on P2P",
           "Explanation of GT",
           "Kaige",
           "In progress"
          ],
          [
           "Grid impact on P2P",
           "Chaperter on P2P",
           "Chathuri",
           "In progress"
          ],
          [
           "Grid impact on P2P",
           "Chaperter on BIPV",
           "Chathuri",
           "In progress"
          ],
          [
           "Grid impact on P2P",
           "Two paper for GT",
           "Chathuri",
           "In progress"
          ]
         ],
         "hovertemplate": "<b>%{hovertext}</b><br><br>Project=%{customdata[0]}<br>Start=%{base}<br>End=%{x}<br>Description=%{customdata[1]}<br>Participants=%{customdata[2]}<br>Progress=%{customdata[3]}<extra></extra>",
         "hovertext": [
          "Kaige",
          "Chathuri",
          "Chathuri",
          "Chathuri"
         ],
         "legendgroup": "Grid impact on P2P",
         "marker": {
          "color": "#FF6692"
         },
         "name": "Grid impact on P2P",
         "offsetgroup": "Grid impact on P2P",
         "orientation": "h",
         "showlegend": true,
         "text": [
          "Explanation of GT",
          "Chaperter on P2P",
          "Chaperter on BIPV",
          "Two paper for GT"
         ],
         "textposition": "auto",
         "type": "bar",
         "x": [
          1987200000,
          3196800000,
          4579200000,
          7171200000
         ],
         "xaxis": "x",
         "y": [
          "16",
          "17",
          "18",
          "19"
         ],
         "yaxis": "y"
        },
        {
         "alignmentgroup": "True",
         "base": [
          "2022-04-08T00:00:00"
         ],
         "customdata": [
          [
           "Design Hub",
           "All simulation",
           "Sujan",
           "In progress"
          ]
         ],
         "hovertemplate": "<b>%{hovertext}</b><br><br>Project=%{customdata[0]}<br>Start=%{base}<br>End=%{x}<br>Description=%{customdata[1]}<br>Participants=%{customdata[2]}<br>Progress=%{customdata[3]}<extra></extra>",
         "hovertext": [
          "Sujan"
         ],
         "legendgroup": "Design Hub",
         "marker": {
          "color": "#B6E880"
         },
         "name": "Design Hub",
         "offsetgroup": "Design Hub",
         "orientation": "h",
         "showlegend": true,
         "text": [
          "All simulation"
         ],
         "textposition": "auto",
         "type": "bar",
         "x": [
          1209600000
         ],
         "xaxis": "x",
         "y": [
          "20"
         ],
         "yaxis": "y"
        },
        {
         "alignmentgroup": "True",
         "base": [
          "2022-04-08T00:00:00",
          "2022-04-08T00:00:00"
         ],
         "customdata": [
          [
           "BIPV Enabler",
           "Report",
           "Pabasara",
           "In progress"
          ],
          [
           "BIPV Enabler",
           "Industry workshop/travelling",
           "Rebecca",
           "In progress"
          ]
         ],
         "hovertemplate": "<b>%{hovertext}</b><br><br>Project=%{customdata[0]}<br>Start=%{base}<br>End=%{x}<br>Description=%{customdata[1]}<br>Participants=%{customdata[2]}<br>Progress=%{customdata[3]}<extra></extra>",
         "hovertext": [
          "Pabasara",
          "Rebecca"
         ],
         "legendgroup": "BIPV Enabler",
         "marker": {
          "color": "#FF97FF"
         },
         "name": "BIPV Enabler",
         "offsetgroup": "BIPV Enabler",
         "orientation": "h",
         "showlegend": true,
         "text": [
          "Report",
          "Industry workshop/travelling"
         ],
         "textposition": "auto",
         "type": "bar",
         "x": [
          1900800000,
          1900800000
         ],
         "xaxis": "x",
         "y": [
          "21",
          "22"
         ],
         "yaxis": "y"
        }
       ],
       "layout": {
        "barmode": "overlay",
        "height": 1000,
        "legend": {
         "title": {
          "text": "Project"
         },
         "tracegroupgap": 0
        },
        "margin": {
         "t": 60
        },
        "shapes": [
         {
          "line": {
           "color": "black",
           "width": 1
          },
          "type": "line",
          "x0": "2022-05-10",
          "x1": "2022-05-10",
          "xref": "x",
          "y0": 0,
          "y1": 1,
          "yref": "y domain"
         }
        ],
        "template": {
         "data": {
          "bar": [
           {
            "error_x": {
             "color": "#2a3f5f"
            },
            "error_y": {
             "color": "#2a3f5f"
            },
            "marker": {
             "line": {
              "color": "#E5ECF6",
              "width": 0.5
             },
             "pattern": {
              "fillmode": "overlay",
              "size": 10,
              "solidity": 0.2
             }
            },
            "type": "bar"
           }
          ],
          "barpolar": [
           {
            "marker": {
             "line": {
              "color": "#E5ECF6",
              "width": 0.5
             },
             "pattern": {
              "fillmode": "overlay",
              "size": 10,
              "solidity": 0.2
             }
            },
            "type": "barpolar"
           }
          ],
          "carpet": [
           {
            "aaxis": {
             "endlinecolor": "#2a3f5f",
             "gridcolor": "white",
             "linecolor": "white",
             "minorgridcolor": "white",
             "startlinecolor": "#2a3f5f"
            },
            "baxis": {
             "endlinecolor": "#2a3f5f",
             "gridcolor": "white",
             "linecolor": "white",
             "minorgridcolor": "white",
             "startlinecolor": "#2a3f5f"
            },
            "type": "carpet"
           }
          ],
          "choropleth": [
           {
            "colorbar": {
             "outlinewidth": 0,
             "ticks": ""
            },
            "type": "choropleth"
           }
          ],
          "contour": [
           {
            "colorbar": {
             "outlinewidth": 0,
             "ticks": ""
            },
            "colorscale": [
             [
              0,
              "#0d0887"
             ],
             [
              0.1111111111111111,
              "#46039f"
             ],
             [
              0.2222222222222222,
              "#7201a8"
             ],
             [
              0.3333333333333333,
              "#9c179e"
             ],
             [
              0.4444444444444444,
              "#bd3786"
             ],
             [
              0.5555555555555556,
              "#d8576b"
             ],
             [
              0.6666666666666666,
              "#ed7953"
             ],
             [
              0.7777777777777778,
              "#fb9f3a"
             ],
             [
              0.8888888888888888,
              "#fdca26"
             ],
             [
              1,
              "#f0f921"
             ]
            ],
            "type": "contour"
           }
          ],
          "contourcarpet": [
           {
            "colorbar": {
             "outlinewidth": 0,
             "ticks": ""
            },
            "type": "contourcarpet"
           }
          ],
          "heatmap": [
           {
            "colorbar": {
             "outlinewidth": 0,
             "ticks": ""
            },
            "colorscale": [
             [
              0,
              "#0d0887"
             ],
             [
              0.1111111111111111,
              "#46039f"
             ],
             [
              0.2222222222222222,
              "#7201a8"
             ],
             [
              0.3333333333333333,
              "#9c179e"
             ],
             [
              0.4444444444444444,
              "#bd3786"
             ],
             [
              0.5555555555555556,
              "#d8576b"
             ],
             [
              0.6666666666666666,
              "#ed7953"
             ],
             [
              0.7777777777777778,
              "#fb9f3a"
             ],
             [
              0.8888888888888888,
              "#fdca26"
             ],
             [
              1,
              "#f0f921"
             ]
            ],
            "type": "heatmap"
           }
          ],
          "heatmapgl": [
           {
            "colorbar": {
             "outlinewidth": 0,
             "ticks": ""
            },
            "colorscale": [
             [
              0,
              "#0d0887"
             ],
             [
              0.1111111111111111,
              "#46039f"
             ],
             [
              0.2222222222222222,
              "#7201a8"
             ],
             [
              0.3333333333333333,
              "#9c179e"
             ],
             [
              0.4444444444444444,
              "#bd3786"
             ],
             [
              0.5555555555555556,
              "#d8576b"
             ],
             [
              0.6666666666666666,
              "#ed7953"
             ],
             [
              0.7777777777777778,
              "#fb9f3a"
             ],
             [
              0.8888888888888888,
              "#fdca26"
             ],
             [
              1,
              "#f0f921"
             ]
            ],
            "type": "heatmapgl"
           }
          ],
          "histogram": [
           {
            "marker": {
             "pattern": {
              "fillmode": "overlay",
              "size": 10,
              "solidity": 0.2
             }
            },
            "type": "histogram"
           }
          ],
          "histogram2d": [
           {
            "colorbar": {
             "outlinewidth": 0,
             "ticks": ""
            },
            "colorscale": [
             [
              0,
              "#0d0887"
             ],
             [
              0.1111111111111111,
              "#46039f"
             ],
             [
              0.2222222222222222,
              "#7201a8"
             ],
             [
              0.3333333333333333,
              "#9c179e"
             ],
             [
              0.4444444444444444,
              "#bd3786"
             ],
             [
              0.5555555555555556,
              "#d8576b"
             ],
             [
              0.6666666666666666,
              "#ed7953"
             ],
             [
              0.7777777777777778,
              "#fb9f3a"
             ],
             [
              0.8888888888888888,
              "#fdca26"
             ],
             [
              1,
              "#f0f921"
             ]
            ],
            "type": "histogram2d"
           }
          ],
          "histogram2dcontour": [
           {
            "colorbar": {
             "outlinewidth": 0,
             "ticks": ""
            },
            "colorscale": [
             [
              0,
              "#0d0887"
             ],
             [
              0.1111111111111111,
              "#46039f"
             ],
             [
              0.2222222222222222,
              "#7201a8"
             ],
             [
              0.3333333333333333,
              "#9c179e"
             ],
             [
              0.4444444444444444,
              "#bd3786"
             ],
             [
              0.5555555555555556,
              "#d8576b"
             ],
             [
              0.6666666666666666,
              "#ed7953"
             ],
             [
              0.7777777777777778,
              "#fb9f3a"
             ],
             [
              0.8888888888888888,
              "#fdca26"
             ],
             [
              1,
              "#f0f921"
             ]
            ],
            "type": "histogram2dcontour"
           }
          ],
          "mesh3d": [
           {
            "colorbar": {
             "outlinewidth": 0,
             "ticks": ""
            },
            "type": "mesh3d"
           }
          ],
          "parcoords": [
           {
            "line": {
             "colorbar": {
              "outlinewidth": 0,
              "ticks": ""
             }
            },
            "type": "parcoords"
           }
          ],
          "pie": [
           {
            "automargin": true,
            "type": "pie"
           }
          ],
          "scatter": [
           {
            "fillpattern": {
             "fillmode": "overlay",
             "size": 10,
             "solidity": 0.2
            },
            "type": "scatter"
           }
          ],
          "scatter3d": [
           {
            "line": {
             "colorbar": {
              "outlinewidth": 0,
              "ticks": ""
             }
            },
            "marker": {
             "colorbar": {
              "outlinewidth": 0,
              "ticks": ""
             }
            },
            "type": "scatter3d"
           }
          ],
          "scattercarpet": [
           {
            "marker": {
             "colorbar": {
              "outlinewidth": 0,
              "ticks": ""
             }
            },
            "type": "scattercarpet"
           }
          ],
          "scattergeo": [
           {
            "marker": {
             "colorbar": {
              "outlinewidth": 0,
              "ticks": ""
             }
            },
            "type": "scattergeo"
           }
          ],
          "scattergl": [
           {
            "marker": {
             "colorbar": {
              "outlinewidth": 0,
              "ticks": ""
             }
            },
            "type": "scattergl"
           }
          ],
          "scattermapbox": [
           {
            "marker": {
             "colorbar": {
              "outlinewidth": 0,
              "ticks": ""
             }
            },
            "type": "scattermapbox"
           }
          ],
          "scatterpolar": [
           {
            "marker": {
             "colorbar": {
              "outlinewidth": 0,
              "ticks": ""
             }
            },
            "type": "scatterpolar"
           }
          ],
          "scatterpolargl": [
           {
            "marker": {
             "colorbar": {
              "outlinewidth": 0,
              "ticks": ""
             }
            },
            "type": "scatterpolargl"
           }
          ],
          "scatterternary": [
           {
            "marker": {
             "colorbar": {
              "outlinewidth": 0,
              "ticks": ""
             }
            },
            "type": "scatterternary"
           }
          ],
          "surface": [
           {
            "colorbar": {
             "outlinewidth": 0,
             "ticks": ""
            },
            "colorscale": [
             [
              0,
              "#0d0887"
             ],
             [
              0.1111111111111111,
              "#46039f"
             ],
             [
              0.2222222222222222,
              "#7201a8"
             ],
             [
              0.3333333333333333,
              "#9c179e"
             ],
             [
              0.4444444444444444,
              "#bd3786"
             ],
             [
              0.5555555555555556,
              "#d8576b"
             ],
             [
              0.6666666666666666,
              "#ed7953"
             ],
             [
              0.7777777777777778,
              "#fb9f3a"
             ],
             [
              0.8888888888888888,
              "#fdca26"
             ],
             [
              1,
              "#f0f921"
             ]
            ],
            "type": "surface"
           }
          ],
          "table": [
           {
            "cells": {
             "fill": {
              "color": "#EBF0F8"
             },
             "line": {
              "color": "white"
             }
            },
            "header": {
             "fill": {
              "color": "#C8D4E3"
             },
             "line": {
              "color": "white"
             }
            },
            "type": "table"
           }
          ]
         },
         "layout": {
          "annotationdefaults": {
           "arrowcolor": "#2a3f5f",
           "arrowhead": 0,
           "arrowwidth": 1
          },
          "autotypenumbers": "strict",
          "coloraxis": {
           "colorbar": {
            "outlinewidth": 0,
            "ticks": ""
           }
          },
          "colorscale": {
           "diverging": [
            [
             0,
             "#8e0152"
            ],
            [
             0.1,
             "#c51b7d"
            ],
            [
             0.2,
             "#de77ae"
            ],
            [
             0.3,
             "#f1b6da"
            ],
            [
             0.4,
             "#fde0ef"
            ],
            [
             0.5,
             "#f7f7f7"
            ],
            [
             0.6,
             "#e6f5d0"
            ],
            [
             0.7,
             "#b8e186"
            ],
            [
             0.8,
             "#7fbc41"
            ],
            [
             0.9,
             "#4d9221"
            ],
            [
             1,
             "#276419"
            ]
           ],
           "sequential": [
            [
             0,
             "#0d0887"
            ],
            [
             0.1111111111111111,
             "#46039f"
            ],
            [
             0.2222222222222222,
             "#7201a8"
            ],
            [
             0.3333333333333333,
             "#9c179e"
            ],
            [
             0.4444444444444444,
             "#bd3786"
            ],
            [
             0.5555555555555556,
             "#d8576b"
            ],
            [
             0.6666666666666666,
             "#ed7953"
            ],
            [
             0.7777777777777778,
             "#fb9f3a"
            ],
            [
             0.8888888888888888,
             "#fdca26"
            ],
            [
             1,
             "#f0f921"
            ]
           ],
           "sequentialminus": [
            [
             0,
             "#0d0887"
            ],
            [
             0.1111111111111111,
             "#46039f"
            ],
            [
             0.2222222222222222,
             "#7201a8"
            ],
            [
             0.3333333333333333,
             "#9c179e"
            ],
            [
             0.4444444444444444,
             "#bd3786"
            ],
            [
             0.5555555555555556,
             "#d8576b"
            ],
            [
             0.6666666666666666,
             "#ed7953"
            ],
            [
             0.7777777777777778,
             "#fb9f3a"
            ],
            [
             0.8888888888888888,
             "#fdca26"
            ],
            [
             1,
             "#f0f921"
            ]
           ]
          },
          "colorway": [
           "#636efa",
           "#EF553B",
           "#00cc96",
           "#ab63fa",
           "#FFA15A",
           "#19d3f3",
           "#FF6692",
           "#B6E880",
           "#FF97FF",
           "#FECB52"
          ],
          "font": {
           "color": "#2a3f5f"
          },
          "geo": {
           "bgcolor": "white",
           "lakecolor": "white",
           "landcolor": "#E5ECF6",
           "showlakes": true,
           "showland": true,
           "subunitcolor": "white"
          },
          "hoverlabel": {
           "align": "left"
          },
          "hovermode": "closest",
          "mapbox": {
           "style": "light"
          },
          "paper_bgcolor": "white",
          "plot_bgcolor": "#E5ECF6",
          "polar": {
           "angularaxis": {
            "gridcolor": "white",
            "linecolor": "white",
            "ticks": ""
           },
           "bgcolor": "#E5ECF6",
           "radialaxis": {
            "gridcolor": "white",
            "linecolor": "white",
            "ticks": ""
           }
          },
          "scene": {
           "xaxis": {
            "backgroundcolor": "#E5ECF6",
            "gridcolor": "white",
            "gridwidth": 2,
            "linecolor": "white",
            "showbackground": true,
            "ticks": "",
            "zerolinecolor": "white"
           },
           "yaxis": {
            "backgroundcolor": "#E5ECF6",
            "gridcolor": "white",
            "gridwidth": 2,
            "linecolor": "white",
            "showbackground": true,
            "ticks": "",
            "zerolinecolor": "white"
           },
           "zaxis": {
            "backgroundcolor": "#E5ECF6",
            "gridcolor": "white",
            "gridwidth": 2,
            "linecolor": "white",
            "showbackground": true,
            "ticks": "",
            "zerolinecolor": "white"
           }
          },
          "shapedefaults": {
           "line": {
            "color": "#2a3f5f"
           }
          },
          "ternary": {
           "aaxis": {
            "gridcolor": "white",
            "linecolor": "white",
            "ticks": ""
           },
           "baxis": {
            "gridcolor": "white",
            "linecolor": "white",
            "ticks": ""
           },
           "bgcolor": "#E5ECF6",
           "caxis": {
            "gridcolor": "white",
            "linecolor": "white",
            "ticks": ""
           }
          },
          "title": {
           "x": 0.05
          },
          "xaxis": {
           "automargin": true,
           "gridcolor": "white",
           "linecolor": "white",
           "ticks": "",
           "title": {
            "standoff": 15
           },
           "zerolinecolor": "white",
           "zerolinewidth": 2
          },
          "yaxis": {
           "automargin": true,
           "gridcolor": "white",
           "linecolor": "white",
           "ticks": "",
           "title": {
            "standoff": 15
           },
           "zerolinecolor": "white",
           "zerolinewidth": 2
          }
         }
        },
        "title": {
         "text": "Project timeline"
        },
        "xaxis": {
         "anchor": "y",
         "domain": [
          0,
          1
         ],
         "linecolor": "black",
         "linewidth": 2,
         "showline": true,
         "tickformat": "%Y-%b-%d",
         "type": "date"
        },
        "yaxis": {
         "anchor": "x",
         "autorange": "reversed",
         "autotypenumbers": "convert types",
         "domain": [
          0,
          1
         ],
         "title": {
          "text": "Task ID"
         }
        }
       }
      }
     },
     "metadata": {},
     "output_type": "display_data"
    }
   ],
   "source": [
    "fig = px.timeline(tasks, x_start=\"Start\", x_end=\"End\", y=\"Task ID\", hover_name='Participants', \n",
    "                  hover_data = {'Task ID': False,\n",
    "                                'Project':True,\n",
    "                                'Start':True,\n",
    "                                'End':True,\n",
    "                                'Description':True,\n",
    "                                'Participants':True,\n",
    "                                'Progress':True\n",
    "                                }, \n",
    "                  color_discrete_map={\"Finished task\": \"gray\", \"Finished publication\": \"gray\"},\n",
    "                  color = 'Project', text = 'Description', height = 1000)\n",
    "fig.add_vline(x=today, line_width=1, line_color=\"black\")\n",
    "fig.update_layout(title= 'Project timeline', xaxis_tickformat='%Y-%b-%d')\n",
    "fig.update_xaxes(showline=True, linewidth=2, linecolor='black')\n",
    "fig.update_yaxes(autotypenumbers=\"convert types\", autorange='reversed')\n",
    "fig.show()\n",
    "fig.write_html(\"Project timeline.html\")"
   ]
  },
  {
   "cell_type": "code",
   "execution_count": 24,
   "metadata": {},
   "outputs": [
    {
     "data": {
      "application/vnd.plotly.v1+json": {
       "config": {
        "plotlyServerURL": "https://plot.ly"
       },
       "data": [
        {
         "alignmentgroup": "True",
         "base": [
          "2022-04-22T00:00:00",
          "2022-04-22T00:00:00"
         ],
         "customdata": [
          [
           "Nilmini",
           "CIB paper camera ready copy ",
           "Nilmini",
           "In progress"
          ],
          [
           "Nilmini",
           "Monte-Carlo paper",
           "Nilmini",
           "In progress"
          ]
         ],
         "hovertemplate": "<b>%{hovertext}</b><br><br>Start=%{base}<br>End=%{x}<br>Description=%{customdata[1]}<br>Participants=%{customdata[2]}<br>Progress=%{customdata[3]}<extra></extra>",
         "hovertext": [
          "Nilmini",
          "Nilmini"
         ],
         "legendgroup": "Nilmini",
         "marker": {
          "color": "#EF553B"
         },
         "name": "Nilmini",
         "offsetgroup": "Nilmini",
         "orientation": "h",
         "showlegend": true,
         "text": [
          "CIB paper camera ready copy ",
          "Monte-Carlo paper"
         ],
         "textposition": "outside",
         "type": "bar",
         "x": [
          5097600000,
          5961600000
         ],
         "xaxis": "x",
         "y": [
          "0",
          "1"
         ],
         "yaxis": "y"
        },
        {
         "alignmentgroup": "True",
         "base": [
          "2022-04-22T00:00:00",
          "2022-04-22T00:00:00",
          "2022-04-22T00:00:00",
          "2022-07-01T00:00:00"
         ],
         "customdata": [
          [
           "Ivan",
           "CIB paper camera ready copy ",
           "Ivan",
           "In progress"
          ],
          [
           "Ivan",
           "Paper on Geometry information of BIPV - Ivan's part",
           "Ivan",
           "In progress"
          ],
          [
           "Ivan",
           "Paper on Geometry information of BIPV- full paper",
           "Ivan",
           "In progress"
          ],
          [
           "Ivan",
           "Paper on Non-geometry product infromation",
           "Ivan",
           "In progress"
          ]
         ],
         "hovertemplate": "<b>%{hovertext}</b><br><br>Start=%{base}<br>End=%{x}<br>Description=%{customdata[1]}<br>Participants=%{customdata[2]}<br>Progress=%{customdata[3]}<extra></extra>",
         "hovertext": [
          "Ivan",
          "Ivan",
          "Ivan",
          "Ivan"
         ],
         "legendgroup": "Ivan",
         "marker": {
          "color": "#00cc96"
         },
         "name": "Ivan",
         "offsetgroup": "Ivan",
         "orientation": "h",
         "showlegend": true,
         "text": [
          "CIB paper camera ready copy ",
          "Paper on Geometry information of BIPV - Ivan's part",
          "Paper on Geometry information of BIPV- full paper",
          "Paper on Non-geometry product infromation"
         ],
         "textposition": "outside",
         "type": "bar",
         "x": [
          5097600000,
          3369600000,
          5961600000,
          15811200000
         ],
         "xaxis": "x",
         "y": [
          "2",
          "3",
          "4",
          "5"
         ],
         "yaxis": "y"
        },
        {
         "alignmentgroup": "True",
         "base": [
          "2022-04-22T00:00:00",
          "2022-04-22T00:00:00",
          "2022-04-22T00:00:00"
         ],
         "customdata": [
          [
           "Pabasara",
           "BIM paper",
           "Pabasara",
           "In progress"
          ],
          [
           "Pabasara",
           "BIPV design methods and workflow paper",
           "Pabasara",
           "In progress"
          ],
          [
           "Pabasara",
           "Framework paper",
           "Pabasara",
           "In progress"
          ]
         ],
         "hovertemplate": "<b>%{hovertext}</b><br><br>Start=%{base}<br>End=%{x}<br>Description=%{customdata[1]}<br>Participants=%{customdata[2]}<br>Progress=%{customdata[3]}<extra></extra>",
         "hovertext": [
          "Pabasara",
          "Pabasara",
          "Pabasara"
         ],
         "legendgroup": "Pabasara",
         "marker": {
          "color": "#ab63fa"
         },
         "name": "Pabasara",
         "offsetgroup": "Pabasara",
         "orientation": "h",
         "showlegend": true,
         "text": [
          "BIM paper",
          "BIPV design methods and workflow paper",
          "Framework paper"
         ],
         "textposition": "outside",
         "type": "bar",
         "x": [
          1987200000,
          3369600000,
          5961600000
         ],
         "xaxis": "x",
         "y": [
          "6",
          "7",
          "8"
         ],
         "yaxis": "y"
        },
        {
         "alignmentgroup": "True",
         "base": [
          "2022-04-22T00:00:00",
          "2022-04-22T00:00:00",
          "2022-04-22T00:00:00",
          "2022-04-22T00:00:00",
          "2022-04-22T00:00:00"
         ],
         "customdata": [
          [
           "Finished task",
           "AIRAH Conference paper",
           "Tharushi",
           "Finished"
          ],
          [
           "Finished task",
           "Thesis",
           "Tharushi",
           "Finished"
          ],
          [
           "Finished task",
           "Simulation process",
           "Sujan",
           "Finished"
          ],
          [
           "Finished task",
           "Thesis completion",
           "Gavin",
           "Finished"
          ],
          [
           "Finished task",
           "C4NET report",
           "Gavin",
           "Finished"
          ]
         ],
         "hovertemplate": "<b>%{hovertext}</b><br><br>Start=%{base}<br>End=%{x}<br>Description=%{customdata[1]}<br>Participants=%{customdata[2]}<br>Progress=%{customdata[3]}<extra></extra>",
         "hovertext": [
          "Tharushi",
          "Tharushi",
          "Sujan",
          "Gavin",
          "Gavin"
         ],
         "legendgroup": "Finished task",
         "marker": {
          "color": "gray"
         },
         "name": "Finished task",
         "offsetgroup": "Finished task",
         "orientation": "h",
         "showlegend": true,
         "text": [
          "AIRAH Conference paper",
          "Thesis",
          "Simulation process",
          "Thesis completion",
          "C4NET report"
         ],
         "textposition": "outside",
         "type": "bar",
         "x": [
          432000000,
          432000000,
          345600000,
          432000000,
          864000000
         ],
         "xaxis": "x",
         "y": [
          "9",
          "10",
          "13",
          "18",
          "19"
         ],
         "yaxis": "y"
        },
        {
         "alignmentgroup": "True",
         "base": [
          "2022-04-22T00:00:00",
          "2022-04-22T00:00:00"
         ],
         "customdata": [
          [
           "Tharushi",
           "BIPV Enabler paper structure",
           "Tharushi",
           "In progress"
          ],
          [
           "Tharushi",
           "Case study results conference paper - Abstract",
           "Tharushi",
           "In progress"
          ]
         ],
         "hovertemplate": "<b>%{hovertext}</b><br><br>Start=%{base}<br>End=%{x}<br>Description=%{customdata[1]}<br>Participants=%{customdata[2]}<br>Progress=%{customdata[3]}<extra></extra>",
         "hovertext": [
          "Tharushi",
          "Tharushi"
         ],
         "legendgroup": "Tharushi",
         "marker": {
          "color": "#FFA15A"
         },
         "name": "Tharushi",
         "offsetgroup": "Tharushi",
         "orientation": "h",
         "showlegend": true,
         "text": [
          "BIPV Enabler paper structure",
          "Case study results conference paper - Abstract"
         ],
         "textposition": "outside",
         "type": "bar",
         "x": [
          1987200000,
          3369600000
         ],
         "xaxis": "x",
         "y": [
          "11",
          "12"
         ],
         "yaxis": "y"
        },
        {
         "alignmentgroup": "True",
         "base": [
          "2022-04-22T00:00:00"
         ],
         "customdata": [
          [
           "Sujan",
           "Design Hub paper structure",
           "Sujan",
           "In progress"
          ]
         ],
         "hovertemplate": "<b>%{hovertext}</b><br><br>Start=%{base}<br>End=%{x}<br>Description=%{customdata[1]}<br>Participants=%{customdata[2]}<br>Progress=%{customdata[3]}<extra></extra>",
         "hovertext": [
          "Sujan"
         ],
         "legendgroup": "Sujan",
         "marker": {
          "color": "#19d3f3"
         },
         "name": "Sujan",
         "offsetgroup": "Sujan",
         "orientation": "h",
         "showlegend": true,
         "text": [
          "Design Hub paper structure"
         ],
         "textposition": "outside",
         "type": "bar",
         "x": [
          1987200000
         ],
         "xaxis": "x",
         "y": [
          "14"
         ],
         "yaxis": "y"
        },
        {
         "alignmentgroup": "True",
         "base": [
          "2022-04-22T00:00:00"
         ],
         "customdata": [
          [
           "Ingrid",
           "Review paper",
           "Ingrid",
           "In progress"
          ]
         ],
         "hovertemplate": "<b>%{hovertext}</b><br><br>Start=%{base}<br>End=%{x}<br>Description=%{customdata[1]}<br>Participants=%{customdata[2]}<br>Progress=%{customdata[3]}<extra></extra>",
         "hovertext": [
          "Ingrid"
         ],
         "legendgroup": "Ingrid",
         "marker": {
          "color": "#FF6692"
         },
         "name": "Ingrid",
         "offsetgroup": "Ingrid",
         "orientation": "h",
         "showlegend": true,
         "text": [
          "Review paper"
         ],
         "textposition": "outside",
         "type": "bar",
         "x": [
          1987200000
         ],
         "xaxis": "x",
         "y": [
          "15"
         ],
         "yaxis": "y"
        },
        {
         "alignmentgroup": "True",
         "base": [
          "2022-04-22T00:00:00",
          "2022-04-22T00:00:00"
         ],
         "customdata": [
          [
           "Frank",
           "Fire regulations paper ",
           "Frank",
           "In progress"
          ],
          [
           "Frank",
           "VBA report",
           "Frank",
           "In progress"
          ]
         ],
         "hovertemplate": "<b>%{hovertext}</b><br><br>Start=%{base}<br>End=%{x}<br>Description=%{customdata[1]}<br>Participants=%{customdata[2]}<br>Progress=%{customdata[3]}<extra></extra>",
         "hovertext": [
          "Frank",
          "Frank"
         ],
         "legendgroup": "Frank",
         "marker": {
          "color": "#B6E880"
         },
         "name": "Frank",
         "offsetgroup": "Frank",
         "orientation": "h",
         "showlegend": true,
         "text": [
          "Fire regulations paper ",
          "VBA report"
         ],
         "textposition": "outside",
         "type": "bar",
         "x": [
          1987200000,
          1987200000
         ],
         "xaxis": "x",
         "y": [
          "16",
          "17"
         ],
         "yaxis": "y"
        },
        {
         "alignmentgroup": "True",
         "base": [
          "2022-04-22T00:00:00"
         ],
         "customdata": [
          [
           "Gavin",
           "Paper based on thesis",
           "Gavin",
           "In progress"
          ]
         ],
         "hovertemplate": "<b>%{hovertext}</b><br><br>Start=%{base}<br>End=%{x}<br>Description=%{customdata[1]}<br>Participants=%{customdata[2]}<br>Progress=%{customdata[3]}<extra></extra>",
         "hovertext": [
          "Gavin"
         ],
         "legendgroup": "Gavin",
         "marker": {
          "color": "#FF97FF"
         },
         "name": "Gavin",
         "offsetgroup": "Gavin",
         "orientation": "h",
         "showlegend": true,
         "text": [
          "Paper based on thesis"
         ],
         "textposition": "outside",
         "type": "bar",
         "x": [
          2419200000
         ],
         "xaxis": "x",
         "y": [
          "20"
         ],
         "yaxis": "y"
        },
        {
         "alignmentgroup": "True",
         "base": [
          "2022-04-22T00:00:00"
         ],
         "customdata": [
          [
           "Kaige",
           "CIB paper camera ready copy ",
           "Kaige",
           "In progress"
          ]
         ],
         "hovertemplate": "<b>%{hovertext}</b><br><br>Start=%{base}<br>End=%{x}<br>Description=%{customdata[1]}<br>Participants=%{customdata[2]}<br>Progress=%{customdata[3]}<extra></extra>",
         "hovertext": [
          "Kaige"
         ],
         "legendgroup": "Kaige",
         "marker": {
          "color": "#FECB52"
         },
         "name": "Kaige",
         "offsetgroup": "Kaige",
         "orientation": "h",
         "showlegend": true,
         "text": [
          "CIB paper camera ready copy "
         ],
         "textposition": "outside",
         "type": "bar",
         "x": [
          5097600000
         ],
         "xaxis": "x",
         "y": [
          "21"
         ],
         "yaxis": "y"
        },
        {
         "alignmentgroup": "True",
         "base": [
          "2022-04-22T00:00:00",
          "2022-04-22T00:00:00",
          "2022-04-22T00:00:00",
          "2022-07-01T00:00:00",
          "2022-07-01T00:00:00"
         ],
         "customdata": [
          [
           "Chathuri",
           "CIB paper camera ready copy ",
           "Chathuri",
           "In progress"
          ],
          [
           "Chathuri",
           "P2P trading paper",
           "Chathuri",
           "In progress"
          ],
          [
           "Chathuri",
           "Comparison of game theories paper",
           "Chathuri",
           "In progress"
          ],
          [
           "Chathuri",
           "Educational paper",
           "Chathuri",
           "In progress"
          ],
          [
           "Chathuri",
           "Blockchain-based BIPV information system paper",
           "Chathuri",
           "In progress"
          ]
         ],
         "hovertemplate": "<b>%{hovertext}</b><br><br>Start=%{base}<br>End=%{x}<br>Description=%{customdata[1]}<br>Participants=%{customdata[2]}<br>Progress=%{customdata[3]}<extra></extra>",
         "hovertext": [
          "Chathuri",
          "Chathuri",
          "Chathuri",
          "Chathuri",
          "Chathuri"
         ],
         "legendgroup": "Chathuri",
         "marker": {
          "color": "#636efa"
         },
         "name": "Chathuri",
         "offsetgroup": "Chathuri",
         "orientation": "h",
         "showlegend": true,
         "text": [
          "CIB paper camera ready copy ",
          "P2P trading paper",
          "Comparison of game theories paper",
          "Educational paper",
          "Blockchain-based BIPV information system paper"
         ],
         "textposition": "outside",
         "type": "bar",
         "x": [
          5097600000,
          5961600000,
          5961600000,
          2678400000,
          2678400000
         ],
         "xaxis": "x",
         "y": [
          "22",
          "23",
          "24",
          "25",
          "26"
         ],
         "yaxis": "y"
        }
       ],
       "layout": {
        "barmode": "overlay",
        "height": 1000,
        "legend": {
         "title": {
          "text": "Project"
         },
         "tracegroupgap": 0
        },
        "margin": {
         "t": 60
        },
        "shapes": [
         {
          "line": {
           "color": "black",
           "width": 1
          },
          "type": "line",
          "x0": "2022-05-10",
          "x1": "2022-05-10",
          "xref": "x",
          "y0": 0,
          "y1": 1,
          "yref": "y domain"
         }
        ],
        "template": {
         "data": {
          "bar": [
           {
            "error_x": {
             "color": "#2a3f5f"
            },
            "error_y": {
             "color": "#2a3f5f"
            },
            "marker": {
             "line": {
              "color": "#E5ECF6",
              "width": 0.5
             },
             "pattern": {
              "fillmode": "overlay",
              "size": 10,
              "solidity": 0.2
             }
            },
            "type": "bar"
           }
          ],
          "barpolar": [
           {
            "marker": {
             "line": {
              "color": "#E5ECF6",
              "width": 0.5
             },
             "pattern": {
              "fillmode": "overlay",
              "size": 10,
              "solidity": 0.2
             }
            },
            "type": "barpolar"
           }
          ],
          "carpet": [
           {
            "aaxis": {
             "endlinecolor": "#2a3f5f",
             "gridcolor": "white",
             "linecolor": "white",
             "minorgridcolor": "white",
             "startlinecolor": "#2a3f5f"
            },
            "baxis": {
             "endlinecolor": "#2a3f5f",
             "gridcolor": "white",
             "linecolor": "white",
             "minorgridcolor": "white",
             "startlinecolor": "#2a3f5f"
            },
            "type": "carpet"
           }
          ],
          "choropleth": [
           {
            "colorbar": {
             "outlinewidth": 0,
             "ticks": ""
            },
            "type": "choropleth"
           }
          ],
          "contour": [
           {
            "colorbar": {
             "outlinewidth": 0,
             "ticks": ""
            },
            "colorscale": [
             [
              0,
              "#0d0887"
             ],
             [
              0.1111111111111111,
              "#46039f"
             ],
             [
              0.2222222222222222,
              "#7201a8"
             ],
             [
              0.3333333333333333,
              "#9c179e"
             ],
             [
              0.4444444444444444,
              "#bd3786"
             ],
             [
              0.5555555555555556,
              "#d8576b"
             ],
             [
              0.6666666666666666,
              "#ed7953"
             ],
             [
              0.7777777777777778,
              "#fb9f3a"
             ],
             [
              0.8888888888888888,
              "#fdca26"
             ],
             [
              1,
              "#f0f921"
             ]
            ],
            "type": "contour"
           }
          ],
          "contourcarpet": [
           {
            "colorbar": {
             "outlinewidth": 0,
             "ticks": ""
            },
            "type": "contourcarpet"
           }
          ],
          "heatmap": [
           {
            "colorbar": {
             "outlinewidth": 0,
             "ticks": ""
            },
            "colorscale": [
             [
              0,
              "#0d0887"
             ],
             [
              0.1111111111111111,
              "#46039f"
             ],
             [
              0.2222222222222222,
              "#7201a8"
             ],
             [
              0.3333333333333333,
              "#9c179e"
             ],
             [
              0.4444444444444444,
              "#bd3786"
             ],
             [
              0.5555555555555556,
              "#d8576b"
             ],
             [
              0.6666666666666666,
              "#ed7953"
             ],
             [
              0.7777777777777778,
              "#fb9f3a"
             ],
             [
              0.8888888888888888,
              "#fdca26"
             ],
             [
              1,
              "#f0f921"
             ]
            ],
            "type": "heatmap"
           }
          ],
          "heatmapgl": [
           {
            "colorbar": {
             "outlinewidth": 0,
             "ticks": ""
            },
            "colorscale": [
             [
              0,
              "#0d0887"
             ],
             [
              0.1111111111111111,
              "#46039f"
             ],
             [
              0.2222222222222222,
              "#7201a8"
             ],
             [
              0.3333333333333333,
              "#9c179e"
             ],
             [
              0.4444444444444444,
              "#bd3786"
             ],
             [
              0.5555555555555556,
              "#d8576b"
             ],
             [
              0.6666666666666666,
              "#ed7953"
             ],
             [
              0.7777777777777778,
              "#fb9f3a"
             ],
             [
              0.8888888888888888,
              "#fdca26"
             ],
             [
              1,
              "#f0f921"
             ]
            ],
            "type": "heatmapgl"
           }
          ],
          "histogram": [
           {
            "marker": {
             "pattern": {
              "fillmode": "overlay",
              "size": 10,
              "solidity": 0.2
             }
            },
            "type": "histogram"
           }
          ],
          "histogram2d": [
           {
            "colorbar": {
             "outlinewidth": 0,
             "ticks": ""
            },
            "colorscale": [
             [
              0,
              "#0d0887"
             ],
             [
              0.1111111111111111,
              "#46039f"
             ],
             [
              0.2222222222222222,
              "#7201a8"
             ],
             [
              0.3333333333333333,
              "#9c179e"
             ],
             [
              0.4444444444444444,
              "#bd3786"
             ],
             [
              0.5555555555555556,
              "#d8576b"
             ],
             [
              0.6666666666666666,
              "#ed7953"
             ],
             [
              0.7777777777777778,
              "#fb9f3a"
             ],
             [
              0.8888888888888888,
              "#fdca26"
             ],
             [
              1,
              "#f0f921"
             ]
            ],
            "type": "histogram2d"
           }
          ],
          "histogram2dcontour": [
           {
            "colorbar": {
             "outlinewidth": 0,
             "ticks": ""
            },
            "colorscale": [
             [
              0,
              "#0d0887"
             ],
             [
              0.1111111111111111,
              "#46039f"
             ],
             [
              0.2222222222222222,
              "#7201a8"
             ],
             [
              0.3333333333333333,
              "#9c179e"
             ],
             [
              0.4444444444444444,
              "#bd3786"
             ],
             [
              0.5555555555555556,
              "#d8576b"
             ],
             [
              0.6666666666666666,
              "#ed7953"
             ],
             [
              0.7777777777777778,
              "#fb9f3a"
             ],
             [
              0.8888888888888888,
              "#fdca26"
             ],
             [
              1,
              "#f0f921"
             ]
            ],
            "type": "histogram2dcontour"
           }
          ],
          "mesh3d": [
           {
            "colorbar": {
             "outlinewidth": 0,
             "ticks": ""
            },
            "type": "mesh3d"
           }
          ],
          "parcoords": [
           {
            "line": {
             "colorbar": {
              "outlinewidth": 0,
              "ticks": ""
             }
            },
            "type": "parcoords"
           }
          ],
          "pie": [
           {
            "automargin": true,
            "type": "pie"
           }
          ],
          "scatter": [
           {
            "fillpattern": {
             "fillmode": "overlay",
             "size": 10,
             "solidity": 0.2
            },
            "type": "scatter"
           }
          ],
          "scatter3d": [
           {
            "line": {
             "colorbar": {
              "outlinewidth": 0,
              "ticks": ""
             }
            },
            "marker": {
             "colorbar": {
              "outlinewidth": 0,
              "ticks": ""
             }
            },
            "type": "scatter3d"
           }
          ],
          "scattercarpet": [
           {
            "marker": {
             "colorbar": {
              "outlinewidth": 0,
              "ticks": ""
             }
            },
            "type": "scattercarpet"
           }
          ],
          "scattergeo": [
           {
            "marker": {
             "colorbar": {
              "outlinewidth": 0,
              "ticks": ""
             }
            },
            "type": "scattergeo"
           }
          ],
          "scattergl": [
           {
            "marker": {
             "colorbar": {
              "outlinewidth": 0,
              "ticks": ""
             }
            },
            "type": "scattergl"
           }
          ],
          "scattermapbox": [
           {
            "marker": {
             "colorbar": {
              "outlinewidth": 0,
              "ticks": ""
             }
            },
            "type": "scattermapbox"
           }
          ],
          "scatterpolar": [
           {
            "marker": {
             "colorbar": {
              "outlinewidth": 0,
              "ticks": ""
             }
            },
            "type": "scatterpolar"
           }
          ],
          "scatterpolargl": [
           {
            "marker": {
             "colorbar": {
              "outlinewidth": 0,
              "ticks": ""
             }
            },
            "type": "scatterpolargl"
           }
          ],
          "scatterternary": [
           {
            "marker": {
             "colorbar": {
              "outlinewidth": 0,
              "ticks": ""
             }
            },
            "type": "scatterternary"
           }
          ],
          "surface": [
           {
            "colorbar": {
             "outlinewidth": 0,
             "ticks": ""
            },
            "colorscale": [
             [
              0,
              "#0d0887"
             ],
             [
              0.1111111111111111,
              "#46039f"
             ],
             [
              0.2222222222222222,
              "#7201a8"
             ],
             [
              0.3333333333333333,
              "#9c179e"
             ],
             [
              0.4444444444444444,
              "#bd3786"
             ],
             [
              0.5555555555555556,
              "#d8576b"
             ],
             [
              0.6666666666666666,
              "#ed7953"
             ],
             [
              0.7777777777777778,
              "#fb9f3a"
             ],
             [
              0.8888888888888888,
              "#fdca26"
             ],
             [
              1,
              "#f0f921"
             ]
            ],
            "type": "surface"
           }
          ],
          "table": [
           {
            "cells": {
             "fill": {
              "color": "#EBF0F8"
             },
             "line": {
              "color": "white"
             }
            },
            "header": {
             "fill": {
              "color": "#C8D4E3"
             },
             "line": {
              "color": "white"
             }
            },
            "type": "table"
           }
          ]
         },
         "layout": {
          "annotationdefaults": {
           "arrowcolor": "#2a3f5f",
           "arrowhead": 0,
           "arrowwidth": 1
          },
          "autotypenumbers": "strict",
          "coloraxis": {
           "colorbar": {
            "outlinewidth": 0,
            "ticks": ""
           }
          },
          "colorscale": {
           "diverging": [
            [
             0,
             "#8e0152"
            ],
            [
             0.1,
             "#c51b7d"
            ],
            [
             0.2,
             "#de77ae"
            ],
            [
             0.3,
             "#f1b6da"
            ],
            [
             0.4,
             "#fde0ef"
            ],
            [
             0.5,
             "#f7f7f7"
            ],
            [
             0.6,
             "#e6f5d0"
            ],
            [
             0.7,
             "#b8e186"
            ],
            [
             0.8,
             "#7fbc41"
            ],
            [
             0.9,
             "#4d9221"
            ],
            [
             1,
             "#276419"
            ]
           ],
           "sequential": [
            [
             0,
             "#0d0887"
            ],
            [
             0.1111111111111111,
             "#46039f"
            ],
            [
             0.2222222222222222,
             "#7201a8"
            ],
            [
             0.3333333333333333,
             "#9c179e"
            ],
            [
             0.4444444444444444,
             "#bd3786"
            ],
            [
             0.5555555555555556,
             "#d8576b"
            ],
            [
             0.6666666666666666,
             "#ed7953"
            ],
            [
             0.7777777777777778,
             "#fb9f3a"
            ],
            [
             0.8888888888888888,
             "#fdca26"
            ],
            [
             1,
             "#f0f921"
            ]
           ],
           "sequentialminus": [
            [
             0,
             "#0d0887"
            ],
            [
             0.1111111111111111,
             "#46039f"
            ],
            [
             0.2222222222222222,
             "#7201a8"
            ],
            [
             0.3333333333333333,
             "#9c179e"
            ],
            [
             0.4444444444444444,
             "#bd3786"
            ],
            [
             0.5555555555555556,
             "#d8576b"
            ],
            [
             0.6666666666666666,
             "#ed7953"
            ],
            [
             0.7777777777777778,
             "#fb9f3a"
            ],
            [
             0.8888888888888888,
             "#fdca26"
            ],
            [
             1,
             "#f0f921"
            ]
           ]
          },
          "colorway": [
           "#636efa",
           "#EF553B",
           "#00cc96",
           "#ab63fa",
           "#FFA15A",
           "#19d3f3",
           "#FF6692",
           "#B6E880",
           "#FF97FF",
           "#FECB52"
          ],
          "font": {
           "color": "#2a3f5f"
          },
          "geo": {
           "bgcolor": "white",
           "lakecolor": "white",
           "landcolor": "#E5ECF6",
           "showlakes": true,
           "showland": true,
           "subunitcolor": "white"
          },
          "hoverlabel": {
           "align": "left"
          },
          "hovermode": "closest",
          "mapbox": {
           "style": "light"
          },
          "paper_bgcolor": "white",
          "plot_bgcolor": "#E5ECF6",
          "polar": {
           "angularaxis": {
            "gridcolor": "white",
            "linecolor": "white",
            "ticks": ""
           },
           "bgcolor": "#E5ECF6",
           "radialaxis": {
            "gridcolor": "white",
            "linecolor": "white",
            "ticks": ""
           }
          },
          "scene": {
           "xaxis": {
            "backgroundcolor": "#E5ECF6",
            "gridcolor": "white",
            "gridwidth": 2,
            "linecolor": "white",
            "showbackground": true,
            "ticks": "",
            "zerolinecolor": "white"
           },
           "yaxis": {
            "backgroundcolor": "#E5ECF6",
            "gridcolor": "white",
            "gridwidth": 2,
            "linecolor": "white",
            "showbackground": true,
            "ticks": "",
            "zerolinecolor": "white"
           },
           "zaxis": {
            "backgroundcolor": "#E5ECF6",
            "gridcolor": "white",
            "gridwidth": 2,
            "linecolor": "white",
            "showbackground": true,
            "ticks": "",
            "zerolinecolor": "white"
           }
          },
          "shapedefaults": {
           "line": {
            "color": "#2a3f5f"
           }
          },
          "ternary": {
           "aaxis": {
            "gridcolor": "white",
            "linecolor": "white",
            "ticks": ""
           },
           "baxis": {
            "gridcolor": "white",
            "linecolor": "white",
            "ticks": ""
           },
           "bgcolor": "#E5ECF6",
           "caxis": {
            "gridcolor": "white",
            "linecolor": "white",
            "ticks": ""
           }
          },
          "title": {
           "x": 0.05
          },
          "xaxis": {
           "automargin": true,
           "gridcolor": "white",
           "linecolor": "white",
           "ticks": "",
           "title": {
            "standoff": 15
           },
           "zerolinecolor": "white",
           "zerolinewidth": 2
          },
          "yaxis": {
           "automargin": true,
           "gridcolor": "white",
           "linecolor": "white",
           "ticks": "",
           "title": {
            "standoff": 15
           },
           "zerolinecolor": "white",
           "zerolinewidth": 2
          }
         }
        },
        "title": {
         "text": "Publication timeline"
        },
        "xaxis": {
         "anchor": "y",
         "domain": [
          0,
          1
         ],
         "linecolor": "black",
         "linewidth": 2,
         "showline": true,
         "tickformat": "%Y-%b-%d",
         "type": "date"
        },
        "yaxis": {
         "anchor": "x",
         "autorange": "reversed",
         "autotypenumbers": "convert types",
         "domain": [
          0,
          1
         ],
         "title": {
          "text": "Task ID"
         }
        }
       }
      }
     },
     "metadata": {},
     "output_type": "display_data"
    }
   ],
   "source": [
    "fig = px.timeline(publications, x_start=\"Start\", x_end=\"End\", y=\"Task ID\", hover_name='Participants',\n",
    "                  hover_data = {'Task ID': False,\n",
    "                                'Project':False,\n",
    "                                'Start':True,\n",
    "                                'End':True,\n",
    "                                'Description':True,\n",
    "                                'Participants':True,\n",
    "                                'Progress':True\n",
    "                                }, \n",
    "                  color_discrete_map={\"Finished task\": \"gray\"},\n",
    "                  color = 'Project', text = 'Description', height = 1000)\n",
    "fig.add_vline(x=today, line_width=1, line_color=\"black\")\n",
    "fig.update_layout(title= 'Publication timeline', xaxis_tickformat='%Y-%b-%d')\n",
    "fig.update_xaxes(showline=True, linewidth=2, linecolor='black')\n",
    "fig.update_yaxes(autotypenumbers=\"convert types\", autorange='reversed')\n",
    "fig.update_traces(textposition='outside')\n",
    "fig.show()\n",
    "fig.write_html(\"Publication timeline.html\")"
   ]
  },
  {
   "cell_type": "code",
   "execution_count": null,
   "metadata": {},
   "outputs": [],
   "source": []
  }
 ],
 "metadata": {
  "interpreter": {
   "hash": "6f5163f31fd42699fab32b20d1db3df7008dd4e0a35a978bf9e6037a01e5e00c"
  },
  "kernelspec": {
   "display_name": "Python 3.10.2 ('game-theory')",
   "language": "python",
   "name": "python3"
  },
  "language_info": {
   "codemirror_mode": {
    "name": "ipython",
    "version": 3
   },
   "file_extension": ".py",
   "mimetype": "text/x-python",
   "name": "python",
   "nbconvert_exporter": "python",
   "pygments_lexer": "ipython3",
   "version": "3.10.2"
  },
  "orig_nbformat": 4
 },
 "nbformat": 4,
 "nbformat_minor": 2
}
