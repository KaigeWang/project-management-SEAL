{
 "cells": [
  {
   "cell_type": "code",
   "execution_count": 31,
   "metadata": {},
   "outputs": [],
   "source": [
    "import plotly.express as px\n",
    "import pandas as pd\n",
    "from datetime import date"
   ]
  },
  {
   "cell_type": "code",
   "execution_count": 32,
   "metadata": {},
   "outputs": [],
   "source": [
    "df = pd.read_excel('Project and tasks.xlsx')\n",
    "df['Task ID'] = df['Task ID'].astype(str)\n",
    "today = date.today()"
   ]
  },
  {
   "cell_type": "code",
   "execution_count": 33,
   "metadata": {},
   "outputs": [
    {
     "data": {
      "text/html": [
       "<div>\n",
       "<style scoped>\n",
       "    .dataframe tbody tr th:only-of-type {\n",
       "        vertical-align: middle;\n",
       "    }\n",
       "\n",
       "    .dataframe tbody tr th {\n",
       "        vertical-align: top;\n",
       "    }\n",
       "\n",
       "    .dataframe thead th {\n",
       "        text-align: right;\n",
       "    }\n",
       "</style>\n",
       "<table border=\"1\" class=\"dataframe\">\n",
       "  <thead>\n",
       "    <tr style=\"text-align: right;\">\n",
       "      <th></th>\n",
       "      <th>Task ID</th>\n",
       "      <th>project</th>\n",
       "      <th>description</th>\n",
       "      <th>start</th>\n",
       "      <th>end</th>\n",
       "      <th>Finished</th>\n",
       "      <th>participants</th>\n",
       "    </tr>\n",
       "  </thead>\n",
       "  <tbody>\n",
       "    <tr>\n",
       "      <th>0</th>\n",
       "      <td>0</td>\n",
       "      <td>BIPV mapping</td>\n",
       "      <td>Data assessment</td>\n",
       "      <td>2022-04-08</td>\n",
       "      <td>2022-05-15</td>\n",
       "      <td>False</td>\n",
       "      <td>Frank</td>\n",
       "    </tr>\n",
       "    <tr>\n",
       "      <th>1</th>\n",
       "      <td>1</td>\n",
       "      <td>BIPV mapping</td>\n",
       "      <td>Data assessment</td>\n",
       "      <td>2022-04-08</td>\n",
       "      <td>2022-05-31</td>\n",
       "      <td>False</td>\n",
       "      <td>Gavin</td>\n",
       "    </tr>\n",
       "    <tr>\n",
       "      <th>2</th>\n",
       "      <td>2</td>\n",
       "      <td>BIPV mapping</td>\n",
       "      <td>Paper writing</td>\n",
       "      <td>2022-04-08</td>\n",
       "      <td>2022-08-01</td>\n",
       "      <td>False</td>\n",
       "      <td>Nilmini, Gavin, Frank</td>\n",
       "    </tr>\n",
       "    <tr>\n",
       "      <th>3</th>\n",
       "      <td>3</td>\n",
       "      <td>Urban BIPV</td>\n",
       "      <td>Research design flowchart</td>\n",
       "      <td>2022-04-08</td>\n",
       "      <td>2022-04-22</td>\n",
       "      <td>False</td>\n",
       "      <td>Gregory</td>\n",
       "    </tr>\n",
       "    <tr>\n",
       "      <th>4</th>\n",
       "      <td>4</td>\n",
       "      <td>Urban BIPV</td>\n",
       "      <td>Study location selection</td>\n",
       "      <td>2022-04-08</td>\n",
       "      <td>2022-05-01</td>\n",
       "      <td>False</td>\n",
       "      <td>Ingrid</td>\n",
       "    </tr>\n",
       "    <tr>\n",
       "      <th>5</th>\n",
       "      <td>5</td>\n",
       "      <td>Urban BIPV</td>\n",
       "      <td>Solar irradiation simulation</td>\n",
       "      <td>2022-04-08</td>\n",
       "      <td>2022-06-01</td>\n",
       "      <td>False</td>\n",
       "      <td>Gavin</td>\n",
       "    </tr>\n",
       "    <tr>\n",
       "      <th>6</th>\n",
       "      <td>6</td>\n",
       "      <td>Urban BIPV</td>\n",
       "      <td>Select 2-3 buildings/ BIPV products</td>\n",
       "      <td>2022-04-08</td>\n",
       "      <td>2022-06-01</td>\n",
       "      <td>False</td>\n",
       "      <td>Ingrid</td>\n",
       "    </tr>\n",
       "    <tr>\n",
       "      <th>7</th>\n",
       "      <td>7</td>\n",
       "      <td>Urban BIPV</td>\n",
       "      <td>Economic assessment</td>\n",
       "      <td>2022-04-08</td>\n",
       "      <td>2022-06-01</td>\n",
       "      <td>False</td>\n",
       "      <td>Ingrid</td>\n",
       "    </tr>\n",
       "    <tr>\n",
       "      <th>8</th>\n",
       "      <td>8</td>\n",
       "      <td>Urban BIPV</td>\n",
       "      <td>Review paper</td>\n",
       "      <td>2022-04-08</td>\n",
       "      <td>2022-05-01</td>\n",
       "      <td>False</td>\n",
       "      <td>Ingrid</td>\n",
       "    </tr>\n",
       "    <tr>\n",
       "      <th>9</th>\n",
       "      <td>9</td>\n",
       "      <td>Product info</td>\n",
       "      <td>Stakeholder attributes</td>\n",
       "      <td>2022-04-08</td>\n",
       "      <td>2022-04-22</td>\n",
       "      <td>True</td>\n",
       "      <td>Ivan</td>\n",
       "    </tr>\n",
       "    <tr>\n",
       "      <th>10</th>\n",
       "      <td>10</td>\n",
       "      <td>Product info</td>\n",
       "      <td>Distribution of product info</td>\n",
       "      <td>2022-04-08</td>\n",
       "      <td>2022-05-01</td>\n",
       "      <td>True</td>\n",
       "      <td>Jiaqi</td>\n",
       "    </tr>\n",
       "    <tr>\n",
       "      <th>11</th>\n",
       "      <td>11</td>\n",
       "      <td>Product info</td>\n",
       "      <td>Provide contribution</td>\n",
       "      <td>2022-04-08</td>\n",
       "      <td>2022-06-30</td>\n",
       "      <td>False</td>\n",
       "      <td>All</td>\n",
       "    </tr>\n",
       "    <tr>\n",
       "      <th>12</th>\n",
       "      <td>12</td>\n",
       "      <td>STA</td>\n",
       "      <td>Internal draft</td>\n",
       "      <td>2022-04-08</td>\n",
       "      <td>2022-05-01</td>\n",
       "      <td>False</td>\n",
       "      <td>Nilmini, Pabasara, Chathuri</td>\n",
       "    </tr>\n",
       "    <tr>\n",
       "      <th>13</th>\n",
       "      <td>13</td>\n",
       "      <td>STA</td>\n",
       "      <td>External review</td>\n",
       "      <td>2022-04-08</td>\n",
       "      <td>2022-06-01</td>\n",
       "      <td>False</td>\n",
       "      <td>Nilmini, Pabasara, Chathuri</td>\n",
       "    </tr>\n",
       "    <tr>\n",
       "      <th>14</th>\n",
       "      <td>14</td>\n",
       "      <td>Grid impact on P2P</td>\n",
       "      <td>VCG/KDA/TR -&gt;PV/PV+Battery</td>\n",
       "      <td>2022-04-08</td>\n",
       "      <td>2022-04-22</td>\n",
       "      <td>False</td>\n",
       "      <td>Kaige</td>\n",
       "    </tr>\n",
       "    <tr>\n",
       "      <th>15</th>\n",
       "      <td>15</td>\n",
       "      <td>Grid impact on P2P</td>\n",
       "      <td>Coorpeartive GT  -&gt;PV/PV+Battery</td>\n",
       "      <td>2022-04-08</td>\n",
       "      <td>2022-04-22</td>\n",
       "      <td>False</td>\n",
       "      <td>Kaige</td>\n",
       "    </tr>\n",
       "    <tr>\n",
       "      <th>16</th>\n",
       "      <td>16</td>\n",
       "      <td>Grid impact on P2P</td>\n",
       "      <td>Explanation of GT</td>\n",
       "      <td>2022-04-08</td>\n",
       "      <td>2022-05-01</td>\n",
       "      <td>False</td>\n",
       "      <td>Kaige</td>\n",
       "    </tr>\n",
       "    <tr>\n",
       "      <th>17</th>\n",
       "      <td>17</td>\n",
       "      <td>Grid impact on P2P</td>\n",
       "      <td>Chaperter on P2P</td>\n",
       "      <td>2022-04-08</td>\n",
       "      <td>2022-05-15</td>\n",
       "      <td>False</td>\n",
       "      <td>Chathuri</td>\n",
       "    </tr>\n",
       "    <tr>\n",
       "      <th>18</th>\n",
       "      <td>18</td>\n",
       "      <td>Grid impact on P2P</td>\n",
       "      <td>Chaperter on BIPV</td>\n",
       "      <td>2022-04-08</td>\n",
       "      <td>2022-05-31</td>\n",
       "      <td>False</td>\n",
       "      <td>Chathuri</td>\n",
       "    </tr>\n",
       "    <tr>\n",
       "      <th>19</th>\n",
       "      <td>19</td>\n",
       "      <td>Grid impact on P2P</td>\n",
       "      <td>Two paper for GT</td>\n",
       "      <td>2022-04-08</td>\n",
       "      <td>2022-06-30</td>\n",
       "      <td>False</td>\n",
       "      <td>Chathuri</td>\n",
       "    </tr>\n",
       "    <tr>\n",
       "      <th>20</th>\n",
       "      <td>20</td>\n",
       "      <td>Design Hub</td>\n",
       "      <td>All simulation</td>\n",
       "      <td>2022-04-08</td>\n",
       "      <td>2022-04-22</td>\n",
       "      <td>False</td>\n",
       "      <td>Sujan</td>\n",
       "    </tr>\n",
       "    <tr>\n",
       "      <th>21</th>\n",
       "      <td>21</td>\n",
       "      <td>BIPV Enabler</td>\n",
       "      <td>Report</td>\n",
       "      <td>2022-04-08</td>\n",
       "      <td>2022-04-30</td>\n",
       "      <td>False</td>\n",
       "      <td>Pabasara</td>\n",
       "    </tr>\n",
       "    <tr>\n",
       "      <th>22</th>\n",
       "      <td>22</td>\n",
       "      <td>BIPV Enabler</td>\n",
       "      <td>Industry workshop/travelling</td>\n",
       "      <td>2022-04-08</td>\n",
       "      <td>2022-04-30</td>\n",
       "      <td>False</td>\n",
       "      <td>Rebecca</td>\n",
       "    </tr>\n",
       "  </tbody>\n",
       "</table>\n",
       "</div>"
      ],
      "text/plain": [
       "   Task ID             project                          description  \\\n",
       "0        0        BIPV mapping                      Data assessment   \n",
       "1        1        BIPV mapping                      Data assessment   \n",
       "2        2        BIPV mapping                        Paper writing   \n",
       "3        3          Urban BIPV            Research design flowchart   \n",
       "4        4          Urban BIPV             Study location selection   \n",
       "5        5          Urban BIPV         Solar irradiation simulation   \n",
       "6        6          Urban BIPV  Select 2-3 buildings/ BIPV products   \n",
       "7        7          Urban BIPV                  Economic assessment   \n",
       "8        8          Urban BIPV                         Review paper   \n",
       "9        9        Product info               Stakeholder attributes   \n",
       "10      10        Product info         Distribution of product info   \n",
       "11      11        Product info                 Provide contribution   \n",
       "12      12                 STA                       Internal draft   \n",
       "13      13                 STA                      External review   \n",
       "14      14  Grid impact on P2P           VCG/KDA/TR ->PV/PV+Battery   \n",
       "15      15  Grid impact on P2P     Coorpeartive GT  ->PV/PV+Battery   \n",
       "16      16  Grid impact on P2P                    Explanation of GT   \n",
       "17      17  Grid impact on P2P                     Chaperter on P2P   \n",
       "18      18  Grid impact on P2P                    Chaperter on BIPV   \n",
       "19      19  Grid impact on P2P                     Two paper for GT   \n",
       "20      20          Design Hub                       All simulation   \n",
       "21      21        BIPV Enabler                               Report   \n",
       "22      22        BIPV Enabler         Industry workshop/travelling   \n",
       "\n",
       "        start        end  Finished                 participants  \n",
       "0  2022-04-08 2022-05-15     False                        Frank  \n",
       "1  2022-04-08 2022-05-31     False                        Gavin  \n",
       "2  2022-04-08 2022-08-01     False        Nilmini, Gavin, Frank  \n",
       "3  2022-04-08 2022-04-22     False                      Gregory  \n",
       "4  2022-04-08 2022-05-01     False                       Ingrid  \n",
       "5  2022-04-08 2022-06-01     False                        Gavin  \n",
       "6  2022-04-08 2022-06-01     False                       Ingrid  \n",
       "7  2022-04-08 2022-06-01     False                       Ingrid  \n",
       "8  2022-04-08 2022-05-01     False                       Ingrid  \n",
       "9  2022-04-08 2022-04-22      True                         Ivan  \n",
       "10 2022-04-08 2022-05-01      True                        Jiaqi  \n",
       "11 2022-04-08 2022-06-30     False                          All  \n",
       "12 2022-04-08 2022-05-01     False  Nilmini, Pabasara, Chathuri  \n",
       "13 2022-04-08 2022-06-01     False  Nilmini, Pabasara, Chathuri  \n",
       "14 2022-04-08 2022-04-22     False                        Kaige  \n",
       "15 2022-04-08 2022-04-22     False                        Kaige  \n",
       "16 2022-04-08 2022-05-01     False                        Kaige  \n",
       "17 2022-04-08 2022-05-15     False                     Chathuri  \n",
       "18 2022-04-08 2022-05-31     False                     Chathuri  \n",
       "19 2022-04-08 2022-06-30     False                     Chathuri  \n",
       "20 2022-04-08 2022-04-22     False                        Sujan  \n",
       "21 2022-04-08 2022-04-30     False                     Pabasara  \n",
       "22 2022-04-08 2022-04-30     False                      Rebecca  "
      ]
     },
     "execution_count": 33,
     "metadata": {},
     "output_type": "execute_result"
    }
   ],
   "source": [
    "df"
   ]
  },
  {
   "cell_type": "code",
   "execution_count": 34,
   "metadata": {},
   "outputs": [
    {
     "data": {
      "application/vnd.plotly.v1+json": {
       "config": {
        "plotlyServerURL": "https://plot.ly"
       },
       "data": [
        {
         "alignmentgroup": "True",
         "base": [
          "2022-04-08T00:00:00",
          "2022-04-08T00:00:00",
          "2022-04-08T00:00:00"
         ],
         "customdata": [
          [
           "BIPV mapping",
           "Data assessment",
           "Frank",
           false
          ],
          [
           "BIPV mapping",
           "Data assessment",
           "Gavin",
           false
          ],
          [
           "BIPV mapping",
           "Paper writing",
           "Nilmini, Gavin, Frank",
           false
          ]
         ],
         "hovertemplate": "<b>%{hovertext}</b><br><br>project=%{customdata[0]}<br>start=%{base}<br>end=%{x}<br>Task ID=%{y}<br>description=%{customdata[1]}<br>participants=%{customdata[2]}<br>Finished=%{customdata[3]}<extra></extra>",
         "hovertext": [
          "Frank",
          "Gavin",
          "Nilmini, Gavin, Frank"
         ],
         "legendgroup": "BIPV mapping",
         "marker": {
          "color": "#636efa"
         },
         "name": "BIPV mapping",
         "offsetgroup": "BIPV mapping",
         "orientation": "h",
         "showlegend": true,
         "text": [
          "Data assessment",
          "Data assessment",
          "Paper writing"
         ],
         "textposition": "auto",
         "type": "bar",
         "x": [
          3196800000,
          4579200000,
          9936000000
         ],
         "xaxis": "x",
         "y": [
          "0",
          "1",
          "2"
         ],
         "yaxis": "y"
        },
        {
         "alignmentgroup": "True",
         "base": [
          "2022-04-08T00:00:00",
          "2022-04-08T00:00:00",
          "2022-04-08T00:00:00",
          "2022-04-08T00:00:00",
          "2022-04-08T00:00:00",
          "2022-04-08T00:00:00"
         ],
         "customdata": [
          [
           "Urban BIPV",
           "Research design flowchart",
           "Gregory",
           false
          ],
          [
           "Urban BIPV",
           "Study location selection",
           "Ingrid",
           false
          ],
          [
           "Urban BIPV",
           "Solar irradiation simulation",
           "Gavin",
           false
          ],
          [
           "Urban BIPV",
           "Select 2-3 buildings/ BIPV products",
           "Ingrid",
           false
          ],
          [
           "Urban BIPV",
           "Economic assessment",
           "Ingrid",
           false
          ],
          [
           "Urban BIPV",
           "Review paper",
           "Ingrid",
           false
          ]
         ],
         "hovertemplate": "<b>%{hovertext}</b><br><br>project=%{customdata[0]}<br>start=%{base}<br>end=%{x}<br>Task ID=%{y}<br>description=%{customdata[1]}<br>participants=%{customdata[2]}<br>Finished=%{customdata[3]}<extra></extra>",
         "hovertext": [
          "Gregory",
          "Ingrid",
          "Gavin",
          "Ingrid",
          "Ingrid",
          "Ingrid"
         ],
         "legendgroup": "Urban BIPV",
         "marker": {
          "color": "#EF553B"
         },
         "name": "Urban BIPV",
         "offsetgroup": "Urban BIPV",
         "orientation": "h",
         "showlegend": true,
         "text": [
          "Research design flowchart",
          "Study location selection",
          "Solar irradiation simulation",
          "Select 2-3 buildings/ BIPV products",
          "Economic assessment",
          "Review paper"
         ],
         "textposition": "auto",
         "type": "bar",
         "x": [
          1209600000,
          1987200000,
          4665600000,
          4665600000,
          4665600000,
          1987200000
         ],
         "xaxis": "x",
         "y": [
          "3",
          "4",
          "5",
          "6",
          "7",
          "8"
         ],
         "yaxis": "y"
        },
        {
         "alignmentgroup": "True",
         "base": [
          "2022-04-08T00:00:00",
          "2022-04-08T00:00:00",
          "2022-04-08T00:00:00"
         ],
         "customdata": [
          [
           "Product info",
           "Stakeholder attributes",
           "Ivan",
           true
          ],
          [
           "Product info",
           "Distribution of product info",
           "Jiaqi",
           true
          ],
          [
           "Product info",
           "Provide contribution",
           "All",
           false
          ]
         ],
         "hovertemplate": "<b>%{hovertext}</b><br><br>project=%{customdata[0]}<br>start=%{base}<br>end=%{x}<br>Task ID=%{y}<br>description=%{customdata[1]}<br>participants=%{customdata[2]}<br>Finished=%{customdata[3]}<extra></extra>",
         "hovertext": [
          "Ivan",
          "Jiaqi",
          "All"
         ],
         "legendgroup": "Product info",
         "marker": {
          "color": "#00cc96"
         },
         "name": "Product info",
         "offsetgroup": "Product info",
         "orientation": "h",
         "showlegend": true,
         "text": [
          "Stakeholder attributes",
          "Distribution of product info",
          "Provide contribution"
         ],
         "textposition": "auto",
         "type": "bar",
         "x": [
          1209600000,
          1987200000,
          7171200000
         ],
         "xaxis": "x",
         "y": [
          "9",
          "10",
          "11"
         ],
         "yaxis": "y"
        },
        {
         "alignmentgroup": "True",
         "base": [
          "2022-04-08T00:00:00",
          "2022-04-08T00:00:00"
         ],
         "customdata": [
          [
           "STA",
           "Internal draft",
           "Nilmini, Pabasara, Chathuri",
           false
          ],
          [
           "STA",
           "External review",
           "Nilmini, Pabasara, Chathuri",
           false
          ]
         ],
         "hovertemplate": "<b>%{hovertext}</b><br><br>project=%{customdata[0]}<br>start=%{base}<br>end=%{x}<br>Task ID=%{y}<br>description=%{customdata[1]}<br>participants=%{customdata[2]}<br>Finished=%{customdata[3]}<extra></extra>",
         "hovertext": [
          "Nilmini, Pabasara, Chathuri",
          "Nilmini, Pabasara, Chathuri"
         ],
         "legendgroup": "STA",
         "marker": {
          "color": "#ab63fa"
         },
         "name": "STA",
         "offsetgroup": "STA",
         "orientation": "h",
         "showlegend": true,
         "text": [
          "Internal draft",
          "External review"
         ],
         "textposition": "auto",
         "type": "bar",
         "x": [
          1987200000,
          4665600000
         ],
         "xaxis": "x",
         "y": [
          "12",
          "13"
         ],
         "yaxis": "y"
        },
        {
         "alignmentgroup": "True",
         "base": [
          "2022-04-08T00:00:00",
          "2022-04-08T00:00:00",
          "2022-04-08T00:00:00",
          "2022-04-08T00:00:00",
          "2022-04-08T00:00:00",
          "2022-04-08T00:00:00"
         ],
         "customdata": [
          [
           "Grid impact on P2P",
           "VCG/KDA/TR ->PV/PV+Battery",
           "Kaige",
           false
          ],
          [
           "Grid impact on P2P",
           "Coorpeartive GT  ->PV/PV+Battery",
           "Kaige",
           false
          ],
          [
           "Grid impact on P2P",
           "Explanation of GT",
           "Kaige",
           false
          ],
          [
           "Grid impact on P2P",
           "Chaperter on P2P",
           "Chathuri",
           false
          ],
          [
           "Grid impact on P2P",
           "Chaperter on BIPV",
           "Chathuri",
           false
          ],
          [
           "Grid impact on P2P",
           "Two paper for GT",
           "Chathuri",
           false
          ]
         ],
         "hovertemplate": "<b>%{hovertext}</b><br><br>project=%{customdata[0]}<br>start=%{base}<br>end=%{x}<br>Task ID=%{y}<br>description=%{customdata[1]}<br>participants=%{customdata[2]}<br>Finished=%{customdata[3]}<extra></extra>",
         "hovertext": [
          "Kaige",
          "Kaige",
          "Kaige",
          "Chathuri",
          "Chathuri",
          "Chathuri"
         ],
         "legendgroup": "Grid impact on P2P",
         "marker": {
          "color": "#FFA15A"
         },
         "name": "Grid impact on P2P",
         "offsetgroup": "Grid impact on P2P",
         "orientation": "h",
         "showlegend": true,
         "text": [
          "VCG/KDA/TR ->PV/PV+Battery",
          "Coorpeartive GT  ->PV/PV+Battery",
          "Explanation of GT",
          "Chaperter on P2P",
          "Chaperter on BIPV",
          "Two paper for GT"
         ],
         "textposition": "auto",
         "type": "bar",
         "x": [
          1209600000,
          1209600000,
          1987200000,
          3196800000,
          4579200000,
          7171200000
         ],
         "xaxis": "x",
         "y": [
          "14",
          "15",
          "16",
          "17",
          "18",
          "19"
         ],
         "yaxis": "y"
        },
        {
         "alignmentgroup": "True",
         "base": [
          "2022-04-08T00:00:00"
         ],
         "customdata": [
          [
           "Design Hub",
           "All simulation",
           "Sujan",
           false
          ]
         ],
         "hovertemplate": "<b>%{hovertext}</b><br><br>project=%{customdata[0]}<br>start=%{base}<br>end=%{x}<br>Task ID=%{y}<br>description=%{customdata[1]}<br>participants=%{customdata[2]}<br>Finished=%{customdata[3]}<extra></extra>",
         "hovertext": [
          "Sujan"
         ],
         "legendgroup": "Design Hub",
         "marker": {
          "color": "#19d3f3"
         },
         "name": "Design Hub",
         "offsetgroup": "Design Hub",
         "orientation": "h",
         "showlegend": true,
         "text": [
          "All simulation"
         ],
         "textposition": "auto",
         "type": "bar",
         "x": [
          1209600000
         ],
         "xaxis": "x",
         "y": [
          "20"
         ],
         "yaxis": "y"
        },
        {
         "alignmentgroup": "True",
         "base": [
          "2022-04-08T00:00:00",
          "2022-04-08T00:00:00"
         ],
         "customdata": [
          [
           "BIPV Enabler",
           "Report",
           "Pabasara",
           false
          ],
          [
           "BIPV Enabler",
           "Industry workshop/travelling",
           "Rebecca",
           false
          ]
         ],
         "hovertemplate": "<b>%{hovertext}</b><br><br>project=%{customdata[0]}<br>start=%{base}<br>end=%{x}<br>Task ID=%{y}<br>description=%{customdata[1]}<br>participants=%{customdata[2]}<br>Finished=%{customdata[3]}<extra></extra>",
         "hovertext": [
          "Pabasara",
          "Rebecca"
         ],
         "legendgroup": "BIPV Enabler",
         "marker": {
          "color": "#FF6692"
         },
         "name": "BIPV Enabler",
         "offsetgroup": "BIPV Enabler",
         "orientation": "h",
         "showlegend": true,
         "text": [
          "Report",
          "Industry workshop/travelling"
         ],
         "textposition": "auto",
         "type": "bar",
         "x": [
          1900800000,
          1900800000
         ],
         "xaxis": "x",
         "y": [
          "21",
          "22"
         ],
         "yaxis": "y"
        }
       ],
       "layout": {
        "barmode": "overlay",
        "height": 1000,
        "legend": {
         "title": {
          "text": "project"
         },
         "tracegroupgap": 0
        },
        "margin": {
         "t": 60
        },
        "shapes": [
         {
          "line": {
           "color": "black",
           "width": 1
          },
          "type": "line",
          "x0": "2022-04-22",
          "x1": "2022-04-22",
          "xref": "x",
          "y0": 0,
          "y1": 1,
          "yref": "y domain"
         }
        ],
        "template": {
         "data": {
          "bar": [
           {
            "error_x": {
             "color": "#2a3f5f"
            },
            "error_y": {
             "color": "#2a3f5f"
            },
            "marker": {
             "line": {
              "color": "#E5ECF6",
              "width": 0.5
             },
             "pattern": {
              "fillmode": "overlay",
              "size": 10,
              "solidity": 0.2
             }
            },
            "type": "bar"
           }
          ],
          "barpolar": [
           {
            "marker": {
             "line": {
              "color": "#E5ECF6",
              "width": 0.5
             },
             "pattern": {
              "fillmode": "overlay",
              "size": 10,
              "solidity": 0.2
             }
            },
            "type": "barpolar"
           }
          ],
          "carpet": [
           {
            "aaxis": {
             "endlinecolor": "#2a3f5f",
             "gridcolor": "white",
             "linecolor": "white",
             "minorgridcolor": "white",
             "startlinecolor": "#2a3f5f"
            },
            "baxis": {
             "endlinecolor": "#2a3f5f",
             "gridcolor": "white",
             "linecolor": "white",
             "minorgridcolor": "white",
             "startlinecolor": "#2a3f5f"
            },
            "type": "carpet"
           }
          ],
          "choropleth": [
           {
            "colorbar": {
             "outlinewidth": 0,
             "ticks": ""
            },
            "type": "choropleth"
           }
          ],
          "contour": [
           {
            "colorbar": {
             "outlinewidth": 0,
             "ticks": ""
            },
            "colorscale": [
             [
              0,
              "#0d0887"
             ],
             [
              0.1111111111111111,
              "#46039f"
             ],
             [
              0.2222222222222222,
              "#7201a8"
             ],
             [
              0.3333333333333333,
              "#9c179e"
             ],
             [
              0.4444444444444444,
              "#bd3786"
             ],
             [
              0.5555555555555556,
              "#d8576b"
             ],
             [
              0.6666666666666666,
              "#ed7953"
             ],
             [
              0.7777777777777778,
              "#fb9f3a"
             ],
             [
              0.8888888888888888,
              "#fdca26"
             ],
             [
              1,
              "#f0f921"
             ]
            ],
            "type": "contour"
           }
          ],
          "contourcarpet": [
           {
            "colorbar": {
             "outlinewidth": 0,
             "ticks": ""
            },
            "type": "contourcarpet"
           }
          ],
          "heatmap": [
           {
            "colorbar": {
             "outlinewidth": 0,
             "ticks": ""
            },
            "colorscale": [
             [
              0,
              "#0d0887"
             ],
             [
              0.1111111111111111,
              "#46039f"
             ],
             [
              0.2222222222222222,
              "#7201a8"
             ],
             [
              0.3333333333333333,
              "#9c179e"
             ],
             [
              0.4444444444444444,
              "#bd3786"
             ],
             [
              0.5555555555555556,
              "#d8576b"
             ],
             [
              0.6666666666666666,
              "#ed7953"
             ],
             [
              0.7777777777777778,
              "#fb9f3a"
             ],
             [
              0.8888888888888888,
              "#fdca26"
             ],
             [
              1,
              "#f0f921"
             ]
            ],
            "type": "heatmap"
           }
          ],
          "heatmapgl": [
           {
            "colorbar": {
             "outlinewidth": 0,
             "ticks": ""
            },
            "colorscale": [
             [
              0,
              "#0d0887"
             ],
             [
              0.1111111111111111,
              "#46039f"
             ],
             [
              0.2222222222222222,
              "#7201a8"
             ],
             [
              0.3333333333333333,
              "#9c179e"
             ],
             [
              0.4444444444444444,
              "#bd3786"
             ],
             [
              0.5555555555555556,
              "#d8576b"
             ],
             [
              0.6666666666666666,
              "#ed7953"
             ],
             [
              0.7777777777777778,
              "#fb9f3a"
             ],
             [
              0.8888888888888888,
              "#fdca26"
             ],
             [
              1,
              "#f0f921"
             ]
            ],
            "type": "heatmapgl"
           }
          ],
          "histogram": [
           {
            "marker": {
             "pattern": {
              "fillmode": "overlay",
              "size": 10,
              "solidity": 0.2
             }
            },
            "type": "histogram"
           }
          ],
          "histogram2d": [
           {
            "colorbar": {
             "outlinewidth": 0,
             "ticks": ""
            },
            "colorscale": [
             [
              0,
              "#0d0887"
             ],
             [
              0.1111111111111111,
              "#46039f"
             ],
             [
              0.2222222222222222,
              "#7201a8"
             ],
             [
              0.3333333333333333,
              "#9c179e"
             ],
             [
              0.4444444444444444,
              "#bd3786"
             ],
             [
              0.5555555555555556,
              "#d8576b"
             ],
             [
              0.6666666666666666,
              "#ed7953"
             ],
             [
              0.7777777777777778,
              "#fb9f3a"
             ],
             [
              0.8888888888888888,
              "#fdca26"
             ],
             [
              1,
              "#f0f921"
             ]
            ],
            "type": "histogram2d"
           }
          ],
          "histogram2dcontour": [
           {
            "colorbar": {
             "outlinewidth": 0,
             "ticks": ""
            },
            "colorscale": [
             [
              0,
              "#0d0887"
             ],
             [
              0.1111111111111111,
              "#46039f"
             ],
             [
              0.2222222222222222,
              "#7201a8"
             ],
             [
              0.3333333333333333,
              "#9c179e"
             ],
             [
              0.4444444444444444,
              "#bd3786"
             ],
             [
              0.5555555555555556,
              "#d8576b"
             ],
             [
              0.6666666666666666,
              "#ed7953"
             ],
             [
              0.7777777777777778,
              "#fb9f3a"
             ],
             [
              0.8888888888888888,
              "#fdca26"
             ],
             [
              1,
              "#f0f921"
             ]
            ],
            "type": "histogram2dcontour"
           }
          ],
          "mesh3d": [
           {
            "colorbar": {
             "outlinewidth": 0,
             "ticks": ""
            },
            "type": "mesh3d"
           }
          ],
          "parcoords": [
           {
            "line": {
             "colorbar": {
              "outlinewidth": 0,
              "ticks": ""
             }
            },
            "type": "parcoords"
           }
          ],
          "pie": [
           {
            "automargin": true,
            "type": "pie"
           }
          ],
          "scatter": [
           {
            "fillpattern": {
             "fillmode": "overlay",
             "size": 10,
             "solidity": 0.2
            },
            "type": "scatter"
           }
          ],
          "scatter3d": [
           {
            "line": {
             "colorbar": {
              "outlinewidth": 0,
              "ticks": ""
             }
            },
            "marker": {
             "colorbar": {
              "outlinewidth": 0,
              "ticks": ""
             }
            },
            "type": "scatter3d"
           }
          ],
          "scattercarpet": [
           {
            "marker": {
             "colorbar": {
              "outlinewidth": 0,
              "ticks": ""
             }
            },
            "type": "scattercarpet"
           }
          ],
          "scattergeo": [
           {
            "marker": {
             "colorbar": {
              "outlinewidth": 0,
              "ticks": ""
             }
            },
            "type": "scattergeo"
           }
          ],
          "scattergl": [
           {
            "marker": {
             "colorbar": {
              "outlinewidth": 0,
              "ticks": ""
             }
            },
            "type": "scattergl"
           }
          ],
          "scattermapbox": [
           {
            "marker": {
             "colorbar": {
              "outlinewidth": 0,
              "ticks": ""
             }
            },
            "type": "scattermapbox"
           }
          ],
          "scatterpolar": [
           {
            "marker": {
             "colorbar": {
              "outlinewidth": 0,
              "ticks": ""
             }
            },
            "type": "scatterpolar"
           }
          ],
          "scatterpolargl": [
           {
            "marker": {
             "colorbar": {
              "outlinewidth": 0,
              "ticks": ""
             }
            },
            "type": "scatterpolargl"
           }
          ],
          "scatterternary": [
           {
            "marker": {
             "colorbar": {
              "outlinewidth": 0,
              "ticks": ""
             }
            },
            "type": "scatterternary"
           }
          ],
          "surface": [
           {
            "colorbar": {
             "outlinewidth": 0,
             "ticks": ""
            },
            "colorscale": [
             [
              0,
              "#0d0887"
             ],
             [
              0.1111111111111111,
              "#46039f"
             ],
             [
              0.2222222222222222,
              "#7201a8"
             ],
             [
              0.3333333333333333,
              "#9c179e"
             ],
             [
              0.4444444444444444,
              "#bd3786"
             ],
             [
              0.5555555555555556,
              "#d8576b"
             ],
             [
              0.6666666666666666,
              "#ed7953"
             ],
             [
              0.7777777777777778,
              "#fb9f3a"
             ],
             [
              0.8888888888888888,
              "#fdca26"
             ],
             [
              1,
              "#f0f921"
             ]
            ],
            "type": "surface"
           }
          ],
          "table": [
           {
            "cells": {
             "fill": {
              "color": "#EBF0F8"
             },
             "line": {
              "color": "white"
             }
            },
            "header": {
             "fill": {
              "color": "#C8D4E3"
             },
             "line": {
              "color": "white"
             }
            },
            "type": "table"
           }
          ]
         },
         "layout": {
          "annotationdefaults": {
           "arrowcolor": "#2a3f5f",
           "arrowhead": 0,
           "arrowwidth": 1
          },
          "autotypenumbers": "strict",
          "coloraxis": {
           "colorbar": {
            "outlinewidth": 0,
            "ticks": ""
           }
          },
          "colorscale": {
           "diverging": [
            [
             0,
             "#8e0152"
            ],
            [
             0.1,
             "#c51b7d"
            ],
            [
             0.2,
             "#de77ae"
            ],
            [
             0.3,
             "#f1b6da"
            ],
            [
             0.4,
             "#fde0ef"
            ],
            [
             0.5,
             "#f7f7f7"
            ],
            [
             0.6,
             "#e6f5d0"
            ],
            [
             0.7,
             "#b8e186"
            ],
            [
             0.8,
             "#7fbc41"
            ],
            [
             0.9,
             "#4d9221"
            ],
            [
             1,
             "#276419"
            ]
           ],
           "sequential": [
            [
             0,
             "#0d0887"
            ],
            [
             0.1111111111111111,
             "#46039f"
            ],
            [
             0.2222222222222222,
             "#7201a8"
            ],
            [
             0.3333333333333333,
             "#9c179e"
            ],
            [
             0.4444444444444444,
             "#bd3786"
            ],
            [
             0.5555555555555556,
             "#d8576b"
            ],
            [
             0.6666666666666666,
             "#ed7953"
            ],
            [
             0.7777777777777778,
             "#fb9f3a"
            ],
            [
             0.8888888888888888,
             "#fdca26"
            ],
            [
             1,
             "#f0f921"
            ]
           ],
           "sequentialminus": [
            [
             0,
             "#0d0887"
            ],
            [
             0.1111111111111111,
             "#46039f"
            ],
            [
             0.2222222222222222,
             "#7201a8"
            ],
            [
             0.3333333333333333,
             "#9c179e"
            ],
            [
             0.4444444444444444,
             "#bd3786"
            ],
            [
             0.5555555555555556,
             "#d8576b"
            ],
            [
             0.6666666666666666,
             "#ed7953"
            ],
            [
             0.7777777777777778,
             "#fb9f3a"
            ],
            [
             0.8888888888888888,
             "#fdca26"
            ],
            [
             1,
             "#f0f921"
            ]
           ]
          },
          "colorway": [
           "#636efa",
           "#EF553B",
           "#00cc96",
           "#ab63fa",
           "#FFA15A",
           "#19d3f3",
           "#FF6692",
           "#B6E880",
           "#FF97FF",
           "#FECB52"
          ],
          "font": {
           "color": "#2a3f5f"
          },
          "geo": {
           "bgcolor": "white",
           "lakecolor": "white",
           "landcolor": "#E5ECF6",
           "showlakes": true,
           "showland": true,
           "subunitcolor": "white"
          },
          "hoverlabel": {
           "align": "left"
          },
          "hovermode": "closest",
          "mapbox": {
           "style": "light"
          },
          "paper_bgcolor": "white",
          "plot_bgcolor": "#E5ECF6",
          "polar": {
           "angularaxis": {
            "gridcolor": "white",
            "linecolor": "white",
            "ticks": ""
           },
           "bgcolor": "#E5ECF6",
           "radialaxis": {
            "gridcolor": "white",
            "linecolor": "white",
            "ticks": ""
           }
          },
          "scene": {
           "xaxis": {
            "backgroundcolor": "#E5ECF6",
            "gridcolor": "white",
            "gridwidth": 2,
            "linecolor": "white",
            "showbackground": true,
            "ticks": "",
            "zerolinecolor": "white"
           },
           "yaxis": {
            "backgroundcolor": "#E5ECF6",
            "gridcolor": "white",
            "gridwidth": 2,
            "linecolor": "white",
            "showbackground": true,
            "ticks": "",
            "zerolinecolor": "white"
           },
           "zaxis": {
            "backgroundcolor": "#E5ECF6",
            "gridcolor": "white",
            "gridwidth": 2,
            "linecolor": "white",
            "showbackground": true,
            "ticks": "",
            "zerolinecolor": "white"
           }
          },
          "shapedefaults": {
           "line": {
            "color": "#2a3f5f"
           }
          },
          "ternary": {
           "aaxis": {
            "gridcolor": "white",
            "linecolor": "white",
            "ticks": ""
           },
           "baxis": {
            "gridcolor": "white",
            "linecolor": "white",
            "ticks": ""
           },
           "bgcolor": "#E5ECF6",
           "caxis": {
            "gridcolor": "white",
            "linecolor": "white",
            "ticks": ""
           }
          },
          "title": {
           "x": 0.05
          },
          "xaxis": {
           "automargin": true,
           "gridcolor": "white",
           "linecolor": "white",
           "ticks": "",
           "title": {
            "standoff": 15
           },
           "zerolinecolor": "white",
           "zerolinewidth": 2
          },
          "yaxis": {
           "automargin": true,
           "gridcolor": "white",
           "linecolor": "white",
           "ticks": "",
           "title": {
            "standoff": 15
           },
           "zerolinecolor": "white",
           "zerolinewidth": 2
          }
         }
        },
        "title": {
         "text": "Task timeline by projects"
        },
        "xaxis": {
         "anchor": "y",
         "domain": [
          0,
          1
         ],
         "linecolor": "black",
         "linewidth": 2,
         "showline": true,
         "tickformat": "%y-%m-%d",
         "type": "date"
        },
        "yaxis": {
         "anchor": "x",
         "autorange": "reversed",
         "domain": [
          0,
          1
         ],
         "title": {
          "text": "Task ID"
         }
        }
       }
      }
     },
     "metadata": {},
     "output_type": "display_data"
    }
   ],
   "source": [
    "fig = px.timeline(df, x_start=\"start\", x_end=\"end\", y=\"Task ID\", hover_name='participants', \n",
    "                  hover_data = {'Task ID': True,\n",
    "                                'project':True,\n",
    "                                'start':True,\n",
    "                                'end':True,\n",
    "                                'description':True,\n",
    "                                'participants':True,\n",
    "                                'Finished':True\n",
    "                                }, \n",
    "                  color = 'project', text = 'description', height = 1000)\n",
    "fig.add_vline(x=today, line_width=1, line_color=\"black\")\n",
    "fig.update_layout(title= 'Task timeline by projects', xaxis_tickformat='%y-%m-%d')\n",
    "fig.update_xaxes(showline=True, linewidth=2, linecolor='black')\n",
    "fig.update_yaxes(autorange=\"reversed\")\n",
    "fig.show()\n",
    "# PVlib by Sandia National lab"
   ]
  },
  {
   "cell_type": "code",
   "execution_count": 36,
   "metadata": {},
   "outputs": [
    {
     "data": {
      "application/vnd.plotly.v1+json": {
       "config": {
        "plotlyServerURL": "https://plot.ly"
       },
       "data": [
        {
         "alignmentgroup": "True",
         "base": [
          "2022-04-08T00:00:00",
          "2022-04-08T00:00:00",
          "2022-04-08T00:00:00",
          "2022-04-08T00:00:00",
          "2022-04-08T00:00:00",
          "2022-04-08T00:00:00",
          "2022-04-08T00:00:00",
          "2022-04-08T00:00:00",
          "2022-04-08T00:00:00",
          "2022-04-08T00:00:00",
          "2022-04-08T00:00:00",
          "2022-04-08T00:00:00",
          "2022-04-08T00:00:00",
          "2022-04-08T00:00:00",
          "2022-04-08T00:00:00",
          "2022-04-08T00:00:00",
          "2022-04-08T00:00:00",
          "2022-04-08T00:00:00",
          "2022-04-08T00:00:00",
          "2022-04-08T00:00:00",
          "2022-04-08T00:00:00"
         ],
         "customdata": [
          [
           "BIPV mapping",
           "Data assessment",
           "Frank",
           false
          ],
          [
           "BIPV mapping",
           "Data assessment",
           "Gavin",
           false
          ],
          [
           "BIPV mapping",
           "Paper writing",
           "Nilmini, Gavin, Frank",
           false
          ],
          [
           "Urban BIPV",
           "Research design flowchart",
           "Gregory",
           false
          ],
          [
           "Urban BIPV",
           "Study location selection",
           "Ingrid",
           false
          ],
          [
           "Urban BIPV",
           "Solar irradiation simulation",
           "Gavin",
           false
          ],
          [
           "Urban BIPV",
           "Select 2-3 buildings/ BIPV products",
           "Ingrid",
           false
          ],
          [
           "Urban BIPV",
           "Economic assessment",
           "Ingrid",
           false
          ],
          [
           "Urban BIPV",
           "Review paper",
           "Ingrid",
           false
          ],
          [
           "Product info",
           "Provide contribution",
           "All",
           false
          ],
          [
           "STA",
           "Internal draft",
           "Nilmini, Pabasara, Chathuri",
           false
          ],
          [
           "STA",
           "External review",
           "Nilmini, Pabasara, Chathuri",
           false
          ],
          [
           "Grid impact on P2P",
           "VCG/KDA/TR ->PV/PV+Battery",
           "Kaige",
           false
          ],
          [
           "Grid impact on P2P",
           "Coorpeartive GT  ->PV/PV+Battery",
           "Kaige",
           false
          ],
          [
           "Grid impact on P2P",
           "Explanation of GT",
           "Kaige",
           false
          ],
          [
           "Grid impact on P2P",
           "Chaperter on P2P",
           "Chathuri",
           false
          ],
          [
           "Grid impact on P2P",
           "Chaperter on BIPV",
           "Chathuri",
           false
          ],
          [
           "Grid impact on P2P",
           "Two paper for GT",
           "Chathuri",
           false
          ],
          [
           "Design Hub",
           "All simulation",
           "Sujan",
           false
          ],
          [
           "BIPV Enabler",
           "Report",
           "Pabasara",
           false
          ],
          [
           "BIPV Enabler",
           "Industry workshop/travelling",
           "Rebecca",
           false
          ]
         ],
         "hovertemplate": "<b>%{hovertext}</b><br><br>Finished=%{customdata[3]}<br>start=%{base}<br>end=%{x}<br>Task ID=%{y}<br>description=%{customdata[1]}<br>project=%{customdata[0]}<br>participants=%{customdata[2]}<extra></extra>",
         "hovertext": [
          "Frank",
          "Gavin",
          "Nilmini, Gavin, Frank",
          "Gregory",
          "Ingrid",
          "Gavin",
          "Ingrid",
          "Ingrid",
          "Ingrid",
          "All",
          "Nilmini, Pabasara, Chathuri",
          "Nilmini, Pabasara, Chathuri",
          "Kaige",
          "Kaige",
          "Kaige",
          "Chathuri",
          "Chathuri",
          "Chathuri",
          "Sujan",
          "Pabasara",
          "Rebecca"
         ],
         "legendgroup": "False",
         "marker": {
          "color": "#636efa"
         },
         "name": "False",
         "offsetgroup": "False",
         "orientation": "h",
         "showlegend": true,
         "text": [
          "Data assessment",
          "Data assessment",
          "Paper writing",
          "Research design flowchart",
          "Study location selection",
          "Solar irradiation simulation",
          "Select 2-3 buildings/ BIPV products",
          "Economic assessment",
          "Review paper",
          "Provide contribution",
          "Internal draft",
          "External review",
          "VCG/KDA/TR ->PV/PV+Battery",
          "Coorpeartive GT  ->PV/PV+Battery",
          "Explanation of GT",
          "Chaperter on P2P",
          "Chaperter on BIPV",
          "Two paper for GT",
          "All simulation",
          "Report",
          "Industry workshop/travelling"
         ],
         "textposition": "auto",
         "type": "bar",
         "x": [
          3196800000,
          4579200000,
          9936000000,
          1209600000,
          1987200000,
          4665600000,
          4665600000,
          4665600000,
          1987200000,
          7171200000,
          1987200000,
          4665600000,
          1209600000,
          1209600000,
          1987200000,
          3196800000,
          4579200000,
          7171200000,
          1209600000,
          1900800000,
          1900800000
         ],
         "xaxis": "x",
         "y": [
          "0",
          "1",
          "2",
          "3",
          "4",
          "5",
          "6",
          "7",
          "8",
          "11",
          "12",
          "13",
          "14",
          "15",
          "16",
          "17",
          "18",
          "19",
          "20",
          "21",
          "22"
         ],
         "yaxis": "y"
        },
        {
         "alignmentgroup": "True",
         "base": [
          "2022-04-08T00:00:00",
          "2022-04-08T00:00:00"
         ],
         "customdata": [
          [
           "Product info",
           "Stakeholder attributes",
           "Ivan",
           true
          ],
          [
           "Product info",
           "Distribution of product info",
           "Jiaqi",
           true
          ]
         ],
         "hovertemplate": "<b>%{hovertext}</b><br><br>Finished=%{customdata[3]}<br>start=%{base}<br>end=%{x}<br>Task ID=%{y}<br>description=%{customdata[1]}<br>project=%{customdata[0]}<br>participants=%{customdata[2]}<extra></extra>",
         "hovertext": [
          "Ivan",
          "Jiaqi"
         ],
         "legendgroup": "True",
         "marker": {
          "color": "#EF553B"
         },
         "name": "True",
         "offsetgroup": "True",
         "orientation": "h",
         "showlegend": true,
         "text": [
          "Stakeholder attributes",
          "Distribution of product info"
         ],
         "textposition": "auto",
         "type": "bar",
         "x": [
          1209600000,
          1987200000
         ],
         "xaxis": "x",
         "y": [
          "9",
          "10"
         ],
         "yaxis": "y"
        }
       ],
       "layout": {
        "barmode": "overlay",
        "height": 1000,
        "legend": {
         "title": {
          "text": "Finished"
         },
         "tracegroupgap": 0
        },
        "margin": {
         "t": 60
        },
        "shapes": [
         {
          "line": {
           "color": "black",
           "width": 1
          },
          "type": "line",
          "x0": "2022-04-22",
          "x1": "2022-04-22",
          "xref": "x",
          "y0": 0,
          "y1": 1,
          "yref": "y domain"
         }
        ],
        "template": {
         "data": {
          "bar": [
           {
            "error_x": {
             "color": "#2a3f5f"
            },
            "error_y": {
             "color": "#2a3f5f"
            },
            "marker": {
             "line": {
              "color": "#E5ECF6",
              "width": 0.5
             },
             "pattern": {
              "fillmode": "overlay",
              "size": 10,
              "solidity": 0.2
             }
            },
            "type": "bar"
           }
          ],
          "barpolar": [
           {
            "marker": {
             "line": {
              "color": "#E5ECF6",
              "width": 0.5
             },
             "pattern": {
              "fillmode": "overlay",
              "size": 10,
              "solidity": 0.2
             }
            },
            "type": "barpolar"
           }
          ],
          "carpet": [
           {
            "aaxis": {
             "endlinecolor": "#2a3f5f",
             "gridcolor": "white",
             "linecolor": "white",
             "minorgridcolor": "white",
             "startlinecolor": "#2a3f5f"
            },
            "baxis": {
             "endlinecolor": "#2a3f5f",
             "gridcolor": "white",
             "linecolor": "white",
             "minorgridcolor": "white",
             "startlinecolor": "#2a3f5f"
            },
            "type": "carpet"
           }
          ],
          "choropleth": [
           {
            "colorbar": {
             "outlinewidth": 0,
             "ticks": ""
            },
            "type": "choropleth"
           }
          ],
          "contour": [
           {
            "colorbar": {
             "outlinewidth": 0,
             "ticks": ""
            },
            "colorscale": [
             [
              0,
              "#0d0887"
             ],
             [
              0.1111111111111111,
              "#46039f"
             ],
             [
              0.2222222222222222,
              "#7201a8"
             ],
             [
              0.3333333333333333,
              "#9c179e"
             ],
             [
              0.4444444444444444,
              "#bd3786"
             ],
             [
              0.5555555555555556,
              "#d8576b"
             ],
             [
              0.6666666666666666,
              "#ed7953"
             ],
             [
              0.7777777777777778,
              "#fb9f3a"
             ],
             [
              0.8888888888888888,
              "#fdca26"
             ],
             [
              1,
              "#f0f921"
             ]
            ],
            "type": "contour"
           }
          ],
          "contourcarpet": [
           {
            "colorbar": {
             "outlinewidth": 0,
             "ticks": ""
            },
            "type": "contourcarpet"
           }
          ],
          "heatmap": [
           {
            "colorbar": {
             "outlinewidth": 0,
             "ticks": ""
            },
            "colorscale": [
             [
              0,
              "#0d0887"
             ],
             [
              0.1111111111111111,
              "#46039f"
             ],
             [
              0.2222222222222222,
              "#7201a8"
             ],
             [
              0.3333333333333333,
              "#9c179e"
             ],
             [
              0.4444444444444444,
              "#bd3786"
             ],
             [
              0.5555555555555556,
              "#d8576b"
             ],
             [
              0.6666666666666666,
              "#ed7953"
             ],
             [
              0.7777777777777778,
              "#fb9f3a"
             ],
             [
              0.8888888888888888,
              "#fdca26"
             ],
             [
              1,
              "#f0f921"
             ]
            ],
            "type": "heatmap"
           }
          ],
          "heatmapgl": [
           {
            "colorbar": {
             "outlinewidth": 0,
             "ticks": ""
            },
            "colorscale": [
             [
              0,
              "#0d0887"
             ],
             [
              0.1111111111111111,
              "#46039f"
             ],
             [
              0.2222222222222222,
              "#7201a8"
             ],
             [
              0.3333333333333333,
              "#9c179e"
             ],
             [
              0.4444444444444444,
              "#bd3786"
             ],
             [
              0.5555555555555556,
              "#d8576b"
             ],
             [
              0.6666666666666666,
              "#ed7953"
             ],
             [
              0.7777777777777778,
              "#fb9f3a"
             ],
             [
              0.8888888888888888,
              "#fdca26"
             ],
             [
              1,
              "#f0f921"
             ]
            ],
            "type": "heatmapgl"
           }
          ],
          "histogram": [
           {
            "marker": {
             "pattern": {
              "fillmode": "overlay",
              "size": 10,
              "solidity": 0.2
             }
            },
            "type": "histogram"
           }
          ],
          "histogram2d": [
           {
            "colorbar": {
             "outlinewidth": 0,
             "ticks": ""
            },
            "colorscale": [
             [
              0,
              "#0d0887"
             ],
             [
              0.1111111111111111,
              "#46039f"
             ],
             [
              0.2222222222222222,
              "#7201a8"
             ],
             [
              0.3333333333333333,
              "#9c179e"
             ],
             [
              0.4444444444444444,
              "#bd3786"
             ],
             [
              0.5555555555555556,
              "#d8576b"
             ],
             [
              0.6666666666666666,
              "#ed7953"
             ],
             [
              0.7777777777777778,
              "#fb9f3a"
             ],
             [
              0.8888888888888888,
              "#fdca26"
             ],
             [
              1,
              "#f0f921"
             ]
            ],
            "type": "histogram2d"
           }
          ],
          "histogram2dcontour": [
           {
            "colorbar": {
             "outlinewidth": 0,
             "ticks": ""
            },
            "colorscale": [
             [
              0,
              "#0d0887"
             ],
             [
              0.1111111111111111,
              "#46039f"
             ],
             [
              0.2222222222222222,
              "#7201a8"
             ],
             [
              0.3333333333333333,
              "#9c179e"
             ],
             [
              0.4444444444444444,
              "#bd3786"
             ],
             [
              0.5555555555555556,
              "#d8576b"
             ],
             [
              0.6666666666666666,
              "#ed7953"
             ],
             [
              0.7777777777777778,
              "#fb9f3a"
             ],
             [
              0.8888888888888888,
              "#fdca26"
             ],
             [
              1,
              "#f0f921"
             ]
            ],
            "type": "histogram2dcontour"
           }
          ],
          "mesh3d": [
           {
            "colorbar": {
             "outlinewidth": 0,
             "ticks": ""
            },
            "type": "mesh3d"
           }
          ],
          "parcoords": [
           {
            "line": {
             "colorbar": {
              "outlinewidth": 0,
              "ticks": ""
             }
            },
            "type": "parcoords"
           }
          ],
          "pie": [
           {
            "automargin": true,
            "type": "pie"
           }
          ],
          "scatter": [
           {
            "fillpattern": {
             "fillmode": "overlay",
             "size": 10,
             "solidity": 0.2
            },
            "type": "scatter"
           }
          ],
          "scatter3d": [
           {
            "line": {
             "colorbar": {
              "outlinewidth": 0,
              "ticks": ""
             }
            },
            "marker": {
             "colorbar": {
              "outlinewidth": 0,
              "ticks": ""
             }
            },
            "type": "scatter3d"
           }
          ],
          "scattercarpet": [
           {
            "marker": {
             "colorbar": {
              "outlinewidth": 0,
              "ticks": ""
             }
            },
            "type": "scattercarpet"
           }
          ],
          "scattergeo": [
           {
            "marker": {
             "colorbar": {
              "outlinewidth": 0,
              "ticks": ""
             }
            },
            "type": "scattergeo"
           }
          ],
          "scattergl": [
           {
            "marker": {
             "colorbar": {
              "outlinewidth": 0,
              "ticks": ""
             }
            },
            "type": "scattergl"
           }
          ],
          "scattermapbox": [
           {
            "marker": {
             "colorbar": {
              "outlinewidth": 0,
              "ticks": ""
             }
            },
            "type": "scattermapbox"
           }
          ],
          "scatterpolar": [
           {
            "marker": {
             "colorbar": {
              "outlinewidth": 0,
              "ticks": ""
             }
            },
            "type": "scatterpolar"
           }
          ],
          "scatterpolargl": [
           {
            "marker": {
             "colorbar": {
              "outlinewidth": 0,
              "ticks": ""
             }
            },
            "type": "scatterpolargl"
           }
          ],
          "scatterternary": [
           {
            "marker": {
             "colorbar": {
              "outlinewidth": 0,
              "ticks": ""
             }
            },
            "type": "scatterternary"
           }
          ],
          "surface": [
           {
            "colorbar": {
             "outlinewidth": 0,
             "ticks": ""
            },
            "colorscale": [
             [
              0,
              "#0d0887"
             ],
             [
              0.1111111111111111,
              "#46039f"
             ],
             [
              0.2222222222222222,
              "#7201a8"
             ],
             [
              0.3333333333333333,
              "#9c179e"
             ],
             [
              0.4444444444444444,
              "#bd3786"
             ],
             [
              0.5555555555555556,
              "#d8576b"
             ],
             [
              0.6666666666666666,
              "#ed7953"
             ],
             [
              0.7777777777777778,
              "#fb9f3a"
             ],
             [
              0.8888888888888888,
              "#fdca26"
             ],
             [
              1,
              "#f0f921"
             ]
            ],
            "type": "surface"
           }
          ],
          "table": [
           {
            "cells": {
             "fill": {
              "color": "#EBF0F8"
             },
             "line": {
              "color": "white"
             }
            },
            "header": {
             "fill": {
              "color": "#C8D4E3"
             },
             "line": {
              "color": "white"
             }
            },
            "type": "table"
           }
          ]
         },
         "layout": {
          "annotationdefaults": {
           "arrowcolor": "#2a3f5f",
           "arrowhead": 0,
           "arrowwidth": 1
          },
          "autotypenumbers": "strict",
          "coloraxis": {
           "colorbar": {
            "outlinewidth": 0,
            "ticks": ""
           }
          },
          "colorscale": {
           "diverging": [
            [
             0,
             "#8e0152"
            ],
            [
             0.1,
             "#c51b7d"
            ],
            [
             0.2,
             "#de77ae"
            ],
            [
             0.3,
             "#f1b6da"
            ],
            [
             0.4,
             "#fde0ef"
            ],
            [
             0.5,
             "#f7f7f7"
            ],
            [
             0.6,
             "#e6f5d0"
            ],
            [
             0.7,
             "#b8e186"
            ],
            [
             0.8,
             "#7fbc41"
            ],
            [
             0.9,
             "#4d9221"
            ],
            [
             1,
             "#276419"
            ]
           ],
           "sequential": [
            [
             0,
             "#0d0887"
            ],
            [
             0.1111111111111111,
             "#46039f"
            ],
            [
             0.2222222222222222,
             "#7201a8"
            ],
            [
             0.3333333333333333,
             "#9c179e"
            ],
            [
             0.4444444444444444,
             "#bd3786"
            ],
            [
             0.5555555555555556,
             "#d8576b"
            ],
            [
             0.6666666666666666,
             "#ed7953"
            ],
            [
             0.7777777777777778,
             "#fb9f3a"
            ],
            [
             0.8888888888888888,
             "#fdca26"
            ],
            [
             1,
             "#f0f921"
            ]
           ],
           "sequentialminus": [
            [
             0,
             "#0d0887"
            ],
            [
             0.1111111111111111,
             "#46039f"
            ],
            [
             0.2222222222222222,
             "#7201a8"
            ],
            [
             0.3333333333333333,
             "#9c179e"
            ],
            [
             0.4444444444444444,
             "#bd3786"
            ],
            [
             0.5555555555555556,
             "#d8576b"
            ],
            [
             0.6666666666666666,
             "#ed7953"
            ],
            [
             0.7777777777777778,
             "#fb9f3a"
            ],
            [
             0.8888888888888888,
             "#fdca26"
            ],
            [
             1,
             "#f0f921"
            ]
           ]
          },
          "colorway": [
           "#636efa",
           "#EF553B",
           "#00cc96",
           "#ab63fa",
           "#FFA15A",
           "#19d3f3",
           "#FF6692",
           "#B6E880",
           "#FF97FF",
           "#FECB52"
          ],
          "font": {
           "color": "#2a3f5f"
          },
          "geo": {
           "bgcolor": "white",
           "lakecolor": "white",
           "landcolor": "#E5ECF6",
           "showlakes": true,
           "showland": true,
           "subunitcolor": "white"
          },
          "hoverlabel": {
           "align": "left"
          },
          "hovermode": "closest",
          "mapbox": {
           "style": "light"
          },
          "paper_bgcolor": "white",
          "plot_bgcolor": "#E5ECF6",
          "polar": {
           "angularaxis": {
            "gridcolor": "white",
            "linecolor": "white",
            "ticks": ""
           },
           "bgcolor": "#E5ECF6",
           "radialaxis": {
            "gridcolor": "white",
            "linecolor": "white",
            "ticks": ""
           }
          },
          "scene": {
           "xaxis": {
            "backgroundcolor": "#E5ECF6",
            "gridcolor": "white",
            "gridwidth": 2,
            "linecolor": "white",
            "showbackground": true,
            "ticks": "",
            "zerolinecolor": "white"
           },
           "yaxis": {
            "backgroundcolor": "#E5ECF6",
            "gridcolor": "white",
            "gridwidth": 2,
            "linecolor": "white",
            "showbackground": true,
            "ticks": "",
            "zerolinecolor": "white"
           },
           "zaxis": {
            "backgroundcolor": "#E5ECF6",
            "gridcolor": "white",
            "gridwidth": 2,
            "linecolor": "white",
            "showbackground": true,
            "ticks": "",
            "zerolinecolor": "white"
           }
          },
          "shapedefaults": {
           "line": {
            "color": "#2a3f5f"
           }
          },
          "ternary": {
           "aaxis": {
            "gridcolor": "white",
            "linecolor": "white",
            "ticks": ""
           },
           "baxis": {
            "gridcolor": "white",
            "linecolor": "white",
            "ticks": ""
           },
           "bgcolor": "#E5ECF6",
           "caxis": {
            "gridcolor": "white",
            "linecolor": "white",
            "ticks": ""
           }
          },
          "title": {
           "x": 0.05
          },
          "xaxis": {
           "automargin": true,
           "gridcolor": "white",
           "linecolor": "white",
           "ticks": "",
           "title": {
            "standoff": 15
           },
           "zerolinecolor": "white",
           "zerolinewidth": 2
          },
          "yaxis": {
           "automargin": true,
           "gridcolor": "white",
           "linecolor": "white",
           "ticks": "",
           "title": {
            "standoff": 15
           },
           "zerolinecolor": "white",
           "zerolinewidth": 2
          }
         }
        },
        "title": {
         "text": "Task timeline by projects"
        },
        "xaxis": {
         "anchor": "y",
         "domain": [
          0,
          1
         ],
         "linecolor": "black",
         "linewidth": 2,
         "showline": true,
         "tickformat": "%y-%m-%d",
         "type": "date"
        },
        "yaxis": {
         "anchor": "x",
         "autorange": "reversed",
         "domain": [
          0,
          1
         ],
         "title": {
          "text": "Task ID"
         }
        }
       }
      }
     },
     "metadata": {},
     "output_type": "display_data"
    }
   ],
   "source": [
    "fig = px.timeline(df, x_start=\"start\", x_end=\"end\", y=\"Task ID\", hover_name='participants', \n",
    "                  hover_data = {'Task ID': True,\n",
    "                                'project':True,\n",
    "                                'start':True,\n",
    "                                'end':True,\n",
    "                                'description':True,\n",
    "                                'participants':True,\n",
    "                                'Finished':True\n",
    "                                }, \n",
    "                  color = 'Finished', text = 'description', height = 1000)\n",
    "fig.add_vline(x=today, line_width=1, line_color=\"black\")\n",
    "fig.update_layout(title= 'Task timeline by projects', xaxis_tickformat='%y-%m-%d')\n",
    "fig.update_xaxes(showline=True, linewidth=2, linecolor='black')\n",
    "fig.update_yaxes(autorange=\"reversed\")\n",
    "fig.show()"
   ]
  },
  {
   "cell_type": "code",
   "execution_count": 35,
   "metadata": {},
   "outputs": [
    {
     "data": {
      "application/vnd.plotly.v1+json": {
       "config": {
        "plotlyServerURL": "https://plot.ly"
       },
       "data": [
        {
         "alignmentgroup": "True",
         "base": [
          "2022-04-08T00:00:00"
         ],
         "customdata": [
          [
           "BIPV mapping",
           "Data assessment",
           "Frank"
          ]
         ],
         "hovertemplate": "<b>%{hovertext}</b><br><br>participants=%{customdata[2]}<br>start=%{base}<br>end=%{x}<br>Task ID=%{y}<br>description=%{customdata[1]}<br>project=%{customdata[0]}<extra></extra>",
         "hovertext": [
          "Frank"
         ],
         "legendgroup": "Frank",
         "marker": {
          "color": "#636efa"
         },
         "name": "Frank",
         "offsetgroup": "Frank",
         "orientation": "h",
         "showlegend": true,
         "text": [
          "Data assessment"
         ],
         "textposition": "auto",
         "type": "bar",
         "x": [
          3196800000
         ],
         "xaxis": "x",
         "y": [
          "0"
         ],
         "yaxis": "y"
        },
        {
         "alignmentgroup": "True",
         "base": [
          "2022-04-08T00:00:00",
          "2022-04-08T00:00:00"
         ],
         "customdata": [
          [
           "BIPV mapping",
           "Data assessment",
           "Gavin"
          ],
          [
           "Urban BIPV",
           "Solar irradiation simulation",
           "Gavin"
          ]
         ],
         "hovertemplate": "<b>%{hovertext}</b><br><br>participants=%{customdata[2]}<br>start=%{base}<br>end=%{x}<br>Task ID=%{y}<br>description=%{customdata[1]}<br>project=%{customdata[0]}<extra></extra>",
         "hovertext": [
          "Gavin",
          "Gavin"
         ],
         "legendgroup": "Gavin",
         "marker": {
          "color": "#EF553B"
         },
         "name": "Gavin",
         "offsetgroup": "Gavin",
         "orientation": "h",
         "showlegend": true,
         "text": [
          "Data assessment",
          "Solar irradiation simulation"
         ],
         "textposition": "auto",
         "type": "bar",
         "x": [
          4579200000,
          4665600000
         ],
         "xaxis": "x",
         "y": [
          "1",
          "5"
         ],
         "yaxis": "y"
        },
        {
         "alignmentgroup": "True",
         "base": [
          "2022-04-08T00:00:00"
         ],
         "customdata": [
          [
           "BIPV mapping",
           "Paper writing",
           "Nilmini, Gavin, Frank"
          ]
         ],
         "hovertemplate": "<b>%{hovertext}</b><br><br>participants=%{customdata[2]}<br>start=%{base}<br>end=%{x}<br>Task ID=%{y}<br>description=%{customdata[1]}<br>project=%{customdata[0]}<extra></extra>",
         "hovertext": [
          "Nilmini, Gavin, Frank"
         ],
         "legendgroup": "Nilmini, Gavin, Frank",
         "marker": {
          "color": "#00cc96"
         },
         "name": "Nilmini, Gavin, Frank",
         "offsetgroup": "Nilmini, Gavin, Frank",
         "orientation": "h",
         "showlegend": true,
         "text": [
          "Paper writing"
         ],
         "textposition": "auto",
         "type": "bar",
         "x": [
          9936000000
         ],
         "xaxis": "x",
         "y": [
          "2"
         ],
         "yaxis": "y"
        },
        {
         "alignmentgroup": "True",
         "base": [
          "2022-04-08T00:00:00"
         ],
         "customdata": [
          [
           "Urban BIPV",
           "Research design flowchart",
           "Gregory"
          ]
         ],
         "hovertemplate": "<b>%{hovertext}</b><br><br>participants=%{customdata[2]}<br>start=%{base}<br>end=%{x}<br>Task ID=%{y}<br>description=%{customdata[1]}<br>project=%{customdata[0]}<extra></extra>",
         "hovertext": [
          "Gregory"
         ],
         "legendgroup": "Gregory",
         "marker": {
          "color": "#ab63fa"
         },
         "name": "Gregory",
         "offsetgroup": "Gregory",
         "orientation": "h",
         "showlegend": true,
         "text": [
          "Research design flowchart"
         ],
         "textposition": "auto",
         "type": "bar",
         "x": [
          1209600000
         ],
         "xaxis": "x",
         "y": [
          "3"
         ],
         "yaxis": "y"
        },
        {
         "alignmentgroup": "True",
         "base": [
          "2022-04-08T00:00:00",
          "2022-04-08T00:00:00",
          "2022-04-08T00:00:00",
          "2022-04-08T00:00:00"
         ],
         "customdata": [
          [
           "Urban BIPV",
           "Study location selection",
           "Ingrid"
          ],
          [
           "Urban BIPV",
           "Select 2-3 buildings/ BIPV products",
           "Ingrid"
          ],
          [
           "Urban BIPV",
           "Economic assessment",
           "Ingrid"
          ],
          [
           "Urban BIPV",
           "Review paper",
           "Ingrid"
          ]
         ],
         "hovertemplate": "<b>%{hovertext}</b><br><br>participants=%{customdata[2]}<br>start=%{base}<br>end=%{x}<br>Task ID=%{y}<br>description=%{customdata[1]}<br>project=%{customdata[0]}<extra></extra>",
         "hovertext": [
          "Ingrid",
          "Ingrid",
          "Ingrid",
          "Ingrid"
         ],
         "legendgroup": "Ingrid",
         "marker": {
          "color": "#FFA15A"
         },
         "name": "Ingrid",
         "offsetgroup": "Ingrid",
         "orientation": "h",
         "showlegend": true,
         "text": [
          "Study location selection",
          "Select 2-3 buildings/ BIPV products",
          "Economic assessment",
          "Review paper"
         ],
         "textposition": "auto",
         "type": "bar",
         "x": [
          1987200000,
          4665600000,
          4665600000,
          1987200000
         ],
         "xaxis": "x",
         "y": [
          "4",
          "6",
          "7",
          "8"
         ],
         "yaxis": "y"
        },
        {
         "alignmentgroup": "True",
         "base": [
          "2022-04-08T00:00:00"
         ],
         "customdata": [
          [
           "Product info",
           "Stakeholder attributes",
           "Ivan"
          ]
         ],
         "hovertemplate": "<b>%{hovertext}</b><br><br>participants=%{customdata[2]}<br>start=%{base}<br>end=%{x}<br>Task ID=%{y}<br>description=%{customdata[1]}<br>project=%{customdata[0]}<extra></extra>",
         "hovertext": [
          "Ivan"
         ],
         "legendgroup": "Ivan",
         "marker": {
          "color": "#19d3f3"
         },
         "name": "Ivan",
         "offsetgroup": "Ivan",
         "orientation": "h",
         "showlegend": true,
         "text": [
          "Stakeholder attributes"
         ],
         "textposition": "auto",
         "type": "bar",
         "x": [
          1209600000
         ],
         "xaxis": "x",
         "y": [
          "9"
         ],
         "yaxis": "y"
        },
        {
         "alignmentgroup": "True",
         "base": [
          "2022-04-08T00:00:00"
         ],
         "customdata": [
          [
           "Product info",
           "Distribution of product info",
           "Jiaqi"
          ]
         ],
         "hovertemplate": "<b>%{hovertext}</b><br><br>participants=%{customdata[2]}<br>start=%{base}<br>end=%{x}<br>Task ID=%{y}<br>description=%{customdata[1]}<br>project=%{customdata[0]}<extra></extra>",
         "hovertext": [
          "Jiaqi"
         ],
         "legendgroup": "Jiaqi",
         "marker": {
          "color": "#FF6692"
         },
         "name": "Jiaqi",
         "offsetgroup": "Jiaqi",
         "orientation": "h",
         "showlegend": true,
         "text": [
          "Distribution of product info"
         ],
         "textposition": "auto",
         "type": "bar",
         "x": [
          1987200000
         ],
         "xaxis": "x",
         "y": [
          "10"
         ],
         "yaxis": "y"
        },
        {
         "alignmentgroup": "True",
         "base": [
          "2022-04-08T00:00:00"
         ],
         "customdata": [
          [
           "Product info",
           "Provide contribution",
           "All"
          ]
         ],
         "hovertemplate": "<b>%{hovertext}</b><br><br>participants=%{customdata[2]}<br>start=%{base}<br>end=%{x}<br>Task ID=%{y}<br>description=%{customdata[1]}<br>project=%{customdata[0]}<extra></extra>",
         "hovertext": [
          "All"
         ],
         "legendgroup": "All",
         "marker": {
          "color": "#B6E880"
         },
         "name": "All",
         "offsetgroup": "All",
         "orientation": "h",
         "showlegend": true,
         "text": [
          "Provide contribution"
         ],
         "textposition": "auto",
         "type": "bar",
         "x": [
          7171200000
         ],
         "xaxis": "x",
         "y": [
          "11"
         ],
         "yaxis": "y"
        },
        {
         "alignmentgroup": "True",
         "base": [
          "2022-04-08T00:00:00",
          "2022-04-08T00:00:00"
         ],
         "customdata": [
          [
           "STA",
           "Internal draft",
           "Nilmini, Pabasara, Chathuri"
          ],
          [
           "STA",
           "External review",
           "Nilmini, Pabasara, Chathuri"
          ]
         ],
         "hovertemplate": "<b>%{hovertext}</b><br><br>participants=%{customdata[2]}<br>start=%{base}<br>end=%{x}<br>Task ID=%{y}<br>description=%{customdata[1]}<br>project=%{customdata[0]}<extra></extra>",
         "hovertext": [
          "Nilmini, Pabasara, Chathuri",
          "Nilmini, Pabasara, Chathuri"
         ],
         "legendgroup": "Nilmini, Pabasara, Chathuri",
         "marker": {
          "color": "#FF97FF"
         },
         "name": "Nilmini, Pabasara, Chathuri",
         "offsetgroup": "Nilmini, Pabasara, Chathuri",
         "orientation": "h",
         "showlegend": true,
         "text": [
          "Internal draft",
          "External review"
         ],
         "textposition": "auto",
         "type": "bar",
         "x": [
          1987200000,
          4665600000
         ],
         "xaxis": "x",
         "y": [
          "12",
          "13"
         ],
         "yaxis": "y"
        },
        {
         "alignmentgroup": "True",
         "base": [
          "2022-04-08T00:00:00",
          "2022-04-08T00:00:00",
          "2022-04-08T00:00:00"
         ],
         "customdata": [
          [
           "Grid impact on P2P",
           "VCG/KDA/TR ->PV/PV+Battery",
           "Kaige"
          ],
          [
           "Grid impact on P2P",
           "Coorpeartive GT  ->PV/PV+Battery",
           "Kaige"
          ],
          [
           "Grid impact on P2P",
           "Explanation of GT",
           "Kaige"
          ]
         ],
         "hovertemplate": "<b>%{hovertext}</b><br><br>participants=%{customdata[2]}<br>start=%{base}<br>end=%{x}<br>Task ID=%{y}<br>description=%{customdata[1]}<br>project=%{customdata[0]}<extra></extra>",
         "hovertext": [
          "Kaige",
          "Kaige",
          "Kaige"
         ],
         "legendgroup": "Kaige",
         "marker": {
          "color": "#FECB52"
         },
         "name": "Kaige",
         "offsetgroup": "Kaige",
         "orientation": "h",
         "showlegend": true,
         "text": [
          "VCG/KDA/TR ->PV/PV+Battery",
          "Coorpeartive GT  ->PV/PV+Battery",
          "Explanation of GT"
         ],
         "textposition": "auto",
         "type": "bar",
         "x": [
          1209600000,
          1209600000,
          1987200000
         ],
         "xaxis": "x",
         "y": [
          "14",
          "15",
          "16"
         ],
         "yaxis": "y"
        },
        {
         "alignmentgroup": "True",
         "base": [
          "2022-04-08T00:00:00",
          "2022-04-08T00:00:00",
          "2022-04-08T00:00:00"
         ],
         "customdata": [
          [
           "Grid impact on P2P",
           "Chaperter on P2P",
           "Chathuri"
          ],
          [
           "Grid impact on P2P",
           "Chaperter on BIPV",
           "Chathuri"
          ],
          [
           "Grid impact on P2P",
           "Two paper for GT",
           "Chathuri"
          ]
         ],
         "hovertemplate": "<b>%{hovertext}</b><br><br>participants=%{customdata[2]}<br>start=%{base}<br>end=%{x}<br>Task ID=%{y}<br>description=%{customdata[1]}<br>project=%{customdata[0]}<extra></extra>",
         "hovertext": [
          "Chathuri",
          "Chathuri",
          "Chathuri"
         ],
         "legendgroup": "Chathuri",
         "marker": {
          "color": "#636efa"
         },
         "name": "Chathuri",
         "offsetgroup": "Chathuri",
         "orientation": "h",
         "showlegend": true,
         "text": [
          "Chaperter on P2P",
          "Chaperter on BIPV",
          "Two paper for GT"
         ],
         "textposition": "auto",
         "type": "bar",
         "x": [
          3196800000,
          4579200000,
          7171200000
         ],
         "xaxis": "x",
         "y": [
          "17",
          "18",
          "19"
         ],
         "yaxis": "y"
        },
        {
         "alignmentgroup": "True",
         "base": [
          "2022-04-08T00:00:00"
         ],
         "customdata": [
          [
           "Design Hub",
           "All simulation",
           "Sujan"
          ]
         ],
         "hovertemplate": "<b>%{hovertext}</b><br><br>participants=%{customdata[2]}<br>start=%{base}<br>end=%{x}<br>Task ID=%{y}<br>description=%{customdata[1]}<br>project=%{customdata[0]}<extra></extra>",
         "hovertext": [
          "Sujan"
         ],
         "legendgroup": "Sujan",
         "marker": {
          "color": "#EF553B"
         },
         "name": "Sujan",
         "offsetgroup": "Sujan",
         "orientation": "h",
         "showlegend": true,
         "text": [
          "All simulation"
         ],
         "textposition": "auto",
         "type": "bar",
         "x": [
          1209600000
         ],
         "xaxis": "x",
         "y": [
          "20"
         ],
         "yaxis": "y"
        },
        {
         "alignmentgroup": "True",
         "base": [
          "2022-04-08T00:00:00"
         ],
         "customdata": [
          [
           "BIPV Enabler",
           "Report",
           "Pabasara"
          ]
         ],
         "hovertemplate": "<b>%{hovertext}</b><br><br>participants=%{customdata[2]}<br>start=%{base}<br>end=%{x}<br>Task ID=%{y}<br>description=%{customdata[1]}<br>project=%{customdata[0]}<extra></extra>",
         "hovertext": [
          "Pabasara"
         ],
         "legendgroup": "Pabasara",
         "marker": {
          "color": "#00cc96"
         },
         "name": "Pabasara",
         "offsetgroup": "Pabasara",
         "orientation": "h",
         "showlegend": true,
         "text": [
          "Report"
         ],
         "textposition": "auto",
         "type": "bar",
         "x": [
          1900800000
         ],
         "xaxis": "x",
         "y": [
          "21"
         ],
         "yaxis": "y"
        },
        {
         "alignmentgroup": "True",
         "base": [
          "2022-04-08T00:00:00"
         ],
         "customdata": [
          [
           "BIPV Enabler",
           "Industry workshop/travelling",
           "Rebecca"
          ]
         ],
         "hovertemplate": "<b>%{hovertext}</b><br><br>participants=%{customdata[2]}<br>start=%{base}<br>end=%{x}<br>Task ID=%{y}<br>description=%{customdata[1]}<br>project=%{customdata[0]}<extra></extra>",
         "hovertext": [
          "Rebecca"
         ],
         "legendgroup": "Rebecca",
         "marker": {
          "color": "#ab63fa"
         },
         "name": "Rebecca",
         "offsetgroup": "Rebecca",
         "orientation": "h",
         "showlegend": true,
         "text": [
          "Industry workshop/travelling"
         ],
         "textposition": "auto",
         "type": "bar",
         "x": [
          1900800000
         ],
         "xaxis": "x",
         "y": [
          "22"
         ],
         "yaxis": "y"
        }
       ],
       "layout": {
        "barmode": "overlay",
        "height": 1000,
        "legend": {
         "title": {
          "text": "participants"
         },
         "tracegroupgap": 0
        },
        "margin": {
         "t": 60
        },
        "shapes": [
         {
          "line": {
           "color": "black",
           "width": 1
          },
          "type": "line",
          "x0": "2022-04-22",
          "x1": "2022-04-22",
          "xref": "x",
          "y0": 0,
          "y1": 1,
          "yref": "y domain"
         }
        ],
        "template": {
         "data": {
          "bar": [
           {
            "error_x": {
             "color": "#2a3f5f"
            },
            "error_y": {
             "color": "#2a3f5f"
            },
            "marker": {
             "line": {
              "color": "#E5ECF6",
              "width": 0.5
             },
             "pattern": {
              "fillmode": "overlay",
              "size": 10,
              "solidity": 0.2
             }
            },
            "type": "bar"
           }
          ],
          "barpolar": [
           {
            "marker": {
             "line": {
              "color": "#E5ECF6",
              "width": 0.5
             },
             "pattern": {
              "fillmode": "overlay",
              "size": 10,
              "solidity": 0.2
             }
            },
            "type": "barpolar"
           }
          ],
          "carpet": [
           {
            "aaxis": {
             "endlinecolor": "#2a3f5f",
             "gridcolor": "white",
             "linecolor": "white",
             "minorgridcolor": "white",
             "startlinecolor": "#2a3f5f"
            },
            "baxis": {
             "endlinecolor": "#2a3f5f",
             "gridcolor": "white",
             "linecolor": "white",
             "minorgridcolor": "white",
             "startlinecolor": "#2a3f5f"
            },
            "type": "carpet"
           }
          ],
          "choropleth": [
           {
            "colorbar": {
             "outlinewidth": 0,
             "ticks": ""
            },
            "type": "choropleth"
           }
          ],
          "contour": [
           {
            "colorbar": {
             "outlinewidth": 0,
             "ticks": ""
            },
            "colorscale": [
             [
              0,
              "#0d0887"
             ],
             [
              0.1111111111111111,
              "#46039f"
             ],
             [
              0.2222222222222222,
              "#7201a8"
             ],
             [
              0.3333333333333333,
              "#9c179e"
             ],
             [
              0.4444444444444444,
              "#bd3786"
             ],
             [
              0.5555555555555556,
              "#d8576b"
             ],
             [
              0.6666666666666666,
              "#ed7953"
             ],
             [
              0.7777777777777778,
              "#fb9f3a"
             ],
             [
              0.8888888888888888,
              "#fdca26"
             ],
             [
              1,
              "#f0f921"
             ]
            ],
            "type": "contour"
           }
          ],
          "contourcarpet": [
           {
            "colorbar": {
             "outlinewidth": 0,
             "ticks": ""
            },
            "type": "contourcarpet"
           }
          ],
          "heatmap": [
           {
            "colorbar": {
             "outlinewidth": 0,
             "ticks": ""
            },
            "colorscale": [
             [
              0,
              "#0d0887"
             ],
             [
              0.1111111111111111,
              "#46039f"
             ],
             [
              0.2222222222222222,
              "#7201a8"
             ],
             [
              0.3333333333333333,
              "#9c179e"
             ],
             [
              0.4444444444444444,
              "#bd3786"
             ],
             [
              0.5555555555555556,
              "#d8576b"
             ],
             [
              0.6666666666666666,
              "#ed7953"
             ],
             [
              0.7777777777777778,
              "#fb9f3a"
             ],
             [
              0.8888888888888888,
              "#fdca26"
             ],
             [
              1,
              "#f0f921"
             ]
            ],
            "type": "heatmap"
           }
          ],
          "heatmapgl": [
           {
            "colorbar": {
             "outlinewidth": 0,
             "ticks": ""
            },
            "colorscale": [
             [
              0,
              "#0d0887"
             ],
             [
              0.1111111111111111,
              "#46039f"
             ],
             [
              0.2222222222222222,
              "#7201a8"
             ],
             [
              0.3333333333333333,
              "#9c179e"
             ],
             [
              0.4444444444444444,
              "#bd3786"
             ],
             [
              0.5555555555555556,
              "#d8576b"
             ],
             [
              0.6666666666666666,
              "#ed7953"
             ],
             [
              0.7777777777777778,
              "#fb9f3a"
             ],
             [
              0.8888888888888888,
              "#fdca26"
             ],
             [
              1,
              "#f0f921"
             ]
            ],
            "type": "heatmapgl"
           }
          ],
          "histogram": [
           {
            "marker": {
             "pattern": {
              "fillmode": "overlay",
              "size": 10,
              "solidity": 0.2
             }
            },
            "type": "histogram"
           }
          ],
          "histogram2d": [
           {
            "colorbar": {
             "outlinewidth": 0,
             "ticks": ""
            },
            "colorscale": [
             [
              0,
              "#0d0887"
             ],
             [
              0.1111111111111111,
              "#46039f"
             ],
             [
              0.2222222222222222,
              "#7201a8"
             ],
             [
              0.3333333333333333,
              "#9c179e"
             ],
             [
              0.4444444444444444,
              "#bd3786"
             ],
             [
              0.5555555555555556,
              "#d8576b"
             ],
             [
              0.6666666666666666,
              "#ed7953"
             ],
             [
              0.7777777777777778,
              "#fb9f3a"
             ],
             [
              0.8888888888888888,
              "#fdca26"
             ],
             [
              1,
              "#f0f921"
             ]
            ],
            "type": "histogram2d"
           }
          ],
          "histogram2dcontour": [
           {
            "colorbar": {
             "outlinewidth": 0,
             "ticks": ""
            },
            "colorscale": [
             [
              0,
              "#0d0887"
             ],
             [
              0.1111111111111111,
              "#46039f"
             ],
             [
              0.2222222222222222,
              "#7201a8"
             ],
             [
              0.3333333333333333,
              "#9c179e"
             ],
             [
              0.4444444444444444,
              "#bd3786"
             ],
             [
              0.5555555555555556,
              "#d8576b"
             ],
             [
              0.6666666666666666,
              "#ed7953"
             ],
             [
              0.7777777777777778,
              "#fb9f3a"
             ],
             [
              0.8888888888888888,
              "#fdca26"
             ],
             [
              1,
              "#f0f921"
             ]
            ],
            "type": "histogram2dcontour"
           }
          ],
          "mesh3d": [
           {
            "colorbar": {
             "outlinewidth": 0,
             "ticks": ""
            },
            "type": "mesh3d"
           }
          ],
          "parcoords": [
           {
            "line": {
             "colorbar": {
              "outlinewidth": 0,
              "ticks": ""
             }
            },
            "type": "parcoords"
           }
          ],
          "pie": [
           {
            "automargin": true,
            "type": "pie"
           }
          ],
          "scatter": [
           {
            "fillpattern": {
             "fillmode": "overlay",
             "size": 10,
             "solidity": 0.2
            },
            "type": "scatter"
           }
          ],
          "scatter3d": [
           {
            "line": {
             "colorbar": {
              "outlinewidth": 0,
              "ticks": ""
             }
            },
            "marker": {
             "colorbar": {
              "outlinewidth": 0,
              "ticks": ""
             }
            },
            "type": "scatter3d"
           }
          ],
          "scattercarpet": [
           {
            "marker": {
             "colorbar": {
              "outlinewidth": 0,
              "ticks": ""
             }
            },
            "type": "scattercarpet"
           }
          ],
          "scattergeo": [
           {
            "marker": {
             "colorbar": {
              "outlinewidth": 0,
              "ticks": ""
             }
            },
            "type": "scattergeo"
           }
          ],
          "scattergl": [
           {
            "marker": {
             "colorbar": {
              "outlinewidth": 0,
              "ticks": ""
             }
            },
            "type": "scattergl"
           }
          ],
          "scattermapbox": [
           {
            "marker": {
             "colorbar": {
              "outlinewidth": 0,
              "ticks": ""
             }
            },
            "type": "scattermapbox"
           }
          ],
          "scatterpolar": [
           {
            "marker": {
             "colorbar": {
              "outlinewidth": 0,
              "ticks": ""
             }
            },
            "type": "scatterpolar"
           }
          ],
          "scatterpolargl": [
           {
            "marker": {
             "colorbar": {
              "outlinewidth": 0,
              "ticks": ""
             }
            },
            "type": "scatterpolargl"
           }
          ],
          "scatterternary": [
           {
            "marker": {
             "colorbar": {
              "outlinewidth": 0,
              "ticks": ""
             }
            },
            "type": "scatterternary"
           }
          ],
          "surface": [
           {
            "colorbar": {
             "outlinewidth": 0,
             "ticks": ""
            },
            "colorscale": [
             [
              0,
              "#0d0887"
             ],
             [
              0.1111111111111111,
              "#46039f"
             ],
             [
              0.2222222222222222,
              "#7201a8"
             ],
             [
              0.3333333333333333,
              "#9c179e"
             ],
             [
              0.4444444444444444,
              "#bd3786"
             ],
             [
              0.5555555555555556,
              "#d8576b"
             ],
             [
              0.6666666666666666,
              "#ed7953"
             ],
             [
              0.7777777777777778,
              "#fb9f3a"
             ],
             [
              0.8888888888888888,
              "#fdca26"
             ],
             [
              1,
              "#f0f921"
             ]
            ],
            "type": "surface"
           }
          ],
          "table": [
           {
            "cells": {
             "fill": {
              "color": "#EBF0F8"
             },
             "line": {
              "color": "white"
             }
            },
            "header": {
             "fill": {
              "color": "#C8D4E3"
             },
             "line": {
              "color": "white"
             }
            },
            "type": "table"
           }
          ]
         },
         "layout": {
          "annotationdefaults": {
           "arrowcolor": "#2a3f5f",
           "arrowhead": 0,
           "arrowwidth": 1
          },
          "autotypenumbers": "strict",
          "coloraxis": {
           "colorbar": {
            "outlinewidth": 0,
            "ticks": ""
           }
          },
          "colorscale": {
           "diverging": [
            [
             0,
             "#8e0152"
            ],
            [
             0.1,
             "#c51b7d"
            ],
            [
             0.2,
             "#de77ae"
            ],
            [
             0.3,
             "#f1b6da"
            ],
            [
             0.4,
             "#fde0ef"
            ],
            [
             0.5,
             "#f7f7f7"
            ],
            [
             0.6,
             "#e6f5d0"
            ],
            [
             0.7,
             "#b8e186"
            ],
            [
             0.8,
             "#7fbc41"
            ],
            [
             0.9,
             "#4d9221"
            ],
            [
             1,
             "#276419"
            ]
           ],
           "sequential": [
            [
             0,
             "#0d0887"
            ],
            [
             0.1111111111111111,
             "#46039f"
            ],
            [
             0.2222222222222222,
             "#7201a8"
            ],
            [
             0.3333333333333333,
             "#9c179e"
            ],
            [
             0.4444444444444444,
             "#bd3786"
            ],
            [
             0.5555555555555556,
             "#d8576b"
            ],
            [
             0.6666666666666666,
             "#ed7953"
            ],
            [
             0.7777777777777778,
             "#fb9f3a"
            ],
            [
             0.8888888888888888,
             "#fdca26"
            ],
            [
             1,
             "#f0f921"
            ]
           ],
           "sequentialminus": [
            [
             0,
             "#0d0887"
            ],
            [
             0.1111111111111111,
             "#46039f"
            ],
            [
             0.2222222222222222,
             "#7201a8"
            ],
            [
             0.3333333333333333,
             "#9c179e"
            ],
            [
             0.4444444444444444,
             "#bd3786"
            ],
            [
             0.5555555555555556,
             "#d8576b"
            ],
            [
             0.6666666666666666,
             "#ed7953"
            ],
            [
             0.7777777777777778,
             "#fb9f3a"
            ],
            [
             0.8888888888888888,
             "#fdca26"
            ],
            [
             1,
             "#f0f921"
            ]
           ]
          },
          "colorway": [
           "#636efa",
           "#EF553B",
           "#00cc96",
           "#ab63fa",
           "#FFA15A",
           "#19d3f3",
           "#FF6692",
           "#B6E880",
           "#FF97FF",
           "#FECB52"
          ],
          "font": {
           "color": "#2a3f5f"
          },
          "geo": {
           "bgcolor": "white",
           "lakecolor": "white",
           "landcolor": "#E5ECF6",
           "showlakes": true,
           "showland": true,
           "subunitcolor": "white"
          },
          "hoverlabel": {
           "align": "left"
          },
          "hovermode": "closest",
          "mapbox": {
           "style": "light"
          },
          "paper_bgcolor": "white",
          "plot_bgcolor": "#E5ECF6",
          "polar": {
           "angularaxis": {
            "gridcolor": "white",
            "linecolor": "white",
            "ticks": ""
           },
           "bgcolor": "#E5ECF6",
           "radialaxis": {
            "gridcolor": "white",
            "linecolor": "white",
            "ticks": ""
           }
          },
          "scene": {
           "xaxis": {
            "backgroundcolor": "#E5ECF6",
            "gridcolor": "white",
            "gridwidth": 2,
            "linecolor": "white",
            "showbackground": true,
            "ticks": "",
            "zerolinecolor": "white"
           },
           "yaxis": {
            "backgroundcolor": "#E5ECF6",
            "gridcolor": "white",
            "gridwidth": 2,
            "linecolor": "white",
            "showbackground": true,
            "ticks": "",
            "zerolinecolor": "white"
           },
           "zaxis": {
            "backgroundcolor": "#E5ECF6",
            "gridcolor": "white",
            "gridwidth": 2,
            "linecolor": "white",
            "showbackground": true,
            "ticks": "",
            "zerolinecolor": "white"
           }
          },
          "shapedefaults": {
           "line": {
            "color": "#2a3f5f"
           }
          },
          "ternary": {
           "aaxis": {
            "gridcolor": "white",
            "linecolor": "white",
            "ticks": ""
           },
           "baxis": {
            "gridcolor": "white",
            "linecolor": "white",
            "ticks": ""
           },
           "bgcolor": "#E5ECF6",
           "caxis": {
            "gridcolor": "white",
            "linecolor": "white",
            "ticks": ""
           }
          },
          "title": {
           "x": 0.05
          },
          "xaxis": {
           "automargin": true,
           "gridcolor": "white",
           "linecolor": "white",
           "ticks": "",
           "title": {
            "standoff": 15
           },
           "zerolinecolor": "white",
           "zerolinewidth": 2
          },
          "yaxis": {
           "automargin": true,
           "gridcolor": "white",
           "linecolor": "white",
           "ticks": "",
           "title": {
            "standoff": 15
           },
           "zerolinecolor": "white",
           "zerolinewidth": 2
          }
         }
        },
        "title": {
         "text": "Task timeline by projects"
        },
        "xaxis": {
         "anchor": "y",
         "domain": [
          0,
          1
         ],
         "linecolor": "black",
         "linewidth": 2,
         "showline": true,
         "tickformat": "%y-%m-%d",
         "type": "date"
        },
        "yaxis": {
         "anchor": "x",
         "autorange": "reversed",
         "domain": [
          0,
          1
         ],
         "title": {
          "text": "Task ID"
         }
        }
       }
      }
     },
     "metadata": {},
     "output_type": "display_data"
    }
   ],
   "source": [
    "fig = px.timeline(df, x_start=\"start\", x_end=\"end\", y=\"Task ID\", hover_name='participants', \n",
    "                  hover_data = {'Task ID': True,\n",
    "                                'project':True,\n",
    "                                'start':True,\n",
    "                                'end':True,\n",
    "                                'description':True,\n",
    "                                'participants':True}, \n",
    "                  color = 'participants', text = 'description', height = 1000)\n",
    "fig.add_vline(x=today, line_width=1, line_color=\"black\")\n",
    "fig.update_layout(title= 'Task timeline by projects', xaxis_tickformat='%y-%m-%d')\n",
    "fig.update_xaxes(showline=True, linewidth=2, linecolor='black')\n",
    "fig.update_yaxes(autorange=\"reversed\")\n",
    "fig.show()"
   ]
  },
  {
   "cell_type": "code",
   "execution_count": null,
   "metadata": {},
   "outputs": [],
   "source": []
  }
 ],
 "metadata": {
  "interpreter": {
   "hash": "2fb853c1acb7635f7f01c77ec4c4d0ad30994f9d77a77d2364cb648253fc71f8"
  },
  "kernelspec": {
   "display_name": "Python 3.9.7 ('base')",
   "language": "python",
   "name": "python3"
  },
  "language_info": {
   "codemirror_mode": {
    "name": "ipython",
    "version": 3
   },
   "file_extension": ".py",
   "mimetype": "text/x-python",
   "name": "python",
   "nbconvert_exporter": "python",
   "pygments_lexer": "ipython3",
   "version": "3.10.4"
  },
  "orig_nbformat": 4
 },
 "nbformat": 4,
 "nbformat_minor": 2
}
