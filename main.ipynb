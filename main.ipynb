{
 "cells": [
  {
   "cell_type": "code",
   "execution_count": 9,
   "metadata": {},
   "outputs": [],
   "source": [
    "import plotly.express as px\n",
    "import pandas as pd\n",
    "from datetime import date"
   ]
  },
  {
   "cell_type": "code",
   "execution_count": 10,
   "metadata": {},
   "outputs": [],
   "source": [
    "def readRawFile(sheet):\n",
    "    df = pd.read_excel('Project and tasks.xlsx', sheet_name=sheet)\n",
    "    df['Task ID'] = df['Task ID'].astype(str)\n",
    "    df = df.rename(columns={'Finished':'Progress'})\n",
    "    df.loc[:,'Progress'].replace(False, 'In progress', regex=True, inplace=True)\n",
    "    df.loc[:,'Progress'].replace(True, 'Finished', regex=True, inplace=True)\n",
    "    df[[\"Start\", \"End\"]] = df[[\"Start\", \"End\"]].apply(pd.to_datetime)\n",
    "    return df\n",
    "    \n"
   ]
  },
  {
   "cell_type": "code",
   "execution_count": 13,
   "metadata": {},
   "outputs": [],
   "source": [
    "tasks = readRawFile('Tasks')\n",
    "tasks.loc[tasks['Progress'] == 'Finished', 'Project'] = 'Finished task'\n",
    "\n",
    "publications = readRawFile('Publications')\n",
    "publications.loc[publications['Progress'] == 'Finished', 'Project'] = 'Finished task'\n",
    "publications.loc[publications['Project'] != 'Finished task','Project'] = publications['Participants']\n"
   ]
  },
  {
   "cell_type": "code",
   "execution_count": 14,
   "metadata": {},
   "outputs": [],
   "source": [
    "today = date.today()"
   ]
  },
  {
   "cell_type": "code",
   "execution_count": 15,
   "metadata": {},
   "outputs": [
    {
     "data": {
      "text/html": [
       "<div>\n",
       "<style scoped>\n",
       "    .dataframe tbody tr th:only-of-type {\n",
       "        vertical-align: middle;\n",
       "    }\n",
       "\n",
       "    .dataframe tbody tr th {\n",
       "        vertical-align: top;\n",
       "    }\n",
       "\n",
       "    .dataframe thead th {\n",
       "        text-align: right;\n",
       "    }\n",
       "</style>\n",
       "<table border=\"1\" class=\"dataframe\">\n",
       "  <thead>\n",
       "    <tr style=\"text-align: right;\">\n",
       "      <th></th>\n",
       "      <th>Task ID</th>\n",
       "      <th>Project</th>\n",
       "      <th>Description</th>\n",
       "      <th>Start</th>\n",
       "      <th>End</th>\n",
       "      <th>Progress</th>\n",
       "      <th>Participants</th>\n",
       "    </tr>\n",
       "  </thead>\n",
       "  <tbody>\n",
       "    <tr>\n",
       "      <th>0</th>\n",
       "      <td>0</td>\n",
       "      <td>BIPV mapping</td>\n",
       "      <td>Data assessment</td>\n",
       "      <td>2022-04-08</td>\n",
       "      <td>2022-05-15</td>\n",
       "      <td>In progress</td>\n",
       "      <td>Frank</td>\n",
       "    </tr>\n",
       "    <tr>\n",
       "      <th>1</th>\n",
       "      <td>1</td>\n",
       "      <td>BIPV mapping</td>\n",
       "      <td>Data assessment</td>\n",
       "      <td>2022-04-08</td>\n",
       "      <td>2022-05-31</td>\n",
       "      <td>In progress</td>\n",
       "      <td>Gavin</td>\n",
       "    </tr>\n",
       "    <tr>\n",
       "      <th>2</th>\n",
       "      <td>2</td>\n",
       "      <td>BIPV mapping</td>\n",
       "      <td>Data assessment - Chinese details</td>\n",
       "      <td>2022-05-23</td>\n",
       "      <td>2022-05-31</td>\n",
       "      <td>In progress</td>\n",
       "      <td>Gavin</td>\n",
       "    </tr>\n",
       "    <tr>\n",
       "      <th>3</th>\n",
       "      <td>3</td>\n",
       "      <td>BIPV mapping</td>\n",
       "      <td>Paper writing</td>\n",
       "      <td>2022-04-08</td>\n",
       "      <td>2022-08-01</td>\n",
       "      <td>In progress</td>\n",
       "      <td>Nilmini, Gavin, Frank</td>\n",
       "    </tr>\n",
       "    <tr>\n",
       "      <th>4</th>\n",
       "      <td>4</td>\n",
       "      <td>Urban BIPV</td>\n",
       "      <td>Research design flowchart</td>\n",
       "      <td>2022-04-08</td>\n",
       "      <td>2022-04-22</td>\n",
       "      <td>In progress</td>\n",
       "      <td>Gregory</td>\n",
       "    </tr>\n",
       "    <tr>\n",
       "      <th>5</th>\n",
       "      <td>5</td>\n",
       "      <td>Urban BIPV</td>\n",
       "      <td>Study location selection</td>\n",
       "      <td>2022-04-08</td>\n",
       "      <td>2022-05-01</td>\n",
       "      <td>In progress</td>\n",
       "      <td>Ingrid</td>\n",
       "    </tr>\n",
       "    <tr>\n",
       "      <th>6</th>\n",
       "      <td>6</td>\n",
       "      <td>Urban BIPV</td>\n",
       "      <td>Solar irradiation simulation</td>\n",
       "      <td>2022-04-08</td>\n",
       "      <td>2022-06-01</td>\n",
       "      <td>In progress</td>\n",
       "      <td>Gavin</td>\n",
       "    </tr>\n",
       "    <tr>\n",
       "      <th>7</th>\n",
       "      <td>7</td>\n",
       "      <td>Urban BIPV</td>\n",
       "      <td>Select 2-3 buildings/ BIPV products</td>\n",
       "      <td>2022-04-08</td>\n",
       "      <td>2022-06-01</td>\n",
       "      <td>In progress</td>\n",
       "      <td>Ingrid</td>\n",
       "    </tr>\n",
       "    <tr>\n",
       "      <th>8</th>\n",
       "      <td>8</td>\n",
       "      <td>Urban BIPV</td>\n",
       "      <td>Economic assessment</td>\n",
       "      <td>2022-04-08</td>\n",
       "      <td>2022-06-01</td>\n",
       "      <td>In progress</td>\n",
       "      <td>Ingrid</td>\n",
       "    </tr>\n",
       "    <tr>\n",
       "      <th>9</th>\n",
       "      <td>9</td>\n",
       "      <td>Urban BIPV</td>\n",
       "      <td>Review paper</td>\n",
       "      <td>2022-04-08</td>\n",
       "      <td>2022-05-01</td>\n",
       "      <td>In progress</td>\n",
       "      <td>Ingrid</td>\n",
       "    </tr>\n",
       "    <tr>\n",
       "      <th>10</th>\n",
       "      <td>10</td>\n",
       "      <td>Finished task</td>\n",
       "      <td>Stakeholder attributes</td>\n",
       "      <td>2022-04-08</td>\n",
       "      <td>2022-04-22</td>\n",
       "      <td>Finished</td>\n",
       "      <td>Ivan</td>\n",
       "    </tr>\n",
       "    <tr>\n",
       "      <th>11</th>\n",
       "      <td>11</td>\n",
       "      <td>Finished task</td>\n",
       "      <td>Distribution of product info</td>\n",
       "      <td>2022-04-08</td>\n",
       "      <td>2022-05-01</td>\n",
       "      <td>Finished</td>\n",
       "      <td>Jiaqi</td>\n",
       "    </tr>\n",
       "    <tr>\n",
       "      <th>12</th>\n",
       "      <td>12</td>\n",
       "      <td>Product info</td>\n",
       "      <td>Provide contribution</td>\n",
       "      <td>2022-04-08</td>\n",
       "      <td>2022-06-01</td>\n",
       "      <td>In progress</td>\n",
       "      <td>All</td>\n",
       "    </tr>\n",
       "    <tr>\n",
       "      <th>13</th>\n",
       "      <td>13</td>\n",
       "      <td>Product info</td>\n",
       "      <td>Wind load, wind resistance, static load, and etc.</td>\n",
       "      <td>2022-05-20</td>\n",
       "      <td>2022-06-30</td>\n",
       "      <td>In progress</td>\n",
       "      <td>Anson</td>\n",
       "    </tr>\n",
       "    <tr>\n",
       "      <th>14</th>\n",
       "      <td>14</td>\n",
       "      <td>STA</td>\n",
       "      <td>Internal draft</td>\n",
       "      <td>2022-04-08</td>\n",
       "      <td>2022-04-26</td>\n",
       "      <td>In progress</td>\n",
       "      <td>Nilmini, Pabasara, Chathuri</td>\n",
       "    </tr>\n",
       "    <tr>\n",
       "      <th>15</th>\n",
       "      <td>15</td>\n",
       "      <td>STA</td>\n",
       "      <td>External review</td>\n",
       "      <td>2022-04-08</td>\n",
       "      <td>2022-06-01</td>\n",
       "      <td>In progress</td>\n",
       "      <td>Nilmini, Pabasara, Chathuri</td>\n",
       "    </tr>\n",
       "    <tr>\n",
       "      <th>16</th>\n",
       "      <td>16</td>\n",
       "      <td>Finished task</td>\n",
       "      <td>VCG/KDA/TR -&gt;PV/PV+Battery</td>\n",
       "      <td>2022-04-08</td>\n",
       "      <td>2022-04-22</td>\n",
       "      <td>Finished</td>\n",
       "      <td>Kaige</td>\n",
       "    </tr>\n",
       "    <tr>\n",
       "      <th>17</th>\n",
       "      <td>17</td>\n",
       "      <td>Finished task</td>\n",
       "      <td>Coorpeartive GT  -&gt;PV/PV+Battery</td>\n",
       "      <td>2022-04-08</td>\n",
       "      <td>2022-04-22</td>\n",
       "      <td>Finished</td>\n",
       "      <td>Kaige</td>\n",
       "    </tr>\n",
       "    <tr>\n",
       "      <th>18</th>\n",
       "      <td>18</td>\n",
       "      <td>Finished task</td>\n",
       "      <td>Explanation of GT</td>\n",
       "      <td>2022-04-08</td>\n",
       "      <td>2022-05-01</td>\n",
       "      <td>Finished</td>\n",
       "      <td>Kaige</td>\n",
       "    </tr>\n",
       "    <tr>\n",
       "      <th>19</th>\n",
       "      <td>19</td>\n",
       "      <td>Finished task</td>\n",
       "      <td>Chaperter on P2P</td>\n",
       "      <td>2022-04-08</td>\n",
       "      <td>2022-05-15</td>\n",
       "      <td>Finished</td>\n",
       "      <td>Chathuri</td>\n",
       "    </tr>\n",
       "    <tr>\n",
       "      <th>20</th>\n",
       "      <td>20</td>\n",
       "      <td>Grid impact on P2P</td>\n",
       "      <td>Chaperter on BIPV</td>\n",
       "      <td>2022-04-08</td>\n",
       "      <td>2022-05-31</td>\n",
       "      <td>In progress</td>\n",
       "      <td>Chathuri</td>\n",
       "    </tr>\n",
       "    <tr>\n",
       "      <th>21</th>\n",
       "      <td>21</td>\n",
       "      <td>Grid impact on P2P</td>\n",
       "      <td>Two paper for GT</td>\n",
       "      <td>2022-04-08</td>\n",
       "      <td>2022-06-30</td>\n",
       "      <td>In progress</td>\n",
       "      <td>Chathuri</td>\n",
       "    </tr>\n",
       "    <tr>\n",
       "      <th>22</th>\n",
       "      <td>22</td>\n",
       "      <td>Design Hub</td>\n",
       "      <td>All simulation</td>\n",
       "      <td>2022-04-08</td>\n",
       "      <td>2022-04-22</td>\n",
       "      <td>In progress</td>\n",
       "      <td>Sujan</td>\n",
       "    </tr>\n",
       "    <tr>\n",
       "      <th>23</th>\n",
       "      <td>23</td>\n",
       "      <td>BIPV Enabler</td>\n",
       "      <td>Report</td>\n",
       "      <td>2022-04-08</td>\n",
       "      <td>2022-04-30</td>\n",
       "      <td>In progress</td>\n",
       "      <td>Pabasara</td>\n",
       "    </tr>\n",
       "    <tr>\n",
       "      <th>24</th>\n",
       "      <td>24</td>\n",
       "      <td>Finished task</td>\n",
       "      <td>Industry workshop/travelling</td>\n",
       "      <td>2022-04-08</td>\n",
       "      <td>2022-04-30</td>\n",
       "      <td>Finished</td>\n",
       "      <td>Rebecca</td>\n",
       "    </tr>\n",
       "    <tr>\n",
       "      <th>25</th>\n",
       "      <td>25</td>\n",
       "      <td>HDR conference</td>\n",
       "      <td>Supports from others</td>\n",
       "      <td>2022-05-31</td>\n",
       "      <td>2022-08-31</td>\n",
       "      <td>In progress</td>\n",
       "      <td>Gavin and all</td>\n",
       "    </tr>\n",
       "  </tbody>\n",
       "</table>\n",
       "</div>"
      ],
      "text/plain": [
       "   Task ID             Project  \\\n",
       "0        0        BIPV mapping   \n",
       "1        1        BIPV mapping   \n",
       "2        2        BIPV mapping   \n",
       "3        3        BIPV mapping   \n",
       "4        4          Urban BIPV   \n",
       "5        5          Urban BIPV   \n",
       "6        6          Urban BIPV   \n",
       "7        7          Urban BIPV   \n",
       "8        8          Urban BIPV   \n",
       "9        9          Urban BIPV   \n",
       "10      10       Finished task   \n",
       "11      11       Finished task   \n",
       "12      12        Product info   \n",
       "13      13        Product info   \n",
       "14      14                 STA   \n",
       "15      15                 STA   \n",
       "16      16       Finished task   \n",
       "17      17       Finished task   \n",
       "18      18       Finished task   \n",
       "19      19       Finished task   \n",
       "20      20  Grid impact on P2P   \n",
       "21      21  Grid impact on P2P   \n",
       "22      22          Design Hub   \n",
       "23      23        BIPV Enabler   \n",
       "24      24       Finished task   \n",
       "25      25      HDR conference   \n",
       "\n",
       "                                          Description      Start        End  \\\n",
       "0                                     Data assessment 2022-04-08 2022-05-15   \n",
       "1                                     Data assessment 2022-04-08 2022-05-31   \n",
       "2                   Data assessment - Chinese details 2022-05-23 2022-05-31   \n",
       "3                                       Paper writing 2022-04-08 2022-08-01   \n",
       "4                           Research design flowchart 2022-04-08 2022-04-22   \n",
       "5                            Study location selection 2022-04-08 2022-05-01   \n",
       "6                        Solar irradiation simulation 2022-04-08 2022-06-01   \n",
       "7                 Select 2-3 buildings/ BIPV products 2022-04-08 2022-06-01   \n",
       "8                                 Economic assessment 2022-04-08 2022-06-01   \n",
       "9                                        Review paper 2022-04-08 2022-05-01   \n",
       "10                             Stakeholder attributes 2022-04-08 2022-04-22   \n",
       "11                       Distribution of product info 2022-04-08 2022-05-01   \n",
       "12                               Provide contribution 2022-04-08 2022-06-01   \n",
       "13  Wind load, wind resistance, static load, and etc. 2022-05-20 2022-06-30   \n",
       "14                                     Internal draft 2022-04-08 2022-04-26   \n",
       "15                                    External review 2022-04-08 2022-06-01   \n",
       "16                         VCG/KDA/TR ->PV/PV+Battery 2022-04-08 2022-04-22   \n",
       "17                   Coorpeartive GT  ->PV/PV+Battery 2022-04-08 2022-04-22   \n",
       "18                                  Explanation of GT 2022-04-08 2022-05-01   \n",
       "19                                   Chaperter on P2P 2022-04-08 2022-05-15   \n",
       "20                                  Chaperter on BIPV 2022-04-08 2022-05-31   \n",
       "21                                   Two paper for GT 2022-04-08 2022-06-30   \n",
       "22                                     All simulation 2022-04-08 2022-04-22   \n",
       "23                                             Report 2022-04-08 2022-04-30   \n",
       "24                       Industry workshop/travelling 2022-04-08 2022-04-30   \n",
       "25                               Supports from others 2022-05-31 2022-08-31   \n",
       "\n",
       "       Progress                 Participants  \n",
       "0   In progress                        Frank  \n",
       "1   In progress                        Gavin  \n",
       "2   In progress                        Gavin  \n",
       "3   In progress        Nilmini, Gavin, Frank  \n",
       "4   In progress                      Gregory  \n",
       "5   In progress                       Ingrid  \n",
       "6   In progress                        Gavin  \n",
       "7   In progress                       Ingrid  \n",
       "8   In progress                       Ingrid  \n",
       "9   In progress                       Ingrid  \n",
       "10     Finished                         Ivan  \n",
       "11     Finished                        Jiaqi  \n",
       "12  In progress                          All  \n",
       "13  In progress                        Anson  \n",
       "14  In progress  Nilmini, Pabasara, Chathuri  \n",
       "15  In progress  Nilmini, Pabasara, Chathuri  \n",
       "16     Finished                        Kaige  \n",
       "17     Finished                        Kaige  \n",
       "18     Finished                        Kaige  \n",
       "19     Finished                     Chathuri  \n",
       "20  In progress                     Chathuri  \n",
       "21  In progress                     Chathuri  \n",
       "22  In progress                        Sujan  \n",
       "23  In progress                     Pabasara  \n",
       "24     Finished                      Rebecca  \n",
       "25  In progress                Gavin and all  "
      ]
     },
     "execution_count": 15,
     "metadata": {},
     "output_type": "execute_result"
    }
   ],
   "source": [
    "tasks"
   ]
  },
  {
   "cell_type": "code",
   "execution_count": 16,
   "metadata": {},
   "outputs": [
    {
     "data": {
      "text/html": [
       "<div>\n",
       "<style scoped>\n",
       "    .dataframe tbody tr th:only-of-type {\n",
       "        vertical-align: middle;\n",
       "    }\n",
       "\n",
       "    .dataframe tbody tr th {\n",
       "        vertical-align: top;\n",
       "    }\n",
       "\n",
       "    .dataframe thead th {\n",
       "        text-align: right;\n",
       "    }\n",
       "</style>\n",
       "<table border=\"1\" class=\"dataframe\">\n",
       "  <thead>\n",
       "    <tr style=\"text-align: right;\">\n",
       "      <th></th>\n",
       "      <th>Task ID</th>\n",
       "      <th>Project</th>\n",
       "      <th>Description</th>\n",
       "      <th>Start</th>\n",
       "      <th>End</th>\n",
       "      <th>Progress</th>\n",
       "      <th>Participants</th>\n",
       "    </tr>\n",
       "  </thead>\n",
       "  <tbody>\n",
       "    <tr>\n",
       "      <th>0</th>\n",
       "      <td>0</td>\n",
       "      <td>Nilmini</td>\n",
       "      <td>CIB paper camera ready copy</td>\n",
       "      <td>2022-04-22</td>\n",
       "      <td>2022-06-20</td>\n",
       "      <td>In progress</td>\n",
       "      <td>Nilmini</td>\n",
       "    </tr>\n",
       "    <tr>\n",
       "      <th>1</th>\n",
       "      <td>1</td>\n",
       "      <td>Nilmini</td>\n",
       "      <td>Monte-Carlo paper</td>\n",
       "      <td>2022-04-22</td>\n",
       "      <td>2022-05-30</td>\n",
       "      <td>In progress</td>\n",
       "      <td>Nilmini</td>\n",
       "    </tr>\n",
       "    <tr>\n",
       "      <th>2</th>\n",
       "      <td>2</td>\n",
       "      <td>Ivan</td>\n",
       "      <td>CIB paper camera ready copy</td>\n",
       "      <td>2022-04-22</td>\n",
       "      <td>2022-05-20</td>\n",
       "      <td>In progress</td>\n",
       "      <td>Ivan</td>\n",
       "    </tr>\n",
       "    <tr>\n",
       "      <th>3</th>\n",
       "      <td>3</td>\n",
       "      <td>Ivan</td>\n",
       "      <td>Paper on Geometry information of BIPV - Ivan's...</td>\n",
       "      <td>2022-04-22</td>\n",
       "      <td>2022-05-31</td>\n",
       "      <td>In progress</td>\n",
       "      <td>Ivan</td>\n",
       "    </tr>\n",
       "    <tr>\n",
       "      <th>4</th>\n",
       "      <td>4</td>\n",
       "      <td>Ivan</td>\n",
       "      <td>Paper on Geometry information of BIPV- full paper</td>\n",
       "      <td>2022-04-22</td>\n",
       "      <td>2022-06-30</td>\n",
       "      <td>In progress</td>\n",
       "      <td>Ivan</td>\n",
       "    </tr>\n",
       "    <tr>\n",
       "      <th>5</th>\n",
       "      <td>5</td>\n",
       "      <td>Ivan</td>\n",
       "      <td>Paper on Non-geometry product infromation</td>\n",
       "      <td>2022-07-01</td>\n",
       "      <td>2022-12-31</td>\n",
       "      <td>In progress</td>\n",
       "      <td>Ivan</td>\n",
       "    </tr>\n",
       "    <tr>\n",
       "      <th>6</th>\n",
       "      <td>6</td>\n",
       "      <td>Pabasara</td>\n",
       "      <td>BIM paper</td>\n",
       "      <td>2022-04-22</td>\n",
       "      <td>2022-06-15</td>\n",
       "      <td>In progress</td>\n",
       "      <td>Pabasara</td>\n",
       "    </tr>\n",
       "    <tr>\n",
       "      <th>7</th>\n",
       "      <td>7</td>\n",
       "      <td>Pabasara</td>\n",
       "      <td>BIPV design methods and workflow paper - revision</td>\n",
       "      <td>2022-04-22</td>\n",
       "      <td>2022-06-30</td>\n",
       "      <td>In progress</td>\n",
       "      <td>Pabasara</td>\n",
       "    </tr>\n",
       "    <tr>\n",
       "      <th>8</th>\n",
       "      <td>8</td>\n",
       "      <td>Pabasara</td>\n",
       "      <td>Framework paper</td>\n",
       "      <td>2022-04-22</td>\n",
       "      <td>2022-06-30</td>\n",
       "      <td>In progress</td>\n",
       "      <td>Pabasara</td>\n",
       "    </tr>\n",
       "    <tr>\n",
       "      <th>9</th>\n",
       "      <td>9</td>\n",
       "      <td>Finished task</td>\n",
       "      <td>AIRAH Conference paper</td>\n",
       "      <td>2022-04-22</td>\n",
       "      <td>2022-04-27</td>\n",
       "      <td>Finished</td>\n",
       "      <td>Tharushi</td>\n",
       "    </tr>\n",
       "    <tr>\n",
       "      <th>10</th>\n",
       "      <td>10</td>\n",
       "      <td>Finished task</td>\n",
       "      <td>Thesis</td>\n",
       "      <td>2022-04-22</td>\n",
       "      <td>2022-04-27</td>\n",
       "      <td>Finished</td>\n",
       "      <td>Tharushi</td>\n",
       "    </tr>\n",
       "    <tr>\n",
       "      <th>11</th>\n",
       "      <td>11</td>\n",
       "      <td>Tharushi, Pabasara</td>\n",
       "      <td>BIPV Enabler paper structure</td>\n",
       "      <td>2022-04-22</td>\n",
       "      <td>2022-05-31</td>\n",
       "      <td>In progress</td>\n",
       "      <td>Tharushi, Pabasara</td>\n",
       "    </tr>\n",
       "    <tr>\n",
       "      <th>12</th>\n",
       "      <td>12</td>\n",
       "      <td>Tharushi, Pabasara</td>\n",
       "      <td>BIPV Enabler paper - whole paper</td>\n",
       "      <td>2022-05-20</td>\n",
       "      <td>2022-07-31</td>\n",
       "      <td>In progress</td>\n",
       "      <td>Tharushi, Pabasara</td>\n",
       "    </tr>\n",
       "    <tr>\n",
       "      <th>13</th>\n",
       "      <td>13</td>\n",
       "      <td>Tharushi</td>\n",
       "      <td>Case study results conference paper - Abstract</td>\n",
       "      <td>2022-04-22</td>\n",
       "      <td>2022-05-31</td>\n",
       "      <td>In progress</td>\n",
       "      <td>Tharushi</td>\n",
       "    </tr>\n",
       "    <tr>\n",
       "      <th>14</th>\n",
       "      <td>14</td>\n",
       "      <td>Finished task</td>\n",
       "      <td>Simulation process</td>\n",
       "      <td>2022-04-22</td>\n",
       "      <td>2022-04-26</td>\n",
       "      <td>Finished</td>\n",
       "      <td>Sujan</td>\n",
       "    </tr>\n",
       "    <tr>\n",
       "      <th>15</th>\n",
       "      <td>15</td>\n",
       "      <td>Sujan, Pabasara, Tharushi, Gavin</td>\n",
       "      <td>Design Hub paper</td>\n",
       "      <td>2022-05-20</td>\n",
       "      <td>2022-07-31</td>\n",
       "      <td>In progress</td>\n",
       "      <td>Sujan, Pabasara, Tharushi, Gavin</td>\n",
       "    </tr>\n",
       "    <tr>\n",
       "      <th>16</th>\n",
       "      <td>16</td>\n",
       "      <td>Ingrid</td>\n",
       "      <td>Review paper</td>\n",
       "      <td>2022-04-22</td>\n",
       "      <td>2022-05-15</td>\n",
       "      <td>In progress</td>\n",
       "      <td>Ingrid</td>\n",
       "    </tr>\n",
       "    <tr>\n",
       "      <th>17</th>\n",
       "      <td>17</td>\n",
       "      <td>Frank</td>\n",
       "      <td>Fire regulations paper</td>\n",
       "      <td>2022-04-22</td>\n",
       "      <td>2022-05-31</td>\n",
       "      <td>In progress</td>\n",
       "      <td>Frank</td>\n",
       "    </tr>\n",
       "    <tr>\n",
       "      <th>18</th>\n",
       "      <td>18</td>\n",
       "      <td>Frank</td>\n",
       "      <td>VBA report</td>\n",
       "      <td>2022-04-22</td>\n",
       "      <td>2022-05-31</td>\n",
       "      <td>In progress</td>\n",
       "      <td>Frank</td>\n",
       "    </tr>\n",
       "    <tr>\n",
       "      <th>19</th>\n",
       "      <td>19</td>\n",
       "      <td>Finished task</td>\n",
       "      <td>Thesis completion</td>\n",
       "      <td>2022-04-22</td>\n",
       "      <td>2022-04-27</td>\n",
       "      <td>Finished</td>\n",
       "      <td>Gavin</td>\n",
       "    </tr>\n",
       "    <tr>\n",
       "      <th>20</th>\n",
       "      <td>20</td>\n",
       "      <td>Finished task</td>\n",
       "      <td>C4NET report</td>\n",
       "      <td>2022-04-22</td>\n",
       "      <td>2022-05-02</td>\n",
       "      <td>Finished</td>\n",
       "      <td>Gavin</td>\n",
       "    </tr>\n",
       "    <tr>\n",
       "      <th>21</th>\n",
       "      <td>21</td>\n",
       "      <td>Gavin</td>\n",
       "      <td>Paper based on thesis</td>\n",
       "      <td>2022-04-22</td>\n",
       "      <td>2022-06-30</td>\n",
       "      <td>In progress</td>\n",
       "      <td>Gavin</td>\n",
       "    </tr>\n",
       "    <tr>\n",
       "      <th>22</th>\n",
       "      <td>22</td>\n",
       "      <td>Kaige</td>\n",
       "      <td>CIB paper camera ready copy</td>\n",
       "      <td>2022-04-22</td>\n",
       "      <td>2022-06-20</td>\n",
       "      <td>In progress</td>\n",
       "      <td>Kaige</td>\n",
       "    </tr>\n",
       "    <tr>\n",
       "      <th>23</th>\n",
       "      <td>23</td>\n",
       "      <td>Chathuri</td>\n",
       "      <td>CIB paper camera ready copy</td>\n",
       "      <td>2022-04-22</td>\n",
       "      <td>2022-06-20</td>\n",
       "      <td>In progress</td>\n",
       "      <td>Chathuri</td>\n",
       "    </tr>\n",
       "    <tr>\n",
       "      <th>24</th>\n",
       "      <td>24</td>\n",
       "      <td>Chathuri</td>\n",
       "      <td>P2P trading paper</td>\n",
       "      <td>2022-04-22</td>\n",
       "      <td>2022-06-30</td>\n",
       "      <td>In progress</td>\n",
       "      <td>Chathuri</td>\n",
       "    </tr>\n",
       "    <tr>\n",
       "      <th>25</th>\n",
       "      <td>25</td>\n",
       "      <td>Chathuri</td>\n",
       "      <td>Comparison of game theories paper</td>\n",
       "      <td>2022-04-22</td>\n",
       "      <td>2022-06-30</td>\n",
       "      <td>In progress</td>\n",
       "      <td>Chathuri</td>\n",
       "    </tr>\n",
       "    <tr>\n",
       "      <th>26</th>\n",
       "      <td>26</td>\n",
       "      <td>Chathuri</td>\n",
       "      <td>Educational paper</td>\n",
       "      <td>2022-07-01</td>\n",
       "      <td>2022-08-01</td>\n",
       "      <td>In progress</td>\n",
       "      <td>Chathuri</td>\n",
       "    </tr>\n",
       "    <tr>\n",
       "      <th>27</th>\n",
       "      <td>27</td>\n",
       "      <td>Chathuri</td>\n",
       "      <td>Blockchain-based BIPV information system paper</td>\n",
       "      <td>2022-07-01</td>\n",
       "      <td>2022-08-01</td>\n",
       "      <td>In progress</td>\n",
       "      <td>Chathuri</td>\n",
       "    </tr>\n",
       "    <tr>\n",
       "      <th>28</th>\n",
       "      <td>28</td>\n",
       "      <td>Pabasara</td>\n",
       "      <td>Comparison of software paper - Pabasara provid...</td>\n",
       "      <td>2022-05-20</td>\n",
       "      <td>2022-05-27</td>\n",
       "      <td>In progress</td>\n",
       "      <td>Pabasara</td>\n",
       "    </tr>\n",
       "    <tr>\n",
       "      <th>29</th>\n",
       "      <td>29</td>\n",
       "      <td>Sujan</td>\n",
       "      <td>Comparison of software paper - Whole paper</td>\n",
       "      <td>2022-05-27</td>\n",
       "      <td>2023-06-30</td>\n",
       "      <td>In progress</td>\n",
       "      <td>Sujan</td>\n",
       "    </tr>\n",
       "    <tr>\n",
       "      <th>30</th>\n",
       "      <td>30</td>\n",
       "      <td>Gregory</td>\n",
       "      <td>Review pape</td>\n",
       "      <td>2022-05-20</td>\n",
       "      <td>2022-06-15</td>\n",
       "      <td>In progress</td>\n",
       "      <td>Gregory</td>\n",
       "    </tr>\n",
       "    <tr>\n",
       "      <th>31</th>\n",
       "      <td>31</td>\n",
       "      <td>Gregory</td>\n",
       "      <td>Macine leanring - BIPV mapping</td>\n",
       "      <td>2022-05-20</td>\n",
       "      <td>2022-08-31</td>\n",
       "      <td>In progress</td>\n",
       "      <td>Gregory</td>\n",
       "    </tr>\n",
       "  </tbody>\n",
       "</table>\n",
       "</div>"
      ],
      "text/plain": [
       "   Task ID                           Project  \\\n",
       "0        0                           Nilmini   \n",
       "1        1                           Nilmini   \n",
       "2        2                              Ivan   \n",
       "3        3                              Ivan   \n",
       "4        4                              Ivan   \n",
       "5        5                              Ivan   \n",
       "6        6                          Pabasara   \n",
       "7        7                          Pabasara   \n",
       "8        8                          Pabasara   \n",
       "9        9                     Finished task   \n",
       "10      10                     Finished task   \n",
       "11      11                Tharushi, Pabasara   \n",
       "12      12                Tharushi, Pabasara   \n",
       "13      13                          Tharushi   \n",
       "14      14                     Finished task   \n",
       "15      15  Sujan, Pabasara, Tharushi, Gavin   \n",
       "16      16                            Ingrid   \n",
       "17      17                             Frank   \n",
       "18      18                             Frank   \n",
       "19      19                     Finished task   \n",
       "20      20                     Finished task   \n",
       "21      21                             Gavin   \n",
       "22      22                             Kaige   \n",
       "23      23                          Chathuri   \n",
       "24      24                          Chathuri   \n",
       "25      25                          Chathuri   \n",
       "26      26                          Chathuri   \n",
       "27      27                          Chathuri   \n",
       "28      28                          Pabasara   \n",
       "29      29                             Sujan   \n",
       "30      30                           Gregory   \n",
       "31      31                           Gregory   \n",
       "\n",
       "                                          Description      Start        End  \\\n",
       "0                        CIB paper camera ready copy  2022-04-22 2022-06-20   \n",
       "1                                   Monte-Carlo paper 2022-04-22 2022-05-30   \n",
       "2                        CIB paper camera ready copy  2022-04-22 2022-05-20   \n",
       "3   Paper on Geometry information of BIPV - Ivan's... 2022-04-22 2022-05-31   \n",
       "4   Paper on Geometry information of BIPV- full paper 2022-04-22 2022-06-30   \n",
       "5           Paper on Non-geometry product infromation 2022-07-01 2022-12-31   \n",
       "6                                           BIM paper 2022-04-22 2022-06-15   \n",
       "7   BIPV design methods and workflow paper - revision 2022-04-22 2022-06-30   \n",
       "8                                     Framework paper 2022-04-22 2022-06-30   \n",
       "9                              AIRAH Conference paper 2022-04-22 2022-04-27   \n",
       "10                                             Thesis 2022-04-22 2022-04-27   \n",
       "11                       BIPV Enabler paper structure 2022-04-22 2022-05-31   \n",
       "12                   BIPV Enabler paper - whole paper 2022-05-20 2022-07-31   \n",
       "13     Case study results conference paper - Abstract 2022-04-22 2022-05-31   \n",
       "14                                 Simulation process 2022-04-22 2022-04-26   \n",
       "15                                   Design Hub paper 2022-05-20 2022-07-31   \n",
       "16                                       Review paper 2022-04-22 2022-05-15   \n",
       "17                            Fire regulations paper  2022-04-22 2022-05-31   \n",
       "18                                         VBA report 2022-04-22 2022-05-31   \n",
       "19                                  Thesis completion 2022-04-22 2022-04-27   \n",
       "20                                       C4NET report 2022-04-22 2022-05-02   \n",
       "21                              Paper based on thesis 2022-04-22 2022-06-30   \n",
       "22                       CIB paper camera ready copy  2022-04-22 2022-06-20   \n",
       "23                       CIB paper camera ready copy  2022-04-22 2022-06-20   \n",
       "24                                  P2P trading paper 2022-04-22 2022-06-30   \n",
       "25                  Comparison of game theories paper 2022-04-22 2022-06-30   \n",
       "26                                  Educational paper 2022-07-01 2022-08-01   \n",
       "27     Blockchain-based BIPV information system paper 2022-07-01 2022-08-01   \n",
       "28  Comparison of software paper - Pabasara provid... 2022-05-20 2022-05-27   \n",
       "29        Comparison of software paper - Whole paper  2022-05-27 2023-06-30   \n",
       "30                                        Review pape 2022-05-20 2022-06-15   \n",
       "31                     Macine leanring - BIPV mapping 2022-05-20 2022-08-31   \n",
       "\n",
       "       Progress                      Participants  \n",
       "0   In progress                           Nilmini  \n",
       "1   In progress                           Nilmini  \n",
       "2   In progress                              Ivan  \n",
       "3   In progress                              Ivan  \n",
       "4   In progress                              Ivan  \n",
       "5   In progress                              Ivan  \n",
       "6   In progress                          Pabasara  \n",
       "7   In progress                          Pabasara  \n",
       "8   In progress                          Pabasara  \n",
       "9      Finished                          Tharushi  \n",
       "10     Finished                          Tharushi  \n",
       "11  In progress                Tharushi, Pabasara  \n",
       "12  In progress                Tharushi, Pabasara  \n",
       "13  In progress                          Tharushi  \n",
       "14     Finished                             Sujan  \n",
       "15  In progress  Sujan, Pabasara, Tharushi, Gavin  \n",
       "16  In progress                            Ingrid  \n",
       "17  In progress                             Frank  \n",
       "18  In progress                             Frank  \n",
       "19     Finished                             Gavin  \n",
       "20     Finished                             Gavin  \n",
       "21  In progress                             Gavin  \n",
       "22  In progress                             Kaige  \n",
       "23  In progress                          Chathuri  \n",
       "24  In progress                          Chathuri  \n",
       "25  In progress                          Chathuri  \n",
       "26  In progress                          Chathuri  \n",
       "27  In progress                          Chathuri  \n",
       "28  In progress                          Pabasara  \n",
       "29  In progress                             Sujan  \n",
       "30  In progress                           Gregory  \n",
       "31  In progress                           Gregory  "
      ]
     },
     "execution_count": 16,
     "metadata": {},
     "output_type": "execute_result"
    }
   ],
   "source": [
    "publications"
   ]
  },
  {
   "cell_type": "code",
   "execution_count": 17,
   "metadata": {},
   "outputs": [
    {
     "data": {
      "application/vnd.plotly.v1+json": {
       "config": {
        "plotlyServerURL": "https://plot.ly"
       },
       "data": [
        {
         "alignmentgroup": "True",
         "base": [
          "2022-04-08T00:00:00",
          "2022-04-08T00:00:00",
          "2022-05-23T00:00:00",
          "2022-04-08T00:00:00"
         ],
         "customdata": [
          [
           "BIPV mapping",
           "Data assessment",
           "Frank",
           "In progress"
          ],
          [
           "BIPV mapping",
           "Data assessment",
           "Gavin",
           "In progress"
          ],
          [
           "BIPV mapping",
           "Data assessment - Chinese details",
           "Gavin",
           "In progress"
          ],
          [
           "BIPV mapping",
           "Paper writing",
           "Nilmini, Gavin, Frank",
           "In progress"
          ]
         ],
         "hovertemplate": "<b>%{hovertext}</b><br><br>Project=%{customdata[0]}<br>Start=%{base}<br>End=%{x}<br>Description=%{customdata[1]}<br>Participants=%{customdata[2]}<br>Progress=%{customdata[3]}<extra></extra>",
         "hovertext": [
          "Frank",
          "Gavin",
          "Gavin",
          "Nilmini, Gavin, Frank"
         ],
         "legendgroup": "BIPV mapping",
         "marker": {
          "color": "#00cc96"
         },
         "name": "BIPV mapping",
         "offsetgroup": "BIPV mapping",
         "orientation": "h",
         "showlegend": true,
         "text": [
          "Data assessment",
          "Data assessment",
          "Data assessment - Chinese details",
          "Paper writing"
         ],
         "textposition": "auto",
         "type": "bar",
         "x": [
          3196800000,
          4579200000,
          691200000,
          9936000000
         ],
         "xaxis": "x",
         "y": [
          "0",
          "1",
          "2",
          "3"
         ],
         "yaxis": "y"
        },
        {
         "alignmentgroup": "True",
         "base": [
          "2022-04-08T00:00:00",
          "2022-04-08T00:00:00",
          "2022-04-08T00:00:00",
          "2022-04-08T00:00:00",
          "2022-04-08T00:00:00",
          "2022-04-08T00:00:00"
         ],
         "customdata": [
          [
           "Urban BIPV",
           "Research design flowchart",
           "Gregory",
           "In progress"
          ],
          [
           "Urban BIPV",
           "Study location selection",
           "Ingrid",
           "In progress"
          ],
          [
           "Urban BIPV",
           "Solar irradiation simulation",
           "Gavin",
           "In progress"
          ],
          [
           "Urban BIPV",
           "Select 2-3 buildings/ BIPV products",
           "Ingrid",
           "In progress"
          ],
          [
           "Urban BIPV",
           "Economic assessment",
           "Ingrid",
           "In progress"
          ],
          [
           "Urban BIPV",
           "Review paper",
           "Ingrid",
           "In progress"
          ]
         ],
         "hovertemplate": "<b>%{hovertext}</b><br><br>Project=%{customdata[0]}<br>Start=%{base}<br>End=%{x}<br>Description=%{customdata[1]}<br>Participants=%{customdata[2]}<br>Progress=%{customdata[3]}<extra></extra>",
         "hovertext": [
          "Gregory",
          "Ingrid",
          "Gavin",
          "Ingrid",
          "Ingrid",
          "Ingrid"
         ],
         "legendgroup": "Urban BIPV",
         "marker": {
          "color": "#ab63fa"
         },
         "name": "Urban BIPV",
         "offsetgroup": "Urban BIPV",
         "orientation": "h",
         "showlegend": true,
         "text": [
          "Research design flowchart",
          "Study location selection",
          "Solar irradiation simulation",
          "Select 2-3 buildings/ BIPV products",
          "Economic assessment",
          "Review paper"
         ],
         "textposition": "auto",
         "type": "bar",
         "x": [
          1209600000,
          1987200000,
          4665600000,
          4665600000,
          4665600000,
          1987200000
         ],
         "xaxis": "x",
         "y": [
          "4",
          "5",
          "6",
          "7",
          "8",
          "9"
         ],
         "yaxis": "y"
        },
        {
         "alignmentgroup": "True",
         "base": [
          "2022-04-08T00:00:00",
          "2022-04-08T00:00:00",
          "2022-04-08T00:00:00",
          "2022-04-08T00:00:00",
          "2022-04-08T00:00:00",
          "2022-04-08T00:00:00",
          "2022-04-08T00:00:00"
         ],
         "customdata": [
          [
           "Finished task",
           "Stakeholder attributes",
           "Ivan",
           "Finished"
          ],
          [
           "Finished task",
           "Distribution of product info",
           "Jiaqi",
           "Finished"
          ],
          [
           "Finished task",
           "VCG/KDA/TR ->PV/PV+Battery",
           "Kaige",
           "Finished"
          ],
          [
           "Finished task",
           "Coorpeartive GT  ->PV/PV+Battery",
           "Kaige",
           "Finished"
          ],
          [
           "Finished task",
           "Explanation of GT",
           "Kaige",
           "Finished"
          ],
          [
           "Finished task",
           "Chaperter on P2P",
           "Chathuri",
           "Finished"
          ],
          [
           "Finished task",
           "Industry workshop/travelling",
           "Rebecca",
           "Finished"
          ]
         ],
         "hovertemplate": "<b>%{hovertext}</b><br><br>Project=%{customdata[0]}<br>Start=%{base}<br>End=%{x}<br>Description=%{customdata[1]}<br>Participants=%{customdata[2]}<br>Progress=%{customdata[3]}<extra></extra>",
         "hovertext": [
          "Ivan",
          "Jiaqi",
          "Kaige",
          "Kaige",
          "Kaige",
          "Chathuri",
          "Rebecca"
         ],
         "legendgroup": "Finished task",
         "marker": {
          "color": "gray"
         },
         "name": "Finished task",
         "offsetgroup": "Finished task",
         "orientation": "h",
         "showlegend": true,
         "text": [
          "Stakeholder attributes",
          "Distribution of product info",
          "VCG/KDA/TR ->PV/PV+Battery",
          "Coorpeartive GT  ->PV/PV+Battery",
          "Explanation of GT",
          "Chaperter on P2P",
          "Industry workshop/travelling"
         ],
         "textposition": "auto",
         "type": "bar",
         "x": [
          1209600000,
          1987200000,
          1209600000,
          1209600000,
          1987200000,
          3196800000,
          1900800000
         ],
         "xaxis": "x",
         "y": [
          "10",
          "11",
          "16",
          "17",
          "18",
          "19",
          "24"
         ],
         "yaxis": "y"
        },
        {
         "alignmentgroup": "True",
         "base": [
          "2022-04-08T00:00:00",
          "2022-05-20T00:00:00"
         ],
         "customdata": [
          [
           "Product info",
           "Provide contribution",
           "All",
           "In progress"
          ],
          [
           "Product info",
           "Wind load, wind resistance, static load, and etc.",
           "Anson",
           "In progress"
          ]
         ],
         "hovertemplate": "<b>%{hovertext}</b><br><br>Project=%{customdata[0]}<br>Start=%{base}<br>End=%{x}<br>Description=%{customdata[1]}<br>Participants=%{customdata[2]}<br>Progress=%{customdata[3]}<extra></extra>",
         "hovertext": [
          "All",
          "Anson"
         ],
         "legendgroup": "Product info",
         "marker": {
          "color": "#FFA15A"
         },
         "name": "Product info",
         "offsetgroup": "Product info",
         "orientation": "h",
         "showlegend": true,
         "text": [
          "Provide contribution",
          "Wind load, wind resistance, static load, and etc."
         ],
         "textposition": "auto",
         "type": "bar",
         "x": [
          4665600000,
          3542400000
         ],
         "xaxis": "x",
         "y": [
          "12",
          "13"
         ],
         "yaxis": "y"
        },
        {
         "alignmentgroup": "True",
         "base": [
          "2022-04-08T00:00:00",
          "2022-04-08T00:00:00"
         ],
         "customdata": [
          [
           "STA",
           "Internal draft",
           "Nilmini, Pabasara, Chathuri",
           "In progress"
          ],
          [
           "STA",
           "External review",
           "Nilmini, Pabasara, Chathuri",
           "In progress"
          ]
         ],
         "hovertemplate": "<b>%{hovertext}</b><br><br>Project=%{customdata[0]}<br>Start=%{base}<br>End=%{x}<br>Description=%{customdata[1]}<br>Participants=%{customdata[2]}<br>Progress=%{customdata[3]}<extra></extra>",
         "hovertext": [
          "Nilmini, Pabasara, Chathuri",
          "Nilmini, Pabasara, Chathuri"
         ],
         "legendgroup": "STA",
         "marker": {
          "color": "#19d3f3"
         },
         "name": "STA",
         "offsetgroup": "STA",
         "orientation": "h",
         "showlegend": true,
         "text": [
          "Internal draft",
          "External review"
         ],
         "textposition": "auto",
         "type": "bar",
         "x": [
          1555200000,
          4665600000
         ],
         "xaxis": "x",
         "y": [
          "14",
          "15"
         ],
         "yaxis": "y"
        },
        {
         "alignmentgroup": "True",
         "base": [
          "2022-04-08T00:00:00",
          "2022-04-08T00:00:00"
         ],
         "customdata": [
          [
           "Grid impact on P2P",
           "Chaperter on BIPV",
           "Chathuri",
           "In progress"
          ],
          [
           "Grid impact on P2P",
           "Two paper for GT",
           "Chathuri",
           "In progress"
          ]
         ],
         "hovertemplate": "<b>%{hovertext}</b><br><br>Project=%{customdata[0]}<br>Start=%{base}<br>End=%{x}<br>Description=%{customdata[1]}<br>Participants=%{customdata[2]}<br>Progress=%{customdata[3]}<extra></extra>",
         "hovertext": [
          "Chathuri",
          "Chathuri"
         ],
         "legendgroup": "Grid impact on P2P",
         "marker": {
          "color": "#FF6692"
         },
         "name": "Grid impact on P2P",
         "offsetgroup": "Grid impact on P2P",
         "orientation": "h",
         "showlegend": true,
         "text": [
          "Chaperter on BIPV",
          "Two paper for GT"
         ],
         "textposition": "auto",
         "type": "bar",
         "x": [
          4579200000,
          7171200000
         ],
         "xaxis": "x",
         "y": [
          "20",
          "21"
         ],
         "yaxis": "y"
        },
        {
         "alignmentgroup": "True",
         "base": [
          "2022-04-08T00:00:00"
         ],
         "customdata": [
          [
           "Design Hub",
           "All simulation",
           "Sujan",
           "In progress"
          ]
         ],
         "hovertemplate": "<b>%{hovertext}</b><br><br>Project=%{customdata[0]}<br>Start=%{base}<br>End=%{x}<br>Description=%{customdata[1]}<br>Participants=%{customdata[2]}<br>Progress=%{customdata[3]}<extra></extra>",
         "hovertext": [
          "Sujan"
         ],
         "legendgroup": "Design Hub",
         "marker": {
          "color": "#B6E880"
         },
         "name": "Design Hub",
         "offsetgroup": "Design Hub",
         "orientation": "h",
         "showlegend": true,
         "text": [
          "All simulation"
         ],
         "textposition": "auto",
         "type": "bar",
         "x": [
          1209600000
         ],
         "xaxis": "x",
         "y": [
          "22"
         ],
         "yaxis": "y"
        },
        {
         "alignmentgroup": "True",
         "base": [
          "2022-04-08T00:00:00"
         ],
         "customdata": [
          [
           "BIPV Enabler",
           "Report",
           "Pabasara",
           "In progress"
          ]
         ],
         "hovertemplate": "<b>%{hovertext}</b><br><br>Project=%{customdata[0]}<br>Start=%{base}<br>End=%{x}<br>Description=%{customdata[1]}<br>Participants=%{customdata[2]}<br>Progress=%{customdata[3]}<extra></extra>",
         "hovertext": [
          "Pabasara"
         ],
         "legendgroup": "BIPV Enabler",
         "marker": {
          "color": "#FF97FF"
         },
         "name": "BIPV Enabler",
         "offsetgroup": "BIPV Enabler",
         "orientation": "h",
         "showlegend": true,
         "text": [
          "Report"
         ],
         "textposition": "auto",
         "type": "bar",
         "x": [
          1900800000
         ],
         "xaxis": "x",
         "y": [
          "23"
         ],
         "yaxis": "y"
        },
        {
         "alignmentgroup": "True",
         "base": [
          "2022-05-31T00:00:00"
         ],
         "customdata": [
          [
           "HDR conference",
           "Supports from others",
           "Gavin and all",
           "In progress"
          ]
         ],
         "hovertemplate": "<b>%{hovertext}</b><br><br>Project=%{customdata[0]}<br>Start=%{base}<br>End=%{x}<br>Description=%{customdata[1]}<br>Participants=%{customdata[2]}<br>Progress=%{customdata[3]}<extra></extra>",
         "hovertext": [
          "Gavin and all"
         ],
         "legendgroup": "HDR conference",
         "marker": {
          "color": "#FECB52"
         },
         "name": "HDR conference",
         "offsetgroup": "HDR conference",
         "orientation": "h",
         "showlegend": true,
         "text": [
          "Supports from others"
         ],
         "textposition": "auto",
         "type": "bar",
         "x": [
          7948800000
         ],
         "xaxis": "x",
         "y": [
          "25"
         ],
         "yaxis": "y"
        }
       ],
       "layout": {
        "barmode": "overlay",
        "height": 1000,
        "legend": {
         "title": {
          "text": "Project"
         },
         "tracegroupgap": 0
        },
        "margin": {
         "t": 60
        },
        "shapes": [
         {
          "line": {
           "color": "black",
           "width": 1
          },
          "type": "line",
          "x0": "2022-06-23",
          "x1": "2022-06-23",
          "xref": "x",
          "y0": 0,
          "y1": 1,
          "yref": "y domain"
         }
        ],
        "template": {
         "data": {
          "bar": [
           {
            "error_x": {
             "color": "#2a3f5f"
            },
            "error_y": {
             "color": "#2a3f5f"
            },
            "marker": {
             "line": {
              "color": "#E5ECF6",
              "width": 0.5
             },
             "pattern": {
              "fillmode": "overlay",
              "size": 10,
              "solidity": 0.2
             }
            },
            "type": "bar"
           }
          ],
          "barpolar": [
           {
            "marker": {
             "line": {
              "color": "#E5ECF6",
              "width": 0.5
             },
             "pattern": {
              "fillmode": "overlay",
              "size": 10,
              "solidity": 0.2
             }
            },
            "type": "barpolar"
           }
          ],
          "carpet": [
           {
            "aaxis": {
             "endlinecolor": "#2a3f5f",
             "gridcolor": "white",
             "linecolor": "white",
             "minorgridcolor": "white",
             "startlinecolor": "#2a3f5f"
            },
            "baxis": {
             "endlinecolor": "#2a3f5f",
             "gridcolor": "white",
             "linecolor": "white",
             "minorgridcolor": "white",
             "startlinecolor": "#2a3f5f"
            },
            "type": "carpet"
           }
          ],
          "choropleth": [
           {
            "colorbar": {
             "outlinewidth": 0,
             "ticks": ""
            },
            "type": "choropleth"
           }
          ],
          "contour": [
           {
            "colorbar": {
             "outlinewidth": 0,
             "ticks": ""
            },
            "colorscale": [
             [
              0,
              "#0d0887"
             ],
             [
              0.1111111111111111,
              "#46039f"
             ],
             [
              0.2222222222222222,
              "#7201a8"
             ],
             [
              0.3333333333333333,
              "#9c179e"
             ],
             [
              0.4444444444444444,
              "#bd3786"
             ],
             [
              0.5555555555555556,
              "#d8576b"
             ],
             [
              0.6666666666666666,
              "#ed7953"
             ],
             [
              0.7777777777777778,
              "#fb9f3a"
             ],
             [
              0.8888888888888888,
              "#fdca26"
             ],
             [
              1,
              "#f0f921"
             ]
            ],
            "type": "contour"
           }
          ],
          "contourcarpet": [
           {
            "colorbar": {
             "outlinewidth": 0,
             "ticks": ""
            },
            "type": "contourcarpet"
           }
          ],
          "heatmap": [
           {
            "colorbar": {
             "outlinewidth": 0,
             "ticks": ""
            },
            "colorscale": [
             [
              0,
              "#0d0887"
             ],
             [
              0.1111111111111111,
              "#46039f"
             ],
             [
              0.2222222222222222,
              "#7201a8"
             ],
             [
              0.3333333333333333,
              "#9c179e"
             ],
             [
              0.4444444444444444,
              "#bd3786"
             ],
             [
              0.5555555555555556,
              "#d8576b"
             ],
             [
              0.6666666666666666,
              "#ed7953"
             ],
             [
              0.7777777777777778,
              "#fb9f3a"
             ],
             [
              0.8888888888888888,
              "#fdca26"
             ],
             [
              1,
              "#f0f921"
             ]
            ],
            "type": "heatmap"
           }
          ],
          "heatmapgl": [
           {
            "colorbar": {
             "outlinewidth": 0,
             "ticks": ""
            },
            "colorscale": [
             [
              0,
              "#0d0887"
             ],
             [
              0.1111111111111111,
              "#46039f"
             ],
             [
              0.2222222222222222,
              "#7201a8"
             ],
             [
              0.3333333333333333,
              "#9c179e"
             ],
             [
              0.4444444444444444,
              "#bd3786"
             ],
             [
              0.5555555555555556,
              "#d8576b"
             ],
             [
              0.6666666666666666,
              "#ed7953"
             ],
             [
              0.7777777777777778,
              "#fb9f3a"
             ],
             [
              0.8888888888888888,
              "#fdca26"
             ],
             [
              1,
              "#f0f921"
             ]
            ],
            "type": "heatmapgl"
           }
          ],
          "histogram": [
           {
            "marker": {
             "pattern": {
              "fillmode": "overlay",
              "size": 10,
              "solidity": 0.2
             }
            },
            "type": "histogram"
           }
          ],
          "histogram2d": [
           {
            "colorbar": {
             "outlinewidth": 0,
             "ticks": ""
            },
            "colorscale": [
             [
              0,
              "#0d0887"
             ],
             [
              0.1111111111111111,
              "#46039f"
             ],
             [
              0.2222222222222222,
              "#7201a8"
             ],
             [
              0.3333333333333333,
              "#9c179e"
             ],
             [
              0.4444444444444444,
              "#bd3786"
             ],
             [
              0.5555555555555556,
              "#d8576b"
             ],
             [
              0.6666666666666666,
              "#ed7953"
             ],
             [
              0.7777777777777778,
              "#fb9f3a"
             ],
             [
              0.8888888888888888,
              "#fdca26"
             ],
             [
              1,
              "#f0f921"
             ]
            ],
            "type": "histogram2d"
           }
          ],
          "histogram2dcontour": [
           {
            "colorbar": {
             "outlinewidth": 0,
             "ticks": ""
            },
            "colorscale": [
             [
              0,
              "#0d0887"
             ],
             [
              0.1111111111111111,
              "#46039f"
             ],
             [
              0.2222222222222222,
              "#7201a8"
             ],
             [
              0.3333333333333333,
              "#9c179e"
             ],
             [
              0.4444444444444444,
              "#bd3786"
             ],
             [
              0.5555555555555556,
              "#d8576b"
             ],
             [
              0.6666666666666666,
              "#ed7953"
             ],
             [
              0.7777777777777778,
              "#fb9f3a"
             ],
             [
              0.8888888888888888,
              "#fdca26"
             ],
             [
              1,
              "#f0f921"
             ]
            ],
            "type": "histogram2dcontour"
           }
          ],
          "mesh3d": [
           {
            "colorbar": {
             "outlinewidth": 0,
             "ticks": ""
            },
            "type": "mesh3d"
           }
          ],
          "parcoords": [
           {
            "line": {
             "colorbar": {
              "outlinewidth": 0,
              "ticks": ""
             }
            },
            "type": "parcoords"
           }
          ],
          "pie": [
           {
            "automargin": true,
            "type": "pie"
           }
          ],
          "scatter": [
           {
            "fillpattern": {
             "fillmode": "overlay",
             "size": 10,
             "solidity": 0.2
            },
            "type": "scatter"
           }
          ],
          "scatter3d": [
           {
            "line": {
             "colorbar": {
              "outlinewidth": 0,
              "ticks": ""
             }
            },
            "marker": {
             "colorbar": {
              "outlinewidth": 0,
              "ticks": ""
             }
            },
            "type": "scatter3d"
           }
          ],
          "scattercarpet": [
           {
            "marker": {
             "colorbar": {
              "outlinewidth": 0,
              "ticks": ""
             }
            },
            "type": "scattercarpet"
           }
          ],
          "scattergeo": [
           {
            "marker": {
             "colorbar": {
              "outlinewidth": 0,
              "ticks": ""
             }
            },
            "type": "scattergeo"
           }
          ],
          "scattergl": [
           {
            "marker": {
             "colorbar": {
              "outlinewidth": 0,
              "ticks": ""
             }
            },
            "type": "scattergl"
           }
          ],
          "scattermapbox": [
           {
            "marker": {
             "colorbar": {
              "outlinewidth": 0,
              "ticks": ""
             }
            },
            "type": "scattermapbox"
           }
          ],
          "scatterpolar": [
           {
            "marker": {
             "colorbar": {
              "outlinewidth": 0,
              "ticks": ""
             }
            },
            "type": "scatterpolar"
           }
          ],
          "scatterpolargl": [
           {
            "marker": {
             "colorbar": {
              "outlinewidth": 0,
              "ticks": ""
             }
            },
            "type": "scatterpolargl"
           }
          ],
          "scatterternary": [
           {
            "marker": {
             "colorbar": {
              "outlinewidth": 0,
              "ticks": ""
             }
            },
            "type": "scatterternary"
           }
          ],
          "surface": [
           {
            "colorbar": {
             "outlinewidth": 0,
             "ticks": ""
            },
            "colorscale": [
             [
              0,
              "#0d0887"
             ],
             [
              0.1111111111111111,
              "#46039f"
             ],
             [
              0.2222222222222222,
              "#7201a8"
             ],
             [
              0.3333333333333333,
              "#9c179e"
             ],
             [
              0.4444444444444444,
              "#bd3786"
             ],
             [
              0.5555555555555556,
              "#d8576b"
             ],
             [
              0.6666666666666666,
              "#ed7953"
             ],
             [
              0.7777777777777778,
              "#fb9f3a"
             ],
             [
              0.8888888888888888,
              "#fdca26"
             ],
             [
              1,
              "#f0f921"
             ]
            ],
            "type": "surface"
           }
          ],
          "table": [
           {
            "cells": {
             "fill": {
              "color": "#EBF0F8"
             },
             "line": {
              "color": "white"
             }
            },
            "header": {
             "fill": {
              "color": "#C8D4E3"
             },
             "line": {
              "color": "white"
             }
            },
            "type": "table"
           }
          ]
         },
         "layout": {
          "annotationdefaults": {
           "arrowcolor": "#2a3f5f",
           "arrowhead": 0,
           "arrowwidth": 1
          },
          "autotypenumbers": "strict",
          "coloraxis": {
           "colorbar": {
            "outlinewidth": 0,
            "ticks": ""
           }
          },
          "colorscale": {
           "diverging": [
            [
             0,
             "#8e0152"
            ],
            [
             0.1,
             "#c51b7d"
            ],
            [
             0.2,
             "#de77ae"
            ],
            [
             0.3,
             "#f1b6da"
            ],
            [
             0.4,
             "#fde0ef"
            ],
            [
             0.5,
             "#f7f7f7"
            ],
            [
             0.6,
             "#e6f5d0"
            ],
            [
             0.7,
             "#b8e186"
            ],
            [
             0.8,
             "#7fbc41"
            ],
            [
             0.9,
             "#4d9221"
            ],
            [
             1,
             "#276419"
            ]
           ],
           "sequential": [
            [
             0,
             "#0d0887"
            ],
            [
             0.1111111111111111,
             "#46039f"
            ],
            [
             0.2222222222222222,
             "#7201a8"
            ],
            [
             0.3333333333333333,
             "#9c179e"
            ],
            [
             0.4444444444444444,
             "#bd3786"
            ],
            [
             0.5555555555555556,
             "#d8576b"
            ],
            [
             0.6666666666666666,
             "#ed7953"
            ],
            [
             0.7777777777777778,
             "#fb9f3a"
            ],
            [
             0.8888888888888888,
             "#fdca26"
            ],
            [
             1,
             "#f0f921"
            ]
           ],
           "sequentialminus": [
            [
             0,
             "#0d0887"
            ],
            [
             0.1111111111111111,
             "#46039f"
            ],
            [
             0.2222222222222222,
             "#7201a8"
            ],
            [
             0.3333333333333333,
             "#9c179e"
            ],
            [
             0.4444444444444444,
             "#bd3786"
            ],
            [
             0.5555555555555556,
             "#d8576b"
            ],
            [
             0.6666666666666666,
             "#ed7953"
            ],
            [
             0.7777777777777778,
             "#fb9f3a"
            ],
            [
             0.8888888888888888,
             "#fdca26"
            ],
            [
             1,
             "#f0f921"
            ]
           ]
          },
          "colorway": [
           "#636efa",
           "#EF553B",
           "#00cc96",
           "#ab63fa",
           "#FFA15A",
           "#19d3f3",
           "#FF6692",
           "#B6E880",
           "#FF97FF",
           "#FECB52"
          ],
          "font": {
           "color": "#2a3f5f"
          },
          "geo": {
           "bgcolor": "white",
           "lakecolor": "white",
           "landcolor": "#E5ECF6",
           "showlakes": true,
           "showland": true,
           "subunitcolor": "white"
          },
          "hoverlabel": {
           "align": "left"
          },
          "hovermode": "closest",
          "mapbox": {
           "style": "light"
          },
          "paper_bgcolor": "white",
          "plot_bgcolor": "#E5ECF6",
          "polar": {
           "angularaxis": {
            "gridcolor": "white",
            "linecolor": "white",
            "ticks": ""
           },
           "bgcolor": "#E5ECF6",
           "radialaxis": {
            "gridcolor": "white",
            "linecolor": "white",
            "ticks": ""
           }
          },
          "scene": {
           "xaxis": {
            "backgroundcolor": "#E5ECF6",
            "gridcolor": "white",
            "gridwidth": 2,
            "linecolor": "white",
            "showbackground": true,
            "ticks": "",
            "zerolinecolor": "white"
           },
           "yaxis": {
            "backgroundcolor": "#E5ECF6",
            "gridcolor": "white",
            "gridwidth": 2,
            "linecolor": "white",
            "showbackground": true,
            "ticks": "",
            "zerolinecolor": "white"
           },
           "zaxis": {
            "backgroundcolor": "#E5ECF6",
            "gridcolor": "white",
            "gridwidth": 2,
            "linecolor": "white",
            "showbackground": true,
            "ticks": "",
            "zerolinecolor": "white"
           }
          },
          "shapedefaults": {
           "line": {
            "color": "#2a3f5f"
           }
          },
          "ternary": {
           "aaxis": {
            "gridcolor": "white",
            "linecolor": "white",
            "ticks": ""
           },
           "baxis": {
            "gridcolor": "white",
            "linecolor": "white",
            "ticks": ""
           },
           "bgcolor": "#E5ECF6",
           "caxis": {
            "gridcolor": "white",
            "linecolor": "white",
            "ticks": ""
           }
          },
          "title": {
           "x": 0.05
          },
          "xaxis": {
           "automargin": true,
           "gridcolor": "white",
           "linecolor": "white",
           "ticks": "",
           "title": {
            "standoff": 15
           },
           "zerolinecolor": "white",
           "zerolinewidth": 2
          },
          "yaxis": {
           "automargin": true,
           "gridcolor": "white",
           "linecolor": "white",
           "ticks": "",
           "title": {
            "standoff": 15
           },
           "zerolinecolor": "white",
           "zerolinewidth": 2
          }
         }
        },
        "title": {
         "text": "Project timeline"
        },
        "xaxis": {
         "anchor": "y",
         "domain": [
          0,
          1
         ],
         "linecolor": "black",
         "linewidth": 2,
         "showline": true,
         "tickformat": "%Y-%b-%d",
         "type": "date"
        },
        "yaxis": {
         "anchor": "x",
         "autorange": "reversed",
         "autotypenumbers": "convert types",
         "domain": [
          0,
          1
         ],
         "title": {
          "text": "Task ID"
         }
        }
       }
      }
     },
     "metadata": {},
     "output_type": "display_data"
    }
   ],
   "source": [
    "fig = px.timeline(tasks, x_start=\"Start\", x_end=\"End\", y=\"Task ID\", hover_name='Participants', \n",
    "                  hover_data = {'Task ID': False,\n",
    "                                'Project':True,\n",
    "                                'Start':True,\n",
    "                                'End':True,\n",
    "                                'Description':True,\n",
    "                                'Participants':True,\n",
    "                                'Progress':True\n",
    "                                }, \n",
    "                  color_discrete_map={\"Finished task\": \"gray\", \"Finished publication\": \"gray\"},\n",
    "                  color = 'Project', text = 'Description', height = 1000)\n",
    "fig.add_vline(x=today, line_width=1, line_color=\"black\")\n",
    "fig.update_layout(title= 'Project timeline', xaxis_tickformat='%Y-%b-%d')\n",
    "fig.update_xaxes(showline=True, linewidth=2, linecolor='black')\n",
    "fig.update_yaxes(autotypenumbers=\"convert types\", autorange='reversed')\n",
    "fig.show()\n",
    "fig.write_html(\"Project timeline.html\")"
   ]
  },
  {
   "cell_type": "code",
   "execution_count": 18,
   "metadata": {},
   "outputs": [
    {
     "data": {
      "application/vnd.plotly.v1+json": {
       "config": {
        "plotlyServerURL": "https://plot.ly"
       },
       "data": [
        {
         "alignmentgroup": "True",
         "base": [
          "2022-04-22T00:00:00",
          "2022-04-22T00:00:00"
         ],
         "customdata": [
          [
           "Nilmini",
           "CIB paper camera ready copy ",
           "Nilmini",
           "In progress"
          ],
          [
           "Nilmini",
           "Monte-Carlo paper",
           "Nilmini",
           "In progress"
          ]
         ],
         "hovertemplate": "<b>%{hovertext}</b><br><br>Start=%{base}<br>End=%{x}<br>Description=%{customdata[1]}<br>Participants=%{customdata[2]}<br>Progress=%{customdata[3]}<extra></extra>",
         "hovertext": [
          "Nilmini",
          "Nilmini"
         ],
         "legendgroup": "Nilmini",
         "marker": {
          "color": "#EF553B"
         },
         "name": "Nilmini",
         "offsetgroup": "Nilmini",
         "orientation": "h",
         "showlegend": true,
         "text": [
          "CIB paper camera ready copy ",
          "Monte-Carlo paper"
         ],
         "textposition": "outside",
         "type": "bar",
         "x": [
          5097600000,
          3283200000
         ],
         "xaxis": "x",
         "y": [
          "0",
          "1"
         ],
         "yaxis": "y"
        },
        {
         "alignmentgroup": "True",
         "base": [
          "2022-04-22T00:00:00",
          "2022-04-22T00:00:00",
          "2022-04-22T00:00:00",
          "2022-07-01T00:00:00"
         ],
         "customdata": [
          [
           "Ivan",
           "CIB paper camera ready copy ",
           "Ivan",
           "In progress"
          ],
          [
           "Ivan",
           "Paper on Geometry information of BIPV - Ivan's part",
           "Ivan",
           "In progress"
          ],
          [
           "Ivan",
           "Paper on Geometry information of BIPV- full paper",
           "Ivan",
           "In progress"
          ],
          [
           "Ivan",
           "Paper on Non-geometry product infromation",
           "Ivan",
           "In progress"
          ]
         ],
         "hovertemplate": "<b>%{hovertext}</b><br><br>Start=%{base}<br>End=%{x}<br>Description=%{customdata[1]}<br>Participants=%{customdata[2]}<br>Progress=%{customdata[3]}<extra></extra>",
         "hovertext": [
          "Ivan",
          "Ivan",
          "Ivan",
          "Ivan"
         ],
         "legendgroup": "Ivan",
         "marker": {
          "color": "#00cc96"
         },
         "name": "Ivan",
         "offsetgroup": "Ivan",
         "orientation": "h",
         "showlegend": true,
         "text": [
          "CIB paper camera ready copy ",
          "Paper on Geometry information of BIPV - Ivan's part",
          "Paper on Geometry information of BIPV- full paper",
          "Paper on Non-geometry product infromation"
         ],
         "textposition": "outside",
         "type": "bar",
         "x": [
          2419200000,
          3369600000,
          5961600000,
          15811200000
         ],
         "xaxis": "x",
         "y": [
          "2",
          "3",
          "4",
          "5"
         ],
         "yaxis": "y"
        },
        {
         "alignmentgroup": "True",
         "base": [
          "2022-04-22T00:00:00",
          "2022-04-22T00:00:00",
          "2022-04-22T00:00:00",
          "2022-05-20T00:00:00"
         ],
         "customdata": [
          [
           "Pabasara",
           "BIM paper",
           "Pabasara",
           "In progress"
          ],
          [
           "Pabasara",
           "BIPV design methods and workflow paper - revision",
           "Pabasara",
           "In progress"
          ],
          [
           "Pabasara",
           "Framework paper",
           "Pabasara",
           "In progress"
          ],
          [
           "Pabasara",
           "Comparison of software paper - Pabasara providing information",
           "Pabasara",
           "In progress"
          ]
         ],
         "hovertemplate": "<b>%{hovertext}</b><br><br>Start=%{base}<br>End=%{x}<br>Description=%{customdata[1]}<br>Participants=%{customdata[2]}<br>Progress=%{customdata[3]}<extra></extra>",
         "hovertext": [
          "Pabasara",
          "Pabasara",
          "Pabasara",
          "Pabasara"
         ],
         "legendgroup": "Pabasara",
         "marker": {
          "color": "#ab63fa"
         },
         "name": "Pabasara",
         "offsetgroup": "Pabasara",
         "orientation": "h",
         "showlegend": true,
         "text": [
          "BIM paper",
          "BIPV design methods and workflow paper - revision",
          "Framework paper",
          "Comparison of software paper - Pabasara providing information"
         ],
         "textposition": "outside",
         "type": "bar",
         "x": [
          4665600000,
          5961600000,
          5961600000,
          604800000
         ],
         "xaxis": "x",
         "y": [
          "6",
          "7",
          "8",
          "28"
         ],
         "yaxis": "y"
        },
        {
         "alignmentgroup": "True",
         "base": [
          "2022-04-22T00:00:00",
          "2022-04-22T00:00:00",
          "2022-04-22T00:00:00",
          "2022-04-22T00:00:00",
          "2022-04-22T00:00:00"
         ],
         "customdata": [
          [
           "Finished task",
           "AIRAH Conference paper",
           "Tharushi",
           "Finished"
          ],
          [
           "Finished task",
           "Thesis",
           "Tharushi",
           "Finished"
          ],
          [
           "Finished task",
           "Simulation process",
           "Sujan",
           "Finished"
          ],
          [
           "Finished task",
           "Thesis completion",
           "Gavin",
           "Finished"
          ],
          [
           "Finished task",
           "C4NET report",
           "Gavin",
           "Finished"
          ]
         ],
         "hovertemplate": "<b>%{hovertext}</b><br><br>Start=%{base}<br>End=%{x}<br>Description=%{customdata[1]}<br>Participants=%{customdata[2]}<br>Progress=%{customdata[3]}<extra></extra>",
         "hovertext": [
          "Tharushi",
          "Tharushi",
          "Sujan",
          "Gavin",
          "Gavin"
         ],
         "legendgroup": "Finished task",
         "marker": {
          "color": "gray"
         },
         "name": "Finished task",
         "offsetgroup": "Finished task",
         "orientation": "h",
         "showlegend": true,
         "text": [
          "AIRAH Conference paper",
          "Thesis",
          "Simulation process",
          "Thesis completion",
          "C4NET report"
         ],
         "textposition": "outside",
         "type": "bar",
         "x": [
          432000000,
          432000000,
          345600000,
          432000000,
          864000000
         ],
         "xaxis": "x",
         "y": [
          "9",
          "10",
          "14",
          "19",
          "20"
         ],
         "yaxis": "y"
        },
        {
         "alignmentgroup": "True",
         "base": [
          "2022-04-22T00:00:00",
          "2022-05-20T00:00:00"
         ],
         "customdata": [
          [
           "Tharushi, Pabasara",
           "BIPV Enabler paper structure",
           "Tharushi, Pabasara",
           "In progress"
          ],
          [
           "Tharushi, Pabasara",
           "BIPV Enabler paper - whole paper",
           "Tharushi, Pabasara",
           "In progress"
          ]
         ],
         "hovertemplate": "<b>%{hovertext}</b><br><br>Start=%{base}<br>End=%{x}<br>Description=%{customdata[1]}<br>Participants=%{customdata[2]}<br>Progress=%{customdata[3]}<extra></extra>",
         "hovertext": [
          "Tharushi, Pabasara",
          "Tharushi, Pabasara"
         ],
         "legendgroup": "Tharushi, Pabasara",
         "marker": {
          "color": "#FFA15A"
         },
         "name": "Tharushi, Pabasara",
         "offsetgroup": "Tharushi, Pabasara",
         "orientation": "h",
         "showlegend": true,
         "text": [
          "BIPV Enabler paper structure",
          "BIPV Enabler paper - whole paper"
         ],
         "textposition": "outside",
         "type": "bar",
         "x": [
          3369600000,
          6220800000
         ],
         "xaxis": "x",
         "y": [
          "11",
          "12"
         ],
         "yaxis": "y"
        },
        {
         "alignmentgroup": "True",
         "base": [
          "2022-04-22T00:00:00"
         ],
         "customdata": [
          [
           "Tharushi",
           "Case study results conference paper - Abstract",
           "Tharushi",
           "In progress"
          ]
         ],
         "hovertemplate": "<b>%{hovertext}</b><br><br>Start=%{base}<br>End=%{x}<br>Description=%{customdata[1]}<br>Participants=%{customdata[2]}<br>Progress=%{customdata[3]}<extra></extra>",
         "hovertext": [
          "Tharushi"
         ],
         "legendgroup": "Tharushi",
         "marker": {
          "color": "#19d3f3"
         },
         "name": "Tharushi",
         "offsetgroup": "Tharushi",
         "orientation": "h",
         "showlegend": true,
         "text": [
          "Case study results conference paper - Abstract"
         ],
         "textposition": "outside",
         "type": "bar",
         "x": [
          3369600000
         ],
         "xaxis": "x",
         "y": [
          "13"
         ],
         "yaxis": "y"
        },
        {
         "alignmentgroup": "True",
         "base": [
          "2022-05-20T00:00:00"
         ],
         "customdata": [
          [
           "Sujan, Pabasara, Tharushi, Gavin",
           "Design Hub paper",
           "Sujan, Pabasara, Tharushi, Gavin",
           "In progress"
          ]
         ],
         "hovertemplate": "<b>%{hovertext}</b><br><br>Start=%{base}<br>End=%{x}<br>Description=%{customdata[1]}<br>Participants=%{customdata[2]}<br>Progress=%{customdata[3]}<extra></extra>",
         "hovertext": [
          "Sujan, Pabasara, Tharushi, Gavin"
         ],
         "legendgroup": "Sujan, Pabasara, Tharushi, Gavin",
         "marker": {
          "color": "#FF6692"
         },
         "name": "Sujan, Pabasara, Tharushi, Gavin",
         "offsetgroup": "Sujan, Pabasara, Tharushi, Gavin",
         "orientation": "h",
         "showlegend": true,
         "text": [
          "Design Hub paper"
         ],
         "textposition": "outside",
         "type": "bar",
         "x": [
          6220800000
         ],
         "xaxis": "x",
         "y": [
          "15"
         ],
         "yaxis": "y"
        },
        {
         "alignmentgroup": "True",
         "base": [
          "2022-04-22T00:00:00"
         ],
         "customdata": [
          [
           "Ingrid",
           "Review paper",
           "Ingrid",
           "In progress"
          ]
         ],
         "hovertemplate": "<b>%{hovertext}</b><br><br>Start=%{base}<br>End=%{x}<br>Description=%{customdata[1]}<br>Participants=%{customdata[2]}<br>Progress=%{customdata[3]}<extra></extra>",
         "hovertext": [
          "Ingrid"
         ],
         "legendgroup": "Ingrid",
         "marker": {
          "color": "#B6E880"
         },
         "name": "Ingrid",
         "offsetgroup": "Ingrid",
         "orientation": "h",
         "showlegend": true,
         "text": [
          "Review paper"
         ],
         "textposition": "outside",
         "type": "bar",
         "x": [
          1987200000
         ],
         "xaxis": "x",
         "y": [
          "16"
         ],
         "yaxis": "y"
        },
        {
         "alignmentgroup": "True",
         "base": [
          "2022-04-22T00:00:00",
          "2022-04-22T00:00:00"
         ],
         "customdata": [
          [
           "Frank",
           "Fire regulations paper ",
           "Frank",
           "In progress"
          ],
          [
           "Frank",
           "VBA report",
           "Frank",
           "In progress"
          ]
         ],
         "hovertemplate": "<b>%{hovertext}</b><br><br>Start=%{base}<br>End=%{x}<br>Description=%{customdata[1]}<br>Participants=%{customdata[2]}<br>Progress=%{customdata[3]}<extra></extra>",
         "hovertext": [
          "Frank",
          "Frank"
         ],
         "legendgroup": "Frank",
         "marker": {
          "color": "#FF97FF"
         },
         "name": "Frank",
         "offsetgroup": "Frank",
         "orientation": "h",
         "showlegend": true,
         "text": [
          "Fire regulations paper ",
          "VBA report"
         ],
         "textposition": "outside",
         "type": "bar",
         "x": [
          3369600000,
          3369600000
         ],
         "xaxis": "x",
         "y": [
          "17",
          "18"
         ],
         "yaxis": "y"
        },
        {
         "alignmentgroup": "True",
         "base": [
          "2022-04-22T00:00:00"
         ],
         "customdata": [
          [
           "Gavin",
           "Paper based on thesis",
           "Gavin",
           "In progress"
          ]
         ],
         "hovertemplate": "<b>%{hovertext}</b><br><br>Start=%{base}<br>End=%{x}<br>Description=%{customdata[1]}<br>Participants=%{customdata[2]}<br>Progress=%{customdata[3]}<extra></extra>",
         "hovertext": [
          "Gavin"
         ],
         "legendgroup": "Gavin",
         "marker": {
          "color": "#FECB52"
         },
         "name": "Gavin",
         "offsetgroup": "Gavin",
         "orientation": "h",
         "showlegend": true,
         "text": [
          "Paper based on thesis"
         ],
         "textposition": "outside",
         "type": "bar",
         "x": [
          5961600000
         ],
         "xaxis": "x",
         "y": [
          "21"
         ],
         "yaxis": "y"
        },
        {
         "alignmentgroup": "True",
         "base": [
          "2022-04-22T00:00:00"
         ],
         "customdata": [
          [
           "Kaige",
           "CIB paper camera ready copy ",
           "Kaige",
           "In progress"
          ]
         ],
         "hovertemplate": "<b>%{hovertext}</b><br><br>Start=%{base}<br>End=%{x}<br>Description=%{customdata[1]}<br>Participants=%{customdata[2]}<br>Progress=%{customdata[3]}<extra></extra>",
         "hovertext": [
          "Kaige"
         ],
         "legendgroup": "Kaige",
         "marker": {
          "color": "#636efa"
         },
         "name": "Kaige",
         "offsetgroup": "Kaige",
         "orientation": "h",
         "showlegend": true,
         "text": [
          "CIB paper camera ready copy "
         ],
         "textposition": "outside",
         "type": "bar",
         "x": [
          5097600000
         ],
         "xaxis": "x",
         "y": [
          "22"
         ],
         "yaxis": "y"
        },
        {
         "alignmentgroup": "True",
         "base": [
          "2022-04-22T00:00:00",
          "2022-04-22T00:00:00",
          "2022-04-22T00:00:00",
          "2022-07-01T00:00:00",
          "2022-07-01T00:00:00"
         ],
         "customdata": [
          [
           "Chathuri",
           "CIB paper camera ready copy ",
           "Chathuri",
           "In progress"
          ],
          [
           "Chathuri",
           "P2P trading paper",
           "Chathuri",
           "In progress"
          ],
          [
           "Chathuri",
           "Comparison of game theories paper",
           "Chathuri",
           "In progress"
          ],
          [
           "Chathuri",
           "Educational paper",
           "Chathuri",
           "In progress"
          ],
          [
           "Chathuri",
           "Blockchain-based BIPV information system paper",
           "Chathuri",
           "In progress"
          ]
         ],
         "hovertemplate": "<b>%{hovertext}</b><br><br>Start=%{base}<br>End=%{x}<br>Description=%{customdata[1]}<br>Participants=%{customdata[2]}<br>Progress=%{customdata[3]}<extra></extra>",
         "hovertext": [
          "Chathuri",
          "Chathuri",
          "Chathuri",
          "Chathuri",
          "Chathuri"
         ],
         "legendgroup": "Chathuri",
         "marker": {
          "color": "#EF553B"
         },
         "name": "Chathuri",
         "offsetgroup": "Chathuri",
         "orientation": "h",
         "showlegend": true,
         "text": [
          "CIB paper camera ready copy ",
          "P2P trading paper",
          "Comparison of game theories paper",
          "Educational paper",
          "Blockchain-based BIPV information system paper"
         ],
         "textposition": "outside",
         "type": "bar",
         "x": [
          5097600000,
          5961600000,
          5961600000,
          2678400000,
          2678400000
         ],
         "xaxis": "x",
         "y": [
          "23",
          "24",
          "25",
          "26",
          "27"
         ],
         "yaxis": "y"
        },
        {
         "alignmentgroup": "True",
         "base": [
          "2022-05-27T00:00:00"
         ],
         "customdata": [
          [
           "Sujan",
           "Comparison of software paper - Whole paper ",
           "Sujan",
           "In progress"
          ]
         ],
         "hovertemplate": "<b>%{hovertext}</b><br><br>Start=%{base}<br>End=%{x}<br>Description=%{customdata[1]}<br>Participants=%{customdata[2]}<br>Progress=%{customdata[3]}<extra></extra>",
         "hovertext": [
          "Sujan"
         ],
         "legendgroup": "Sujan",
         "marker": {
          "color": "#00cc96"
         },
         "name": "Sujan",
         "offsetgroup": "Sujan",
         "orientation": "h",
         "showlegend": true,
         "text": [
          "Comparison of software paper - Whole paper "
         ],
         "textposition": "outside",
         "type": "bar",
         "x": [
          34473600000
         ],
         "xaxis": "x",
         "y": [
          "29"
         ],
         "yaxis": "y"
        },
        {
         "alignmentgroup": "True",
         "base": [
          "2022-05-20T00:00:00",
          "2022-05-20T00:00:00"
         ],
         "customdata": [
          [
           "Gregory",
           "Review pape",
           "Gregory",
           "In progress"
          ],
          [
           "Gregory",
           "Macine leanring - BIPV mapping",
           "Gregory",
           "In progress"
          ]
         ],
         "hovertemplate": "<b>%{hovertext}</b><br><br>Start=%{base}<br>End=%{x}<br>Description=%{customdata[1]}<br>Participants=%{customdata[2]}<br>Progress=%{customdata[3]}<extra></extra>",
         "hovertext": [
          "Gregory",
          "Gregory"
         ],
         "legendgroup": "Gregory",
         "marker": {
          "color": "#ab63fa"
         },
         "name": "Gregory",
         "offsetgroup": "Gregory",
         "orientation": "h",
         "showlegend": true,
         "text": [
          "Review pape",
          "Macine leanring - BIPV mapping"
         ],
         "textposition": "outside",
         "type": "bar",
         "x": [
          2246400000,
          8899200000
         ],
         "xaxis": "x",
         "y": [
          "30",
          "31"
         ],
         "yaxis": "y"
        }
       ],
       "layout": {
        "barmode": "overlay",
        "height": 1000,
        "legend": {
         "title": {
          "text": "Project"
         },
         "tracegroupgap": 0
        },
        "margin": {
         "t": 60
        },
        "shapes": [
         {
          "line": {
           "color": "black",
           "width": 1
          },
          "type": "line",
          "x0": "2022-06-23",
          "x1": "2022-06-23",
          "xref": "x",
          "y0": 0,
          "y1": 1,
          "yref": "y domain"
         }
        ],
        "template": {
         "data": {
          "bar": [
           {
            "error_x": {
             "color": "#2a3f5f"
            },
            "error_y": {
             "color": "#2a3f5f"
            },
            "marker": {
             "line": {
              "color": "#E5ECF6",
              "width": 0.5
             },
             "pattern": {
              "fillmode": "overlay",
              "size": 10,
              "solidity": 0.2
             }
            },
            "type": "bar"
           }
          ],
          "barpolar": [
           {
            "marker": {
             "line": {
              "color": "#E5ECF6",
              "width": 0.5
             },
             "pattern": {
              "fillmode": "overlay",
              "size": 10,
              "solidity": 0.2
             }
            },
            "type": "barpolar"
           }
          ],
          "carpet": [
           {
            "aaxis": {
             "endlinecolor": "#2a3f5f",
             "gridcolor": "white",
             "linecolor": "white",
             "minorgridcolor": "white",
             "startlinecolor": "#2a3f5f"
            },
            "baxis": {
             "endlinecolor": "#2a3f5f",
             "gridcolor": "white",
             "linecolor": "white",
             "minorgridcolor": "white",
             "startlinecolor": "#2a3f5f"
            },
            "type": "carpet"
           }
          ],
          "choropleth": [
           {
            "colorbar": {
             "outlinewidth": 0,
             "ticks": ""
            },
            "type": "choropleth"
           }
          ],
          "contour": [
           {
            "colorbar": {
             "outlinewidth": 0,
             "ticks": ""
            },
            "colorscale": [
             [
              0,
              "#0d0887"
             ],
             [
              0.1111111111111111,
              "#46039f"
             ],
             [
              0.2222222222222222,
              "#7201a8"
             ],
             [
              0.3333333333333333,
              "#9c179e"
             ],
             [
              0.4444444444444444,
              "#bd3786"
             ],
             [
              0.5555555555555556,
              "#d8576b"
             ],
             [
              0.6666666666666666,
              "#ed7953"
             ],
             [
              0.7777777777777778,
              "#fb9f3a"
             ],
             [
              0.8888888888888888,
              "#fdca26"
             ],
             [
              1,
              "#f0f921"
             ]
            ],
            "type": "contour"
           }
          ],
          "contourcarpet": [
           {
            "colorbar": {
             "outlinewidth": 0,
             "ticks": ""
            },
            "type": "contourcarpet"
           }
          ],
          "heatmap": [
           {
            "colorbar": {
             "outlinewidth": 0,
             "ticks": ""
            },
            "colorscale": [
             [
              0,
              "#0d0887"
             ],
             [
              0.1111111111111111,
              "#46039f"
             ],
             [
              0.2222222222222222,
              "#7201a8"
             ],
             [
              0.3333333333333333,
              "#9c179e"
             ],
             [
              0.4444444444444444,
              "#bd3786"
             ],
             [
              0.5555555555555556,
              "#d8576b"
             ],
             [
              0.6666666666666666,
              "#ed7953"
             ],
             [
              0.7777777777777778,
              "#fb9f3a"
             ],
             [
              0.8888888888888888,
              "#fdca26"
             ],
             [
              1,
              "#f0f921"
             ]
            ],
            "type": "heatmap"
           }
          ],
          "heatmapgl": [
           {
            "colorbar": {
             "outlinewidth": 0,
             "ticks": ""
            },
            "colorscale": [
             [
              0,
              "#0d0887"
             ],
             [
              0.1111111111111111,
              "#46039f"
             ],
             [
              0.2222222222222222,
              "#7201a8"
             ],
             [
              0.3333333333333333,
              "#9c179e"
             ],
             [
              0.4444444444444444,
              "#bd3786"
             ],
             [
              0.5555555555555556,
              "#d8576b"
             ],
             [
              0.6666666666666666,
              "#ed7953"
             ],
             [
              0.7777777777777778,
              "#fb9f3a"
             ],
             [
              0.8888888888888888,
              "#fdca26"
             ],
             [
              1,
              "#f0f921"
             ]
            ],
            "type": "heatmapgl"
           }
          ],
          "histogram": [
           {
            "marker": {
             "pattern": {
              "fillmode": "overlay",
              "size": 10,
              "solidity": 0.2
             }
            },
            "type": "histogram"
           }
          ],
          "histogram2d": [
           {
            "colorbar": {
             "outlinewidth": 0,
             "ticks": ""
            },
            "colorscale": [
             [
              0,
              "#0d0887"
             ],
             [
              0.1111111111111111,
              "#46039f"
             ],
             [
              0.2222222222222222,
              "#7201a8"
             ],
             [
              0.3333333333333333,
              "#9c179e"
             ],
             [
              0.4444444444444444,
              "#bd3786"
             ],
             [
              0.5555555555555556,
              "#d8576b"
             ],
             [
              0.6666666666666666,
              "#ed7953"
             ],
             [
              0.7777777777777778,
              "#fb9f3a"
             ],
             [
              0.8888888888888888,
              "#fdca26"
             ],
             [
              1,
              "#f0f921"
             ]
            ],
            "type": "histogram2d"
           }
          ],
          "histogram2dcontour": [
           {
            "colorbar": {
             "outlinewidth": 0,
             "ticks": ""
            },
            "colorscale": [
             [
              0,
              "#0d0887"
             ],
             [
              0.1111111111111111,
              "#46039f"
             ],
             [
              0.2222222222222222,
              "#7201a8"
             ],
             [
              0.3333333333333333,
              "#9c179e"
             ],
             [
              0.4444444444444444,
              "#bd3786"
             ],
             [
              0.5555555555555556,
              "#d8576b"
             ],
             [
              0.6666666666666666,
              "#ed7953"
             ],
             [
              0.7777777777777778,
              "#fb9f3a"
             ],
             [
              0.8888888888888888,
              "#fdca26"
             ],
             [
              1,
              "#f0f921"
             ]
            ],
            "type": "histogram2dcontour"
           }
          ],
          "mesh3d": [
           {
            "colorbar": {
             "outlinewidth": 0,
             "ticks": ""
            },
            "type": "mesh3d"
           }
          ],
          "parcoords": [
           {
            "line": {
             "colorbar": {
              "outlinewidth": 0,
              "ticks": ""
             }
            },
            "type": "parcoords"
           }
          ],
          "pie": [
           {
            "automargin": true,
            "type": "pie"
           }
          ],
          "scatter": [
           {
            "fillpattern": {
             "fillmode": "overlay",
             "size": 10,
             "solidity": 0.2
            },
            "type": "scatter"
           }
          ],
          "scatter3d": [
           {
            "line": {
             "colorbar": {
              "outlinewidth": 0,
              "ticks": ""
             }
            },
            "marker": {
             "colorbar": {
              "outlinewidth": 0,
              "ticks": ""
             }
            },
            "type": "scatter3d"
           }
          ],
          "scattercarpet": [
           {
            "marker": {
             "colorbar": {
              "outlinewidth": 0,
              "ticks": ""
             }
            },
            "type": "scattercarpet"
           }
          ],
          "scattergeo": [
           {
            "marker": {
             "colorbar": {
              "outlinewidth": 0,
              "ticks": ""
             }
            },
            "type": "scattergeo"
           }
          ],
          "scattergl": [
           {
            "marker": {
             "colorbar": {
              "outlinewidth": 0,
              "ticks": ""
             }
            },
            "type": "scattergl"
           }
          ],
          "scattermapbox": [
           {
            "marker": {
             "colorbar": {
              "outlinewidth": 0,
              "ticks": ""
             }
            },
            "type": "scattermapbox"
           }
          ],
          "scatterpolar": [
           {
            "marker": {
             "colorbar": {
              "outlinewidth": 0,
              "ticks": ""
             }
            },
            "type": "scatterpolar"
           }
          ],
          "scatterpolargl": [
           {
            "marker": {
             "colorbar": {
              "outlinewidth": 0,
              "ticks": ""
             }
            },
            "type": "scatterpolargl"
           }
          ],
          "scatterternary": [
           {
            "marker": {
             "colorbar": {
              "outlinewidth": 0,
              "ticks": ""
             }
            },
            "type": "scatterternary"
           }
          ],
          "surface": [
           {
            "colorbar": {
             "outlinewidth": 0,
             "ticks": ""
            },
            "colorscale": [
             [
              0,
              "#0d0887"
             ],
             [
              0.1111111111111111,
              "#46039f"
             ],
             [
              0.2222222222222222,
              "#7201a8"
             ],
             [
              0.3333333333333333,
              "#9c179e"
             ],
             [
              0.4444444444444444,
              "#bd3786"
             ],
             [
              0.5555555555555556,
              "#d8576b"
             ],
             [
              0.6666666666666666,
              "#ed7953"
             ],
             [
              0.7777777777777778,
              "#fb9f3a"
             ],
             [
              0.8888888888888888,
              "#fdca26"
             ],
             [
              1,
              "#f0f921"
             ]
            ],
            "type": "surface"
           }
          ],
          "table": [
           {
            "cells": {
             "fill": {
              "color": "#EBF0F8"
             },
             "line": {
              "color": "white"
             }
            },
            "header": {
             "fill": {
              "color": "#C8D4E3"
             },
             "line": {
              "color": "white"
             }
            },
            "type": "table"
           }
          ]
         },
         "layout": {
          "annotationdefaults": {
           "arrowcolor": "#2a3f5f",
           "arrowhead": 0,
           "arrowwidth": 1
          },
          "autotypenumbers": "strict",
          "coloraxis": {
           "colorbar": {
            "outlinewidth": 0,
            "ticks": ""
           }
          },
          "colorscale": {
           "diverging": [
            [
             0,
             "#8e0152"
            ],
            [
             0.1,
             "#c51b7d"
            ],
            [
             0.2,
             "#de77ae"
            ],
            [
             0.3,
             "#f1b6da"
            ],
            [
             0.4,
             "#fde0ef"
            ],
            [
             0.5,
             "#f7f7f7"
            ],
            [
             0.6,
             "#e6f5d0"
            ],
            [
             0.7,
             "#b8e186"
            ],
            [
             0.8,
             "#7fbc41"
            ],
            [
             0.9,
             "#4d9221"
            ],
            [
             1,
             "#276419"
            ]
           ],
           "sequential": [
            [
             0,
             "#0d0887"
            ],
            [
             0.1111111111111111,
             "#46039f"
            ],
            [
             0.2222222222222222,
             "#7201a8"
            ],
            [
             0.3333333333333333,
             "#9c179e"
            ],
            [
             0.4444444444444444,
             "#bd3786"
            ],
            [
             0.5555555555555556,
             "#d8576b"
            ],
            [
             0.6666666666666666,
             "#ed7953"
            ],
            [
             0.7777777777777778,
             "#fb9f3a"
            ],
            [
             0.8888888888888888,
             "#fdca26"
            ],
            [
             1,
             "#f0f921"
            ]
           ],
           "sequentialminus": [
            [
             0,
             "#0d0887"
            ],
            [
             0.1111111111111111,
             "#46039f"
            ],
            [
             0.2222222222222222,
             "#7201a8"
            ],
            [
             0.3333333333333333,
             "#9c179e"
            ],
            [
             0.4444444444444444,
             "#bd3786"
            ],
            [
             0.5555555555555556,
             "#d8576b"
            ],
            [
             0.6666666666666666,
             "#ed7953"
            ],
            [
             0.7777777777777778,
             "#fb9f3a"
            ],
            [
             0.8888888888888888,
             "#fdca26"
            ],
            [
             1,
             "#f0f921"
            ]
           ]
          },
          "colorway": [
           "#636efa",
           "#EF553B",
           "#00cc96",
           "#ab63fa",
           "#FFA15A",
           "#19d3f3",
           "#FF6692",
           "#B6E880",
           "#FF97FF",
           "#FECB52"
          ],
          "font": {
           "color": "#2a3f5f"
          },
          "geo": {
           "bgcolor": "white",
           "lakecolor": "white",
           "landcolor": "#E5ECF6",
           "showlakes": true,
           "showland": true,
           "subunitcolor": "white"
          },
          "hoverlabel": {
           "align": "left"
          },
          "hovermode": "closest",
          "mapbox": {
           "style": "light"
          },
          "paper_bgcolor": "white",
          "plot_bgcolor": "#E5ECF6",
          "polar": {
           "angularaxis": {
            "gridcolor": "white",
            "linecolor": "white",
            "ticks": ""
           },
           "bgcolor": "#E5ECF6",
           "radialaxis": {
            "gridcolor": "white",
            "linecolor": "white",
            "ticks": ""
           }
          },
          "scene": {
           "xaxis": {
            "backgroundcolor": "#E5ECF6",
            "gridcolor": "white",
            "gridwidth": 2,
            "linecolor": "white",
            "showbackground": true,
            "ticks": "",
            "zerolinecolor": "white"
           },
           "yaxis": {
            "backgroundcolor": "#E5ECF6",
            "gridcolor": "white",
            "gridwidth": 2,
            "linecolor": "white",
            "showbackground": true,
            "ticks": "",
            "zerolinecolor": "white"
           },
           "zaxis": {
            "backgroundcolor": "#E5ECF6",
            "gridcolor": "white",
            "gridwidth": 2,
            "linecolor": "white",
            "showbackground": true,
            "ticks": "",
            "zerolinecolor": "white"
           }
          },
          "shapedefaults": {
           "line": {
            "color": "#2a3f5f"
           }
          },
          "ternary": {
           "aaxis": {
            "gridcolor": "white",
            "linecolor": "white",
            "ticks": ""
           },
           "baxis": {
            "gridcolor": "white",
            "linecolor": "white",
            "ticks": ""
           },
           "bgcolor": "#E5ECF6",
           "caxis": {
            "gridcolor": "white",
            "linecolor": "white",
            "ticks": ""
           }
          },
          "title": {
           "x": 0.05
          },
          "xaxis": {
           "automargin": true,
           "gridcolor": "white",
           "linecolor": "white",
           "ticks": "",
           "title": {
            "standoff": 15
           },
           "zerolinecolor": "white",
           "zerolinewidth": 2
          },
          "yaxis": {
           "automargin": true,
           "gridcolor": "white",
           "linecolor": "white",
           "ticks": "",
           "title": {
            "standoff": 15
           },
           "zerolinecolor": "white",
           "zerolinewidth": 2
          }
         }
        },
        "title": {
         "text": "Publication timeline"
        },
        "xaxis": {
         "anchor": "y",
         "domain": [
          0,
          1
         ],
         "linecolor": "black",
         "linewidth": 2,
         "showline": true,
         "tickformat": "%Y-%b-%d",
         "type": "date"
        },
        "yaxis": {
         "anchor": "x",
         "autorange": "reversed",
         "autotypenumbers": "convert types",
         "domain": [
          0,
          1
         ],
         "title": {
          "text": "Task ID"
         }
        }
       }
      }
     },
     "metadata": {},
     "output_type": "display_data"
    }
   ],
   "source": [
    "fig = px.timeline(publications, x_start=\"Start\", x_end=\"End\", y=\"Task ID\", hover_name='Participants',\n",
    "                  hover_data = {'Task ID': False,\n",
    "                                'Project':False,\n",
    "                                'Start':True,\n",
    "                                'End':True,\n",
    "                                'Description':True,\n",
    "                                'Participants':True,\n",
    "                                'Progress':True\n",
    "                                }, \n",
    "                  color_discrete_map={\"Finished task\": \"gray\"},\n",
    "                  color = 'Project', text = 'Description', height = 1000)\n",
    "fig.add_vline(x=today, line_width=1, line_color=\"black\")\n",
    "fig.update_layout(title= 'Publication timeline', xaxis_tickformat='%Y-%b-%d')\n",
    "fig.update_xaxes(showline=True, linewidth=2, linecolor='black')\n",
    "fig.update_yaxes(autotypenumbers=\"convert types\", autorange='reversed')\n",
    "fig.update_traces(textposition='outside')\n",
    "fig.show()\n",
    "fig.write_html(\"Publication timeline.html\")"
   ]
  },
  {
   "cell_type": "code",
   "execution_count": null,
   "metadata": {},
   "outputs": [],
   "source": []
  }
 ],
 "metadata": {
  "interpreter": {
   "hash": "f3b8284ce899ebe08b4eaad1618fbe38de5db88b4d88f1e988ebe3a629aad6dc"
  },
  "kernelspec": {
   "display_name": "Python 3.10.4 ('gantt-chart')",
   "language": "python",
   "name": "python3"
  },
  "language_info": {
   "codemirror_mode": {
    "name": "ipython",
    "version": 3
   },
   "file_extension": ".py",
   "mimetype": "text/x-python",
   "name": "python",
   "nbconvert_exporter": "python",
   "pygments_lexer": "ipython3",
   "version": "3.10.4"
  },
  "orig_nbformat": 4
 },
 "nbformat": 4,
 "nbformat_minor": 2
}
